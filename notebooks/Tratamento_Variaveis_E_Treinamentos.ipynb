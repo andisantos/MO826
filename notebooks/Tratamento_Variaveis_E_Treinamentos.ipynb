{
  "nbformat": 4,
  "nbformat_minor": 0,
  "metadata": {
    "accelerator": "TPU",
    "colab": {
      "name": "Tratamento_Variaveis_Regressao_Logistica2.ipynb",
      "provenance": [],
      "collapsed_sections": [],
      "machine_shape": "hm"
    },
    "kernelspec": {
      "display_name": "Python 3",
      "language": "python",
      "name": "python3"
    },
    "language_info": {
      "codemirror_mode": {
        "name": "ipython",
        "version": 3
      },
      "file_extension": ".py",
      "mimetype": "text/x-python",
      "name": "python",
      "nbconvert_exporter": "python",
      "pygments_lexer": "ipython3",
      "version": "3.6.4"
    }
  },
  "cells": [
    {
      "cell_type": "code",
      "metadata": {
        "id": "zR0dQltTtctf",
        "colab": {
          "base_uri": "https://localhost:8080/"
        },
        "outputId": "5e0451ae-6db0-4b9d-bbe2-178a81ba3247"
      },
      "source": [
        "!pip install unidecode\n",
        "\n",
        "import pandas as pd\n",
        "import unidecode\n",
        "import numpy as np\n",
        "from sklearn.model_selection import train_test_split\n",
        "import matplotlib.pyplot as plt \n",
        "import statsmodels.api as sm  \n",
        "import pylab as pl  \n",
        "from patsy import dmatrix \n",
        "from scipy import nanmean\n",
        "from numpy import nanmean\n",
        "from sklearn import tree\n",
        "from sklearn.tree import DecisionTreeClassifier,export_graphviz\n",
        "from sklearn.model_selection import train_test_split\n",
        "from sklearn import metrics\n",
        "from sklearn.linear_model import LogisticRegression\n",
        "from sklearn.ensemble import RandomForestClassifier\n",
        "from sklearn.model_selection import train_test_split\n",
        "from sklearn.metrics import confusion_matrix, classification_report\n",
        "from sklearn.metrics import roc_curve\n"
      ],
      "execution_count": 117,
      "outputs": [
        {
          "output_type": "stream",
          "text": [
            "Requirement already satisfied: unidecode in /usr/local/lib/python3.7/dist-packages (1.2.0)\n"
          ],
          "name": "stdout"
        }
      ]
    },
    {
      "cell_type": "code",
      "metadata": {
        "colab": {
          "base_uri": "https://localhost:8080/"
        },
        "id": "o7oyBn8OwOyR",
        "outputId": "9d25b9c5-284c-470c-fa3e-fa5ecf32972b"
      },
      "source": [
        "!unzip 'INFLUD-05-04-2021.zip'\n",
        "\n",
        "!unzip 'merged_datasets_datasus_ibgenoticias_v5.zip'"
      ],
      "execution_count": 2,
      "outputs": [
        {
          "output_type": "stream",
          "text": [
            "Archive:  INFLUD-05-04-2021.zip\n",
            "  inflating: INFLUD-05-04-2021.csv   \n",
            "Archive:  merged_datasets_datasus_ibgenoticias_v5.zip\n",
            "  inflating: merged_datasets_datasus_ibgenoticias_v5.csv  \n"
          ],
          "name": "stdout"
        }
      ]
    },
    {
      "cell_type": "code",
      "metadata": {
        "id": "fM8jhmBMsc7Z",
        "colab": {
          "base_uri": "https://localhost:8080/",
          "height": 279
        },
        "outputId": "0799d610-d677-4f63-b8e4-65d8b70d4f7b"
      },
      "source": [
        "df_main = pd.read_csv('INFLUD-05-04-2021.csv', sep=';')\n",
        "df_main.head(2)"
      ],
      "execution_count": 3,
      "outputs": [
        {
          "output_type": "stream",
          "text": [
            "/usr/local/lib/python3.7/dist-packages/IPython/core/interactiveshell.py:2718: DtypeWarning: Columns (15,18,60,62,63,64,92,94,106,108,115,117,118,119,123) have mixed types.Specify dtype option on import or set low_memory=False.\n",
            "  interactivity=interactivity, compiler=compiler, result=result)\n"
          ],
          "name": "stderr"
        },
        {
          "output_type": "execute_result",
          "data": {
            "text/html": [
              "<div>\n",
              "<style scoped>\n",
              "    .dataframe tbody tr th:only-of-type {\n",
              "        vertical-align: middle;\n",
              "    }\n",
              "\n",
              "    .dataframe tbody tr th {\n",
              "        vertical-align: top;\n",
              "    }\n",
              "\n",
              "    .dataframe thead th {\n",
              "        text-align: right;\n",
              "    }\n",
              "</style>\n",
              "<table border=\"1\" class=\"dataframe\">\n",
              "  <thead>\n",
              "    <tr style=\"text-align: right;\">\n",
              "      <th></th>\n",
              "      <th>DT_NOTIFIC</th>\n",
              "      <th>SEM_NOT</th>\n",
              "      <th>DT_SIN_PRI</th>\n",
              "      <th>SEM_PRI</th>\n",
              "      <th>SG_UF_NOT</th>\n",
              "      <th>ID_REGIONA</th>\n",
              "      <th>CO_REGIONA</th>\n",
              "      <th>ID_MUNICIP</th>\n",
              "      <th>CO_MUN_NOT</th>\n",
              "      <th>ID_UNIDADE</th>\n",
              "      <th>CO_UNI_NOT</th>\n",
              "      <th>CS_SEXO</th>\n",
              "      <th>DT_NASC</th>\n",
              "      <th>NU_IDADE_N</th>\n",
              "      <th>TP_IDADE</th>\n",
              "      <th>COD_IDADE</th>\n",
              "      <th>CS_GESTANT</th>\n",
              "      <th>CS_RACA</th>\n",
              "      <th>CS_ETINIA</th>\n",
              "      <th>CS_ESCOL_N</th>\n",
              "      <th>ID_PAIS</th>\n",
              "      <th>CO_PAIS</th>\n",
              "      <th>SG_UF</th>\n",
              "      <th>ID_RG_RESI</th>\n",
              "      <th>CO_RG_RESI</th>\n",
              "      <th>ID_MN_RESI</th>\n",
              "      <th>CO_MUN_RES</th>\n",
              "      <th>CS_ZONA</th>\n",
              "      <th>SURTO_SG</th>\n",
              "      <th>NOSOCOMIAL</th>\n",
              "      <th>AVE_SUINO</th>\n",
              "      <th>FEBRE</th>\n",
              "      <th>TOSSE</th>\n",
              "      <th>GARGANTA</th>\n",
              "      <th>DISPNEIA</th>\n",
              "      <th>DESC_RESP</th>\n",
              "      <th>SATURACAO</th>\n",
              "      <th>DIARREIA</th>\n",
              "      <th>VOMITO</th>\n",
              "      <th>OUTRO_SIN</th>\n",
              "      <th>...</th>\n",
              "      <th>HISTO_VGM</th>\n",
              "      <th>PAIS_VGM</th>\n",
              "      <th>CO_PS_VGM</th>\n",
              "      <th>LO_PS_VGM</th>\n",
              "      <th>DT_VGM</th>\n",
              "      <th>DT_RT_VGM</th>\n",
              "      <th>PCR_SARS2</th>\n",
              "      <th>PAC_COCBO</th>\n",
              "      <th>PAC_DSCBO</th>\n",
              "      <th>OUT_ANIM</th>\n",
              "      <th>DOR_ABD</th>\n",
              "      <th>FADIGA</th>\n",
              "      <th>PERD_OLFT</th>\n",
              "      <th>PERD_PALA</th>\n",
              "      <th>TOMO_RES</th>\n",
              "      <th>TOMO_OUT</th>\n",
              "      <th>DT_TOMO</th>\n",
              "      <th>TP_TES_AN</th>\n",
              "      <th>DT_RES_AN</th>\n",
              "      <th>RES_AN</th>\n",
              "      <th>POS_AN_FLU</th>\n",
              "      <th>TP_FLU_AN</th>\n",
              "      <th>POS_AN_OUT</th>\n",
              "      <th>AN_SARS2</th>\n",
              "      <th>AN_VSR</th>\n",
              "      <th>AN_PARA1</th>\n",
              "      <th>AN_PARA2</th>\n",
              "      <th>AN_PARA3</th>\n",
              "      <th>AN_ADENO</th>\n",
              "      <th>AN_OUTRO</th>\n",
              "      <th>DS_AN_OUT</th>\n",
              "      <th>TP_AM_SOR</th>\n",
              "      <th>SOR_OUT</th>\n",
              "      <th>DT_CO_SOR</th>\n",
              "      <th>TP_SOR</th>\n",
              "      <th>OUT_SOR</th>\n",
              "      <th>DT_RES</th>\n",
              "      <th>RES_IGG</th>\n",
              "      <th>RES_IGM</th>\n",
              "      <th>RES_IGA</th>\n",
              "    </tr>\n",
              "  </thead>\n",
              "  <tbody>\n",
              "    <tr>\n",
              "      <th>0</th>\n",
              "      <td>14/01/2020</td>\n",
              "      <td>3</td>\n",
              "      <td>07/01/2020</td>\n",
              "      <td>2</td>\n",
              "      <td>SP</td>\n",
              "      <td>GVE I CAPITAL</td>\n",
              "      <td>1331.0</td>\n",
              "      <td>SAO PAULO</td>\n",
              "      <td>355030</td>\n",
              "      <td>HOSPITAL SAO LUIZ GONZAGA</td>\n",
              "      <td>2076896</td>\n",
              "      <td>F</td>\n",
              "      <td>27/04/2019</td>\n",
              "      <td>9</td>\n",
              "      <td>2</td>\n",
              "      <td>2009</td>\n",
              "      <td>6</td>\n",
              "      <td>4.0</td>\n",
              "      <td>NaN</td>\n",
              "      <td>5.0</td>\n",
              "      <td>BRASIL</td>\n",
              "      <td>1</td>\n",
              "      <td>SP</td>\n",
              "      <td>GVE I CAPITAL</td>\n",
              "      <td>1331.0</td>\n",
              "      <td>SAO PAULO</td>\n",
              "      <td>355030.0</td>\n",
              "      <td>1.0</td>\n",
              "      <td>2.0</td>\n",
              "      <td>2.0</td>\n",
              "      <td>2.0</td>\n",
              "      <td>1.0</td>\n",
              "      <td>1.0</td>\n",
              "      <td>2.0</td>\n",
              "      <td>1.0</td>\n",
              "      <td>1.0</td>\n",
              "      <td>1.0</td>\n",
              "      <td>2.0</td>\n",
              "      <td>2.0</td>\n",
              "      <td>9.0</td>\n",
              "      <td>...</td>\n",
              "      <td>0</td>\n",
              "      <td>NaN</td>\n",
              "      <td>NaN</td>\n",
              "      <td>NaN</td>\n",
              "      <td>NaN</td>\n",
              "      <td>NaN</td>\n",
              "      <td>NaN</td>\n",
              "      <td>NaN</td>\n",
              "      <td>NaN</td>\n",
              "      <td>NaN</td>\n",
              "      <td>NaN</td>\n",
              "      <td>NaN</td>\n",
              "      <td>NaN</td>\n",
              "      <td>NaN</td>\n",
              "      <td>NaN</td>\n",
              "      <td>NaN</td>\n",
              "      <td>NaN</td>\n",
              "      <td>1.0</td>\n",
              "      <td>NaN</td>\n",
              "      <td>4.0</td>\n",
              "      <td>NaN</td>\n",
              "      <td>NaN</td>\n",
              "      <td>NaN</td>\n",
              "      <td>NaN</td>\n",
              "      <td>NaN</td>\n",
              "      <td>NaN</td>\n",
              "      <td>NaN</td>\n",
              "      <td>NaN</td>\n",
              "      <td>NaN</td>\n",
              "      <td>NaN</td>\n",
              "      <td>NaN</td>\n",
              "      <td>NaN</td>\n",
              "      <td>NaN</td>\n",
              "      <td>NaN</td>\n",
              "      <td>NaN</td>\n",
              "      <td>NaN</td>\n",
              "      <td>NaN</td>\n",
              "      <td>NaN</td>\n",
              "      <td>NaN</td>\n",
              "      <td>NaN</td>\n",
              "    </tr>\n",
              "    <tr>\n",
              "      <th>1</th>\n",
              "      <td>28/01/2020</td>\n",
              "      <td>5</td>\n",
              "      <td>27/01/2020</td>\n",
              "      <td>5</td>\n",
              "      <td>SP</td>\n",
              "      <td>GVE I CAPITAL</td>\n",
              "      <td>1331.0</td>\n",
              "      <td>SAO PAULO</td>\n",
              "      <td>355030</td>\n",
              "      <td>HOSPITAL SAO CAMILO SANTANA</td>\n",
              "      <td>3039420</td>\n",
              "      <td>M</td>\n",
              "      <td>09/03/2019</td>\n",
              "      <td>10</td>\n",
              "      <td>2</td>\n",
              "      <td>2010</td>\n",
              "      <td>6</td>\n",
              "      <td>9.0</td>\n",
              "      <td>NaN</td>\n",
              "      <td>5.0</td>\n",
              "      <td>BRASIL</td>\n",
              "      <td>1</td>\n",
              "      <td>SP</td>\n",
              "      <td>GVE I CAPITAL</td>\n",
              "      <td>1331.0</td>\n",
              "      <td>SAO PAULO</td>\n",
              "      <td>355030.0</td>\n",
              "      <td>1.0</td>\n",
              "      <td>9.0</td>\n",
              "      <td>9.0</td>\n",
              "      <td>9.0</td>\n",
              "      <td>1.0</td>\n",
              "      <td>1.0</td>\n",
              "      <td>9.0</td>\n",
              "      <td>1.0</td>\n",
              "      <td>1.0</td>\n",
              "      <td>9.0</td>\n",
              "      <td>9.0</td>\n",
              "      <td>9.0</td>\n",
              "      <td>9.0</td>\n",
              "      <td>...</td>\n",
              "      <td>0</td>\n",
              "      <td>NaN</td>\n",
              "      <td>NaN</td>\n",
              "      <td>NaN</td>\n",
              "      <td>NaN</td>\n",
              "      <td>NaN</td>\n",
              "      <td>NaN</td>\n",
              "      <td>NaN</td>\n",
              "      <td>NaN</td>\n",
              "      <td>NaN</td>\n",
              "      <td>NaN</td>\n",
              "      <td>NaN</td>\n",
              "      <td>NaN</td>\n",
              "      <td>NaN</td>\n",
              "      <td>NaN</td>\n",
              "      <td>NaN</td>\n",
              "      <td>NaN</td>\n",
              "      <td>1.0</td>\n",
              "      <td>NaN</td>\n",
              "      <td>5.0</td>\n",
              "      <td>NaN</td>\n",
              "      <td>NaN</td>\n",
              "      <td>NaN</td>\n",
              "      <td>NaN</td>\n",
              "      <td>NaN</td>\n",
              "      <td>NaN</td>\n",
              "      <td>NaN</td>\n",
              "      <td>NaN</td>\n",
              "      <td>NaN</td>\n",
              "      <td>NaN</td>\n",
              "      <td>NaN</td>\n",
              "      <td>NaN</td>\n",
              "      <td>NaN</td>\n",
              "      <td>NaN</td>\n",
              "      <td>NaN</td>\n",
              "      <td>NaN</td>\n",
              "      <td>NaN</td>\n",
              "      <td>NaN</td>\n",
              "      <td>NaN</td>\n",
              "      <td>NaN</td>\n",
              "    </tr>\n",
              "  </tbody>\n",
              "</table>\n",
              "<p>2 rows × 154 columns</p>\n",
              "</div>"
            ],
            "text/plain": [
              "   DT_NOTIFIC  SEM_NOT  DT_SIN_PRI  SEM_PRI  ... DT_RES RES_IGG  RES_IGM RES_IGA\n",
              "0  14/01/2020        3  07/01/2020        2  ...    NaN     NaN      NaN     NaN\n",
              "1  28/01/2020        5  27/01/2020        5  ...    NaN     NaN      NaN     NaN\n",
              "\n",
              "[2 rows x 154 columns]"
            ]
          },
          "metadata": {
            "tags": []
          },
          "execution_count": 3
        }
      ]
    },
    {
      "cell_type": "code",
      "metadata": {
        "id": "Hl6ZUUecqUM4",
        "colab": {
          "base_uri": "https://localhost:8080/"
        },
        "outputId": "0924682b-8794-43d4-89ec-dd09bbe475b0"
      },
      "source": [
        "df_main.shape"
      ],
      "execution_count": 4,
      "outputs": [
        {
          "output_type": "execute_result",
          "data": {
            "text/plain": [
              "(1189743, 154)"
            ]
          },
          "metadata": {
            "tags": []
          },
          "execution_count": 4
        }
      ]
    },
    {
      "cell_type": "code",
      "metadata": {
        "id": "hXif6ymBsc7b",
        "colab": {
          "base_uri": "https://localhost:8080/",
          "height": 216
        },
        "outputId": "eabda828-3ae5-4a02-809b-70b73e84f11e"
      },
      "source": [
        "df_demais = pd.read_csv('merged_datasets_datasus_ibgenoticias_v5.csv', sep=',')\n",
        "df_demais.head(2)"
      ],
      "execution_count": 5,
      "outputs": [
        {
          "output_type": "execute_result",
          "data": {
            "text/html": [
              "<div>\n",
              "<style scoped>\n",
              "    .dataframe tbody tr th:only-of-type {\n",
              "        vertical-align: middle;\n",
              "    }\n",
              "\n",
              "    .dataframe tbody tr th {\n",
              "        vertical-align: top;\n",
              "    }\n",
              "\n",
              "    .dataframe thead th {\n",
              "        text-align: right;\n",
              "    }\n",
              "</style>\n",
              "<table border=\"1\" class=\"dataframe\">\n",
              "  <thead>\n",
              "    <tr style=\"text-align: right;\">\n",
              "      <th></th>\n",
              "      <th>ID_MN_RESI</th>\n",
              "      <th>SG_UF</th>\n",
              "      <th>DT_NOTIFIC</th>\n",
              "      <th>ocupacaoSuspeitoCli</th>\n",
              "      <th>ocupacaoSuspeitoUti</th>\n",
              "      <th>ocupacaoConfirmadoCli</th>\n",
              "      <th>ocupacaoConfirmadoUti</th>\n",
              "      <th>saidaSuspeitaObitos</th>\n",
              "      <th>saidaSuspeitaAltas</th>\n",
              "      <th>saidaConfirmadaObitos</th>\n",
              "      <th>saidaConfirmadaAltas</th>\n",
              "      <th>População Estimada (2019)</th>\n",
              "      <th>Total de Enfermeiros</th>\n",
              "      <th>Enfermeiros do SUS</th>\n",
              "      <th>Enfermeiros a cada 100 mil habitantes</th>\n",
              "      <th>Enfermeiros do SUS a cada 100 mil habitantes</th>\n",
              "      <th>Total de médicos</th>\n",
              "      <th>Médicos do SUS</th>\n",
              "      <th>Médicos a cada 100 mil habitantes</th>\n",
              "      <th>Médicos do SUS a cada 100 mil habitantes</th>\n",
              "      <th>Total de Respiradores</th>\n",
              "      <th>Respiradores a cada 100 mil habitantes</th>\n",
              "      <th>Respiradores do SUS a cada 100 mil habitantes</th>\n",
              "      <th>Total de Respiradores do SUS</th>\n",
              "      <th>Total de Leitos de UTI</th>\n",
              "      <th>Leitos de UTI a cada 100 mil habitantes</th>\n",
              "      <th>Leitos de UTI do SUS</th>\n",
              "      <th>Leitos do SUS a cada 100 mil habitantes</th>\n",
              "      <th>Trabalhadores informais na unidade da Federação (julho 2019)</th>\n",
              "      <th>Trabalhadores informais nas Regiões Metropolitas (julho 2019)</th>\n",
              "      <th>Trabalhadores informais Capital (julho 2019)</th>\n",
              "      <th>Trabalhadores informais no Interior (julho 2019)</th>\n",
              "    </tr>\n",
              "  </thead>\n",
              "  <tbody>\n",
              "    <tr>\n",
              "      <th>0</th>\n",
              "      <td>ITAPEMA</td>\n",
              "      <td>SC</td>\n",
              "      <td>14/04/2020</td>\n",
              "      <td>0.0</td>\n",
              "      <td>0.0</td>\n",
              "      <td>0.0</td>\n",
              "      <td>0.0</td>\n",
              "      <td>0.0</td>\n",
              "      <td>0.0</td>\n",
              "      <td>0.0</td>\n",
              "      <td>0.0</td>\n",
              "      <td>65312.0</td>\n",
              "      <td>36.0</td>\n",
              "      <td>35.0</td>\n",
              "      <td>55.120039</td>\n",
              "      <td>53.588927</td>\n",
              "      <td>63.0</td>\n",
              "      <td>33.0</td>\n",
              "      <td>96.460069</td>\n",
              "      <td>50.526703</td>\n",
              "      <td>0.0</td>\n",
              "      <td>0.000000</td>\n",
              "      <td>0.00000</td>\n",
              "      <td>0.0</td>\n",
              "      <td>0.0</td>\n",
              "      <td>0.000000</td>\n",
              "      <td>0.0</td>\n",
              "      <td>0.000000</td>\n",
              "      <td>246144.9512</td>\n",
              "      <td>46269.2774</td>\n",
              "      <td>27553.9531</td>\n",
              "      <td>199875.6738</td>\n",
              "    </tr>\n",
              "    <tr>\n",
              "      <th>1</th>\n",
              "      <td>RIO DE JANEIRO</td>\n",
              "      <td>RJ</td>\n",
              "      <td>15/04/2020</td>\n",
              "      <td>1.0</td>\n",
              "      <td>0.0</td>\n",
              "      <td>0.0</td>\n",
              "      <td>0.0</td>\n",
              "      <td>0.0</td>\n",
              "      <td>1.0</td>\n",
              "      <td>0.0</td>\n",
              "      <td>0.0</td>\n",
              "      <td>6718903.0</td>\n",
              "      <td>12921.0</td>\n",
              "      <td>9710.0</td>\n",
              "      <td>192.308179</td>\n",
              "      <td>144.517639</td>\n",
              "      <td>22073.0</td>\n",
              "      <td>13875.0</td>\n",
              "      <td>328.520891</td>\n",
              "      <td>206.506925</td>\n",
              "      <td>4253.0</td>\n",
              "      <td>63.299024</td>\n",
              "      <td>32.52019</td>\n",
              "      <td>2185.0</td>\n",
              "      <td>2587.0</td>\n",
              "      <td>38.503309</td>\n",
              "      <td>516.0</td>\n",
              "      <td>7.679825</td>\n",
              "      <td>400968.4169</td>\n",
              "      <td>283551.4756</td>\n",
              "      <td>178536.6888</td>\n",
              "      <td>117416.9413</td>\n",
              "    </tr>\n",
              "  </tbody>\n",
              "</table>\n",
              "</div>"
            ],
            "text/plain": [
              "       ID_MN_RESI  ... Trabalhadores informais no Interior (julho 2019)\n",
              "0         ITAPEMA  ...                                      199875.6738\n",
              "1  RIO DE JANEIRO  ...                                      117416.9413\n",
              "\n",
              "[2 rows x 32 columns]"
            ]
          },
          "metadata": {
            "tags": []
          },
          "execution_count": 5
        }
      ]
    },
    {
      "cell_type": "code",
      "metadata": {
        "id": "PHPBfDCOqUM7",
        "colab": {
          "base_uri": "https://localhost:8080/"
        },
        "outputId": "d2bfadad-3ba6-486e-b20c-5f83f02493f3"
      },
      "source": [
        "df_demais.shape"
      ],
      "execution_count": 6,
      "outputs": [
        {
          "output_type": "execute_result",
          "data": {
            "text/plain": [
              "(819947, 32)"
            ]
          },
          "metadata": {
            "tags": []
          },
          "execution_count": 6
        }
      ]
    },
    {
      "cell_type": "code",
      "metadata": {
        "id": "nlMinmzOsc7c",
        "colab": {
          "base_uri": "https://localhost:8080/",
          "height": 216
        },
        "outputId": "ce610b24-dcc1-4786-e5df-4c89a5928909"
      },
      "source": [
        "df_demais = df_demais.rename(columns={'ID_MN_RESI':'ID_MUNICIP'})\n",
        "df_demais = df_demais.rename(columns={'SG_UF': 'SG_UF_NOT'})\n",
        "df_demais.head(2)"
      ],
      "execution_count": 7,
      "outputs": [
        {
          "output_type": "execute_result",
          "data": {
            "text/html": [
              "<div>\n",
              "<style scoped>\n",
              "    .dataframe tbody tr th:only-of-type {\n",
              "        vertical-align: middle;\n",
              "    }\n",
              "\n",
              "    .dataframe tbody tr th {\n",
              "        vertical-align: top;\n",
              "    }\n",
              "\n",
              "    .dataframe thead th {\n",
              "        text-align: right;\n",
              "    }\n",
              "</style>\n",
              "<table border=\"1\" class=\"dataframe\">\n",
              "  <thead>\n",
              "    <tr style=\"text-align: right;\">\n",
              "      <th></th>\n",
              "      <th>ID_MUNICIP</th>\n",
              "      <th>SG_UF_NOT</th>\n",
              "      <th>DT_NOTIFIC</th>\n",
              "      <th>ocupacaoSuspeitoCli</th>\n",
              "      <th>ocupacaoSuspeitoUti</th>\n",
              "      <th>ocupacaoConfirmadoCli</th>\n",
              "      <th>ocupacaoConfirmadoUti</th>\n",
              "      <th>saidaSuspeitaObitos</th>\n",
              "      <th>saidaSuspeitaAltas</th>\n",
              "      <th>saidaConfirmadaObitos</th>\n",
              "      <th>saidaConfirmadaAltas</th>\n",
              "      <th>População Estimada (2019)</th>\n",
              "      <th>Total de Enfermeiros</th>\n",
              "      <th>Enfermeiros do SUS</th>\n",
              "      <th>Enfermeiros a cada 100 mil habitantes</th>\n",
              "      <th>Enfermeiros do SUS a cada 100 mil habitantes</th>\n",
              "      <th>Total de médicos</th>\n",
              "      <th>Médicos do SUS</th>\n",
              "      <th>Médicos a cada 100 mil habitantes</th>\n",
              "      <th>Médicos do SUS a cada 100 mil habitantes</th>\n",
              "      <th>Total de Respiradores</th>\n",
              "      <th>Respiradores a cada 100 mil habitantes</th>\n",
              "      <th>Respiradores do SUS a cada 100 mil habitantes</th>\n",
              "      <th>Total de Respiradores do SUS</th>\n",
              "      <th>Total de Leitos de UTI</th>\n",
              "      <th>Leitos de UTI a cada 100 mil habitantes</th>\n",
              "      <th>Leitos de UTI do SUS</th>\n",
              "      <th>Leitos do SUS a cada 100 mil habitantes</th>\n",
              "      <th>Trabalhadores informais na unidade da Federação (julho 2019)</th>\n",
              "      <th>Trabalhadores informais nas Regiões Metropolitas (julho 2019)</th>\n",
              "      <th>Trabalhadores informais Capital (julho 2019)</th>\n",
              "      <th>Trabalhadores informais no Interior (julho 2019)</th>\n",
              "    </tr>\n",
              "  </thead>\n",
              "  <tbody>\n",
              "    <tr>\n",
              "      <th>0</th>\n",
              "      <td>ITAPEMA</td>\n",
              "      <td>SC</td>\n",
              "      <td>14/04/2020</td>\n",
              "      <td>0.0</td>\n",
              "      <td>0.0</td>\n",
              "      <td>0.0</td>\n",
              "      <td>0.0</td>\n",
              "      <td>0.0</td>\n",
              "      <td>0.0</td>\n",
              "      <td>0.0</td>\n",
              "      <td>0.0</td>\n",
              "      <td>65312.0</td>\n",
              "      <td>36.0</td>\n",
              "      <td>35.0</td>\n",
              "      <td>55.120039</td>\n",
              "      <td>53.588927</td>\n",
              "      <td>63.0</td>\n",
              "      <td>33.0</td>\n",
              "      <td>96.460069</td>\n",
              "      <td>50.526703</td>\n",
              "      <td>0.0</td>\n",
              "      <td>0.000000</td>\n",
              "      <td>0.00000</td>\n",
              "      <td>0.0</td>\n",
              "      <td>0.0</td>\n",
              "      <td>0.000000</td>\n",
              "      <td>0.0</td>\n",
              "      <td>0.000000</td>\n",
              "      <td>246144.9512</td>\n",
              "      <td>46269.2774</td>\n",
              "      <td>27553.9531</td>\n",
              "      <td>199875.6738</td>\n",
              "    </tr>\n",
              "    <tr>\n",
              "      <th>1</th>\n",
              "      <td>RIO DE JANEIRO</td>\n",
              "      <td>RJ</td>\n",
              "      <td>15/04/2020</td>\n",
              "      <td>1.0</td>\n",
              "      <td>0.0</td>\n",
              "      <td>0.0</td>\n",
              "      <td>0.0</td>\n",
              "      <td>0.0</td>\n",
              "      <td>1.0</td>\n",
              "      <td>0.0</td>\n",
              "      <td>0.0</td>\n",
              "      <td>6718903.0</td>\n",
              "      <td>12921.0</td>\n",
              "      <td>9710.0</td>\n",
              "      <td>192.308179</td>\n",
              "      <td>144.517639</td>\n",
              "      <td>22073.0</td>\n",
              "      <td>13875.0</td>\n",
              "      <td>328.520891</td>\n",
              "      <td>206.506925</td>\n",
              "      <td>4253.0</td>\n",
              "      <td>63.299024</td>\n",
              "      <td>32.52019</td>\n",
              "      <td>2185.0</td>\n",
              "      <td>2587.0</td>\n",
              "      <td>38.503309</td>\n",
              "      <td>516.0</td>\n",
              "      <td>7.679825</td>\n",
              "      <td>400968.4169</td>\n",
              "      <td>283551.4756</td>\n",
              "      <td>178536.6888</td>\n",
              "      <td>117416.9413</td>\n",
              "    </tr>\n",
              "  </tbody>\n",
              "</table>\n",
              "</div>"
            ],
            "text/plain": [
              "       ID_MUNICIP  ... Trabalhadores informais no Interior (julho 2019)\n",
              "0         ITAPEMA  ...                                      199875.6738\n",
              "1  RIO DE JANEIRO  ...                                      117416.9413\n",
              "\n",
              "[2 rows x 32 columns]"
            ]
          },
          "metadata": {
            "tags": []
          },
          "execution_count": 7
        }
      ]
    },
    {
      "cell_type": "code",
      "metadata": {
        "colab": {
          "base_uri": "https://localhost:8080/",
          "height": 216
        },
        "id": "GmkuANLJdoIw",
        "outputId": "5ccc8a2b-688b-43d8-8426-f4163a728b9c"
      },
      "source": [
        "df_demais['concat'] = df_demais['ID_MUNICIP'] + df_demais['SG_UF_NOT'] + df_demais['DT_NOTIFIC']\n",
        "df_demais.head(2)"
      ],
      "execution_count": 8,
      "outputs": [
        {
          "output_type": "execute_result",
          "data": {
            "text/html": [
              "<div>\n",
              "<style scoped>\n",
              "    .dataframe tbody tr th:only-of-type {\n",
              "        vertical-align: middle;\n",
              "    }\n",
              "\n",
              "    .dataframe tbody tr th {\n",
              "        vertical-align: top;\n",
              "    }\n",
              "\n",
              "    .dataframe thead th {\n",
              "        text-align: right;\n",
              "    }\n",
              "</style>\n",
              "<table border=\"1\" class=\"dataframe\">\n",
              "  <thead>\n",
              "    <tr style=\"text-align: right;\">\n",
              "      <th></th>\n",
              "      <th>ID_MUNICIP</th>\n",
              "      <th>SG_UF_NOT</th>\n",
              "      <th>DT_NOTIFIC</th>\n",
              "      <th>ocupacaoSuspeitoCli</th>\n",
              "      <th>ocupacaoSuspeitoUti</th>\n",
              "      <th>ocupacaoConfirmadoCli</th>\n",
              "      <th>ocupacaoConfirmadoUti</th>\n",
              "      <th>saidaSuspeitaObitos</th>\n",
              "      <th>saidaSuspeitaAltas</th>\n",
              "      <th>saidaConfirmadaObitos</th>\n",
              "      <th>saidaConfirmadaAltas</th>\n",
              "      <th>População Estimada (2019)</th>\n",
              "      <th>Total de Enfermeiros</th>\n",
              "      <th>Enfermeiros do SUS</th>\n",
              "      <th>Enfermeiros a cada 100 mil habitantes</th>\n",
              "      <th>Enfermeiros do SUS a cada 100 mil habitantes</th>\n",
              "      <th>Total de médicos</th>\n",
              "      <th>Médicos do SUS</th>\n",
              "      <th>Médicos a cada 100 mil habitantes</th>\n",
              "      <th>Médicos do SUS a cada 100 mil habitantes</th>\n",
              "      <th>Total de Respiradores</th>\n",
              "      <th>Respiradores a cada 100 mil habitantes</th>\n",
              "      <th>Respiradores do SUS a cada 100 mil habitantes</th>\n",
              "      <th>Total de Respiradores do SUS</th>\n",
              "      <th>Total de Leitos de UTI</th>\n",
              "      <th>Leitos de UTI a cada 100 mil habitantes</th>\n",
              "      <th>Leitos de UTI do SUS</th>\n",
              "      <th>Leitos do SUS a cada 100 mil habitantes</th>\n",
              "      <th>Trabalhadores informais na unidade da Federação (julho 2019)</th>\n",
              "      <th>Trabalhadores informais nas Regiões Metropolitas (julho 2019)</th>\n",
              "      <th>Trabalhadores informais Capital (julho 2019)</th>\n",
              "      <th>Trabalhadores informais no Interior (julho 2019)</th>\n",
              "      <th>concat</th>\n",
              "    </tr>\n",
              "  </thead>\n",
              "  <tbody>\n",
              "    <tr>\n",
              "      <th>0</th>\n",
              "      <td>ITAPEMA</td>\n",
              "      <td>SC</td>\n",
              "      <td>14/04/2020</td>\n",
              "      <td>0.0</td>\n",
              "      <td>0.0</td>\n",
              "      <td>0.0</td>\n",
              "      <td>0.0</td>\n",
              "      <td>0.0</td>\n",
              "      <td>0.0</td>\n",
              "      <td>0.0</td>\n",
              "      <td>0.0</td>\n",
              "      <td>65312.0</td>\n",
              "      <td>36.0</td>\n",
              "      <td>35.0</td>\n",
              "      <td>55.120039</td>\n",
              "      <td>53.588927</td>\n",
              "      <td>63.0</td>\n",
              "      <td>33.0</td>\n",
              "      <td>96.460069</td>\n",
              "      <td>50.526703</td>\n",
              "      <td>0.0</td>\n",
              "      <td>0.000000</td>\n",
              "      <td>0.00000</td>\n",
              "      <td>0.0</td>\n",
              "      <td>0.0</td>\n",
              "      <td>0.000000</td>\n",
              "      <td>0.0</td>\n",
              "      <td>0.000000</td>\n",
              "      <td>246144.9512</td>\n",
              "      <td>46269.2774</td>\n",
              "      <td>27553.9531</td>\n",
              "      <td>199875.6738</td>\n",
              "      <td>ITAPEMASC14/04/2020</td>\n",
              "    </tr>\n",
              "    <tr>\n",
              "      <th>1</th>\n",
              "      <td>RIO DE JANEIRO</td>\n",
              "      <td>RJ</td>\n",
              "      <td>15/04/2020</td>\n",
              "      <td>1.0</td>\n",
              "      <td>0.0</td>\n",
              "      <td>0.0</td>\n",
              "      <td>0.0</td>\n",
              "      <td>0.0</td>\n",
              "      <td>1.0</td>\n",
              "      <td>0.0</td>\n",
              "      <td>0.0</td>\n",
              "      <td>6718903.0</td>\n",
              "      <td>12921.0</td>\n",
              "      <td>9710.0</td>\n",
              "      <td>192.308179</td>\n",
              "      <td>144.517639</td>\n",
              "      <td>22073.0</td>\n",
              "      <td>13875.0</td>\n",
              "      <td>328.520891</td>\n",
              "      <td>206.506925</td>\n",
              "      <td>4253.0</td>\n",
              "      <td>63.299024</td>\n",
              "      <td>32.52019</td>\n",
              "      <td>2185.0</td>\n",
              "      <td>2587.0</td>\n",
              "      <td>38.503309</td>\n",
              "      <td>516.0</td>\n",
              "      <td>7.679825</td>\n",
              "      <td>400968.4169</td>\n",
              "      <td>283551.4756</td>\n",
              "      <td>178536.6888</td>\n",
              "      <td>117416.9413</td>\n",
              "      <td>RIO DE JANEIRORJ15/04/2020</td>\n",
              "    </tr>\n",
              "  </tbody>\n",
              "</table>\n",
              "</div>"
            ],
            "text/plain": [
              "       ID_MUNICIP  ...                      concat\n",
              "0         ITAPEMA  ...         ITAPEMASC14/04/2020\n",
              "1  RIO DE JANEIRO  ...  RIO DE JANEIRORJ15/04/2020\n",
              "\n",
              "[2 rows x 33 columns]"
            ]
          },
          "metadata": {
            "tags": []
          },
          "execution_count": 8
        }
      ]
    },
    {
      "cell_type": "code",
      "metadata": {
        "colab": {
          "base_uri": "https://localhost:8080/",
          "height": 245
        },
        "id": "PbQYzFOxfREJ",
        "outputId": "5f4b572c-d205-4b5e-f9dd-791b6c3156c7"
      },
      "source": [
        "df_main['concat'] = df_main['ID_MUNICIP'] + df_main['SG_UF_NOT'] + df_main['DT_NOTIFIC']\n",
        "df_main.head(2)"
      ],
      "execution_count": 9,
      "outputs": [
        {
          "output_type": "execute_result",
          "data": {
            "text/html": [
              "<div>\n",
              "<style scoped>\n",
              "    .dataframe tbody tr th:only-of-type {\n",
              "        vertical-align: middle;\n",
              "    }\n",
              "\n",
              "    .dataframe tbody tr th {\n",
              "        vertical-align: top;\n",
              "    }\n",
              "\n",
              "    .dataframe thead th {\n",
              "        text-align: right;\n",
              "    }\n",
              "</style>\n",
              "<table border=\"1\" class=\"dataframe\">\n",
              "  <thead>\n",
              "    <tr style=\"text-align: right;\">\n",
              "      <th></th>\n",
              "      <th>DT_NOTIFIC</th>\n",
              "      <th>SEM_NOT</th>\n",
              "      <th>DT_SIN_PRI</th>\n",
              "      <th>SEM_PRI</th>\n",
              "      <th>SG_UF_NOT</th>\n",
              "      <th>ID_REGIONA</th>\n",
              "      <th>CO_REGIONA</th>\n",
              "      <th>ID_MUNICIP</th>\n",
              "      <th>CO_MUN_NOT</th>\n",
              "      <th>ID_UNIDADE</th>\n",
              "      <th>CO_UNI_NOT</th>\n",
              "      <th>CS_SEXO</th>\n",
              "      <th>DT_NASC</th>\n",
              "      <th>NU_IDADE_N</th>\n",
              "      <th>TP_IDADE</th>\n",
              "      <th>COD_IDADE</th>\n",
              "      <th>CS_GESTANT</th>\n",
              "      <th>CS_RACA</th>\n",
              "      <th>CS_ETINIA</th>\n",
              "      <th>CS_ESCOL_N</th>\n",
              "      <th>ID_PAIS</th>\n",
              "      <th>CO_PAIS</th>\n",
              "      <th>SG_UF</th>\n",
              "      <th>ID_RG_RESI</th>\n",
              "      <th>CO_RG_RESI</th>\n",
              "      <th>ID_MN_RESI</th>\n",
              "      <th>CO_MUN_RES</th>\n",
              "      <th>CS_ZONA</th>\n",
              "      <th>SURTO_SG</th>\n",
              "      <th>NOSOCOMIAL</th>\n",
              "      <th>AVE_SUINO</th>\n",
              "      <th>FEBRE</th>\n",
              "      <th>TOSSE</th>\n",
              "      <th>GARGANTA</th>\n",
              "      <th>DISPNEIA</th>\n",
              "      <th>DESC_RESP</th>\n",
              "      <th>SATURACAO</th>\n",
              "      <th>DIARREIA</th>\n",
              "      <th>VOMITO</th>\n",
              "      <th>OUTRO_SIN</th>\n",
              "      <th>...</th>\n",
              "      <th>PAIS_VGM</th>\n",
              "      <th>CO_PS_VGM</th>\n",
              "      <th>LO_PS_VGM</th>\n",
              "      <th>DT_VGM</th>\n",
              "      <th>DT_RT_VGM</th>\n",
              "      <th>PCR_SARS2</th>\n",
              "      <th>PAC_COCBO</th>\n",
              "      <th>PAC_DSCBO</th>\n",
              "      <th>OUT_ANIM</th>\n",
              "      <th>DOR_ABD</th>\n",
              "      <th>FADIGA</th>\n",
              "      <th>PERD_OLFT</th>\n",
              "      <th>PERD_PALA</th>\n",
              "      <th>TOMO_RES</th>\n",
              "      <th>TOMO_OUT</th>\n",
              "      <th>DT_TOMO</th>\n",
              "      <th>TP_TES_AN</th>\n",
              "      <th>DT_RES_AN</th>\n",
              "      <th>RES_AN</th>\n",
              "      <th>POS_AN_FLU</th>\n",
              "      <th>TP_FLU_AN</th>\n",
              "      <th>POS_AN_OUT</th>\n",
              "      <th>AN_SARS2</th>\n",
              "      <th>AN_VSR</th>\n",
              "      <th>AN_PARA1</th>\n",
              "      <th>AN_PARA2</th>\n",
              "      <th>AN_PARA3</th>\n",
              "      <th>AN_ADENO</th>\n",
              "      <th>AN_OUTRO</th>\n",
              "      <th>DS_AN_OUT</th>\n",
              "      <th>TP_AM_SOR</th>\n",
              "      <th>SOR_OUT</th>\n",
              "      <th>DT_CO_SOR</th>\n",
              "      <th>TP_SOR</th>\n",
              "      <th>OUT_SOR</th>\n",
              "      <th>DT_RES</th>\n",
              "      <th>RES_IGG</th>\n",
              "      <th>RES_IGM</th>\n",
              "      <th>RES_IGA</th>\n",
              "      <th>concat</th>\n",
              "    </tr>\n",
              "  </thead>\n",
              "  <tbody>\n",
              "    <tr>\n",
              "      <th>0</th>\n",
              "      <td>14/01/2020</td>\n",
              "      <td>3</td>\n",
              "      <td>07/01/2020</td>\n",
              "      <td>2</td>\n",
              "      <td>SP</td>\n",
              "      <td>GVE I CAPITAL</td>\n",
              "      <td>1331.0</td>\n",
              "      <td>SAO PAULO</td>\n",
              "      <td>355030</td>\n",
              "      <td>HOSPITAL SAO LUIZ GONZAGA</td>\n",
              "      <td>2076896</td>\n",
              "      <td>F</td>\n",
              "      <td>27/04/2019</td>\n",
              "      <td>9</td>\n",
              "      <td>2</td>\n",
              "      <td>2009</td>\n",
              "      <td>6</td>\n",
              "      <td>4.0</td>\n",
              "      <td>NaN</td>\n",
              "      <td>5.0</td>\n",
              "      <td>BRASIL</td>\n",
              "      <td>1</td>\n",
              "      <td>SP</td>\n",
              "      <td>GVE I CAPITAL</td>\n",
              "      <td>1331.0</td>\n",
              "      <td>SAO PAULO</td>\n",
              "      <td>355030.0</td>\n",
              "      <td>1.0</td>\n",
              "      <td>2.0</td>\n",
              "      <td>2.0</td>\n",
              "      <td>2.0</td>\n",
              "      <td>1.0</td>\n",
              "      <td>1.0</td>\n",
              "      <td>2.0</td>\n",
              "      <td>1.0</td>\n",
              "      <td>1.0</td>\n",
              "      <td>1.0</td>\n",
              "      <td>2.0</td>\n",
              "      <td>2.0</td>\n",
              "      <td>9.0</td>\n",
              "      <td>...</td>\n",
              "      <td>NaN</td>\n",
              "      <td>NaN</td>\n",
              "      <td>NaN</td>\n",
              "      <td>NaN</td>\n",
              "      <td>NaN</td>\n",
              "      <td>NaN</td>\n",
              "      <td>NaN</td>\n",
              "      <td>NaN</td>\n",
              "      <td>NaN</td>\n",
              "      <td>NaN</td>\n",
              "      <td>NaN</td>\n",
              "      <td>NaN</td>\n",
              "      <td>NaN</td>\n",
              "      <td>NaN</td>\n",
              "      <td>NaN</td>\n",
              "      <td>NaN</td>\n",
              "      <td>1.0</td>\n",
              "      <td>NaN</td>\n",
              "      <td>4.0</td>\n",
              "      <td>NaN</td>\n",
              "      <td>NaN</td>\n",
              "      <td>NaN</td>\n",
              "      <td>NaN</td>\n",
              "      <td>NaN</td>\n",
              "      <td>NaN</td>\n",
              "      <td>NaN</td>\n",
              "      <td>NaN</td>\n",
              "      <td>NaN</td>\n",
              "      <td>NaN</td>\n",
              "      <td>NaN</td>\n",
              "      <td>NaN</td>\n",
              "      <td>NaN</td>\n",
              "      <td>NaN</td>\n",
              "      <td>NaN</td>\n",
              "      <td>NaN</td>\n",
              "      <td>NaN</td>\n",
              "      <td>NaN</td>\n",
              "      <td>NaN</td>\n",
              "      <td>NaN</td>\n",
              "      <td>SAO PAULOSP14/01/2020</td>\n",
              "    </tr>\n",
              "    <tr>\n",
              "      <th>1</th>\n",
              "      <td>28/01/2020</td>\n",
              "      <td>5</td>\n",
              "      <td>27/01/2020</td>\n",
              "      <td>5</td>\n",
              "      <td>SP</td>\n",
              "      <td>GVE I CAPITAL</td>\n",
              "      <td>1331.0</td>\n",
              "      <td>SAO PAULO</td>\n",
              "      <td>355030</td>\n",
              "      <td>HOSPITAL SAO CAMILO SANTANA</td>\n",
              "      <td>3039420</td>\n",
              "      <td>M</td>\n",
              "      <td>09/03/2019</td>\n",
              "      <td>10</td>\n",
              "      <td>2</td>\n",
              "      <td>2010</td>\n",
              "      <td>6</td>\n",
              "      <td>9.0</td>\n",
              "      <td>NaN</td>\n",
              "      <td>5.0</td>\n",
              "      <td>BRASIL</td>\n",
              "      <td>1</td>\n",
              "      <td>SP</td>\n",
              "      <td>GVE I CAPITAL</td>\n",
              "      <td>1331.0</td>\n",
              "      <td>SAO PAULO</td>\n",
              "      <td>355030.0</td>\n",
              "      <td>1.0</td>\n",
              "      <td>9.0</td>\n",
              "      <td>9.0</td>\n",
              "      <td>9.0</td>\n",
              "      <td>1.0</td>\n",
              "      <td>1.0</td>\n",
              "      <td>9.0</td>\n",
              "      <td>1.0</td>\n",
              "      <td>1.0</td>\n",
              "      <td>9.0</td>\n",
              "      <td>9.0</td>\n",
              "      <td>9.0</td>\n",
              "      <td>9.0</td>\n",
              "      <td>...</td>\n",
              "      <td>NaN</td>\n",
              "      <td>NaN</td>\n",
              "      <td>NaN</td>\n",
              "      <td>NaN</td>\n",
              "      <td>NaN</td>\n",
              "      <td>NaN</td>\n",
              "      <td>NaN</td>\n",
              "      <td>NaN</td>\n",
              "      <td>NaN</td>\n",
              "      <td>NaN</td>\n",
              "      <td>NaN</td>\n",
              "      <td>NaN</td>\n",
              "      <td>NaN</td>\n",
              "      <td>NaN</td>\n",
              "      <td>NaN</td>\n",
              "      <td>NaN</td>\n",
              "      <td>1.0</td>\n",
              "      <td>NaN</td>\n",
              "      <td>5.0</td>\n",
              "      <td>NaN</td>\n",
              "      <td>NaN</td>\n",
              "      <td>NaN</td>\n",
              "      <td>NaN</td>\n",
              "      <td>NaN</td>\n",
              "      <td>NaN</td>\n",
              "      <td>NaN</td>\n",
              "      <td>NaN</td>\n",
              "      <td>NaN</td>\n",
              "      <td>NaN</td>\n",
              "      <td>NaN</td>\n",
              "      <td>NaN</td>\n",
              "      <td>NaN</td>\n",
              "      <td>NaN</td>\n",
              "      <td>NaN</td>\n",
              "      <td>NaN</td>\n",
              "      <td>NaN</td>\n",
              "      <td>NaN</td>\n",
              "      <td>NaN</td>\n",
              "      <td>NaN</td>\n",
              "      <td>SAO PAULOSP28/01/2020</td>\n",
              "    </tr>\n",
              "  </tbody>\n",
              "</table>\n",
              "<p>2 rows × 155 columns</p>\n",
              "</div>"
            ],
            "text/plain": [
              "   DT_NOTIFIC  SEM_NOT  DT_SIN_PRI  ...  RES_IGM RES_IGA                 concat\n",
              "0  14/01/2020        3  07/01/2020  ...      NaN     NaN  SAO PAULOSP14/01/2020\n",
              "1  28/01/2020        5  27/01/2020  ...      NaN     NaN  SAO PAULOSP28/01/2020\n",
              "\n",
              "[2 rows x 155 columns]"
            ]
          },
          "metadata": {
            "tags": []
          },
          "execution_count": 9
        }
      ]
    },
    {
      "cell_type": "code",
      "metadata": {
        "id": "rYKTuxe8prLo"
      },
      "source": [
        "df_demais= df_demais.drop_duplicates()"
      ],
      "execution_count": 10,
      "outputs": []
    },
    {
      "cell_type": "code",
      "metadata": {
        "colab": {
          "base_uri": "https://localhost:8080/"
        },
        "id": "FPJHFVTRqUNC",
        "outputId": "579b0d29-8b97-4853-ff06-3f3f84d3ef8f"
      },
      "source": [
        "df_demais.shape"
      ],
      "execution_count": 11,
      "outputs": [
        {
          "output_type": "execute_result",
          "data": {
            "text/plain": [
              "(794687, 33)"
            ]
          },
          "metadata": {
            "tags": []
          },
          "execution_count": 11
        }
      ]
    },
    {
      "cell_type": "code",
      "metadata": {
        "id": "_-3K1-kQqUND"
      },
      "source": [
        "df = df_demais.drop_duplicates(subset='concat', keep='first')"
      ],
      "execution_count": 12,
      "outputs": []
    },
    {
      "cell_type": "code",
      "metadata": {
        "colab": {
          "base_uri": "https://localhost:8080/"
        },
        "id": "YYog1yFmqUNE",
        "outputId": "7bda608a-2964-4ff9-aabd-5e6f6a13b6a8"
      },
      "source": [
        "df.shape"
      ],
      "execution_count": 13,
      "outputs": [
        {
          "output_type": "execute_result",
          "data": {
            "text/plain": [
              "(500826, 33)"
            ]
          },
          "metadata": {
            "tags": []
          },
          "execution_count": 13
        }
      ]
    },
    {
      "cell_type": "code",
      "metadata": {
        "id": "oCnmCDHul1A4"
      },
      "source": [
        "df_principal = df_main.merge(df, on = ['concat'], how='left')"
      ],
      "execution_count": 14,
      "outputs": []
    },
    {
      "cell_type": "code",
      "metadata": {
        "colab": {
          "base_uri": "https://localhost:8080/"
        },
        "id": "WcREyypaqUNG",
        "outputId": "58d1a547-88be-40ae-fc84-ebfa69f35993"
      },
      "source": [
        "df_principal.shape"
      ],
      "execution_count": 15,
      "outputs": [
        {
          "output_type": "execute_result",
          "data": {
            "text/plain": [
              "(1189743, 187)"
            ]
          },
          "metadata": {
            "tags": []
          },
          "execution_count": 15
        }
      ]
    },
    {
      "cell_type": "markdown",
      "metadata": {
        "id": "qtR9B7IiqUNH"
      },
      "source": [
        "#Bases do PIB"
      ]
    },
    {
      "cell_type": "code",
      "metadata": {
        "id": "JZ3vTDFrn-_r"
      },
      "source": [
        "df_pib = pd.read_excel('ibge_PIB_tabela_tratada.xlsx', sheet_name = 'Maiores PIB')\n",
        "df_pib_per_capta = pd.read_excel('ibge_PIB_tabela_tratada.xlsx', sheet_name = 'Maiores PIB Per capta')"
      ],
      "execution_count": 16,
      "outputs": []
    },
    {
      "cell_type": "code",
      "metadata": {
        "id": "_xwqaRNe0vuX"
      },
      "source": [
        "# Função para remover a acentuação\n",
        "def remove_accentuation(df):\n",
        "    return df.apply(lambda item: unidecode.unidecode(item))\n",
        "\n",
        "# Função para deixar os termos em letra maiúscula \n",
        "def to_uppercase(df):\n",
        "    return df.apply(lambda item: item.strip().upper())"
      ],
      "execution_count": 17,
      "outputs": []
    },
    {
      "cell_type": "code",
      "metadata": {
        "id": "JfoYCH9CneEI"
      },
      "source": [
        "df_pib['ID_MUNICIP'] = remove_accentuation(df_pib['Municípios '])\n",
        "df_pib['ID_MUNICIP'] = to_uppercase(df_pib['ID_MUNICIP'])\n",
        "#df_pib"
      ],
      "execution_count": 18,
      "outputs": []
    },
    {
      "cell_type": "code",
      "metadata": {
        "id": "DOt-B_pR4Oz3"
      },
      "source": [
        "df_pib_per_capta['ID_MUNICIP'] = remove_accentuation(df_pib_per_capta['Municípios'])\n",
        "df_pib_per_capta['ID_MUNICIP'] = to_uppercase(df_pib_per_capta['ID_MUNICIP'])\n",
        "#df_pib_per_capta"
      ],
      "execution_count": 19,
      "outputs": []
    },
    {
      "cell_type": "code",
      "metadata": {
        "id": "jC93WBvI51Sg"
      },
      "source": [
        "df_principal['ID_MUNICIP'] = df_principal['ID_MUNICIP_x']"
      ],
      "execution_count": 20,
      "outputs": []
    },
    {
      "cell_type": "code",
      "metadata": {
        "id": "wWAECgLpsc7d"
      },
      "source": [
        "df_principal_01 = df_principal.merge(df_pib, on = ['ID_MUNICIP'], how='left')"
      ],
      "execution_count": 21,
      "outputs": []
    },
    {
      "cell_type": "code",
      "metadata": {
        "id": "Yni7xAF3qUNO"
      },
      "source": [
        "df_principal_v1 = df_principal_01.merge(df_pib_per_capta, on = ['ID_MUNICIP'], how='left')"
      ],
      "execution_count": 22,
      "outputs": []
    },
    {
      "cell_type": "code",
      "metadata": {
        "colab": {
          "base_uri": "https://localhost:8080/"
        },
        "id": "lzJREP8esc7d",
        "outputId": "f29aaf93-7821-4a3c-fae3-c26af5fe382c"
      },
      "source": [
        "df_principal_v1.shape"
      ],
      "execution_count": 23,
      "outputs": [
        {
          "output_type": "execute_result",
          "data": {
            "text/plain": [
              "(1189743, 194)"
            ]
          },
          "metadata": {
            "tags": []
          },
          "execution_count": 23
        }
      ]
    },
    {
      "cell_type": "markdown",
      "metadata": {
        "id": "njM1TaBRqUNP"
      },
      "source": [
        "# Eliminando variáveis com redundancia"
      ]
    },
    {
      "cell_type": "code",
      "metadata": {
        "id": "ma26XqDXqUNQ"
      },
      "source": [
        "df = pd.DataFrame(df_principal_v1, columns=['DT_NOTIFIC_x','SG_UF_NOT_x','ID_MUNICIP_x','CS_SEXO','DT_NASC','NU_IDADE_N','CS_GESTANT','CS_RACA','CS_ETINIA','CS_ESCOL_N','SG_UF','CO_MUN_RES','CS_ZONA','SURTO_SG','NOSOCOMIAL','AVE_SUINO','FEBRE','TOSSE','GARGANTA','DISPNEIA','DESC_RESP','SATURACAO','DIARREIA','VOMITO','OUTRO_SIN','OUTRO_DES','PUERPERA','FATOR_RISC','CARDIOPATI','HEMATOLOGI','SIND_DOWN','HEPATICA','ASMA','DIABETES','NEUROLOGIC','PNEUMOPATI','IMUNODEPRE','RENAL','OBESIDADE','OBES_IMC','OUT_MORBI','MORB_DESC','VACINA','DT_UT_DOSE','MAE_VAC','M_AMAMENTA','DT_DOSEUNI','DT_1_DOSE','DT_2_DOSE','ANTIVIRAL','TP_ANTIVIR','OUT_ANTIV','DT_ANTIVIR','HOSPITAL','UTI','SUPORT_VEN','RAIOX_RES','RAIOX_OUT','AMOSTRA','TP_AMOSTRA','DT_NOTIFIC_x','SG_UF_NOT_x','ID_MUNICIP_x''OUT_AMOST','PCR_RESUL','POS_PCRFLU','TP_FLU_PCR','PCR_FLUASU','FLUASU_OUT','PCR_FLUBLI','FLUBLI_OUT','POS_PCROUT','PCR_VSR','PCR_PARA1','PCR_PARA2','PCR_PARA3','PCR_PARA4','PCR_ADENO','PCR_METAP','PCR_BOCA','PCR_RINO','PCR_OUTRO','DS_PCR_OUT','CLASSI_FIN','CLASSI_OUT','CRITERIO','EVOLUCAO','HISTO_VGM','PAIS_VGM','CO_PS_VGM','LO_PS_VGM','PCR_SARS2','PAC_COCBO','PAC_DSCBO','OUT_ANIM','DOR_ABD','FADIGA','PERD_OLFT','PERD_PALA','TOMO_RES','TOMO_OUT','DT_TOMO','TP_TES_AN','RES_AN','POS_AN_FLU','TP_FLU_AN','POS_AN_OUT','AN_SARS2','AN_VSR','AN_PARA1','AN_PARA2','AN_PARA3','AN_ADENO','AN_OUTRO','DS_AN_OUT','TP_AM_SOR','SOR_OUT','DT_CO_SOR','TP_SOR','OUT_SOR','RES_IGG','RES_IGM','RES_IGA','concat','ocupacaoSuspeitoCli','ocupacaoSuspeitoUti','ocupacaoConfirmadoCli','ocupacaoConfirmadoUti','saidaSuspeitaObitos','saidaSuspeitaAltas','saidaConfirmadaObitos','saidaConfirmadaAltas','População Estimada (2019)','Total de Enfermeiros','Enfermeiros do SUS','Enfermeiros a cada 100 mil habitantes','Enfermeiros do SUS a cada 100 mil habitantes','Total de médicos','Médicos do SUS','Médicos a cada 100 mil habitantes','Médicos do SUS a cada 100 mil habitantes','Total de Respiradores','Respiradores a cada 100 mil habitantes','Respiradores do SUS a cada 100 mil habitantes','Total de Respiradores do SUS','Total de Leitos de UTI','Leitos de UTI a cada 100 mil habitantes','Leitos de UTI do SUS','Leitos do SUS a cada 100 mil habitantes','Trabalhadores informais na unidade da Federação (julho 2019)','Trabalhadores informais nas Regiões Metropolitas (julho 2019)','Trabalhadores informais Capital (julho 2019)','Trabalhadores informais no Interior (julho 2019)','ID_MUNICIP','Municípios ','Posição ocu- pada pelos 100 maiores municípios PIB','Flag_100_maiores_municipios_PIB','Municípios','Posição ocupada pelos 100 maiores municípios, o per capita','Flag_100_maiores_municipios_PIB_per_capta'])"
      ],
      "execution_count": 24,
      "outputs": []
    },
    {
      "cell_type": "code",
      "metadata": {
        "colab": {
          "base_uri": "https://localhost:8080/"
        },
        "id": "xsWGE6TbqUNT",
        "outputId": "143f995b-b4ce-4f59-fb22-bf9dd575c2b3"
      },
      "source": [
        "df.shape"
      ],
      "execution_count": 25,
      "outputs": [
        {
          "output_type": "execute_result",
          "data": {
            "text/plain": [
              "(1189743, 159)"
            ]
          },
          "metadata": {
            "tags": []
          },
          "execution_count": 25
        }
      ]
    },
    {
      "cell_type": "markdown",
      "metadata": {
        "id": "7UB1uduOqUNV"
      },
      "source": [
        "# Variável Resposta"
      ]
    },
    {
      "cell_type": "code",
      "metadata": {
        "colab": {
          "base_uri": "https://localhost:8080/"
        },
        "id": "INusDquyqUNV",
        "outputId": "6d4bff5b-020f-4748-9555-ac50d80d1127"
      },
      "source": [
        "df.groupby(by='EVOLUCAO').size()"
      ],
      "execution_count": 26,
      "outputs": [
        {
          "output_type": "execute_result",
          "data": {
            "text/plain": [
              "EVOLUCAO\n",
              "1.0    696675\n",
              "2.0    300504\n",
              "3.0     13939\n",
              "9.0     31028\n",
              "dtype: int64"
            ]
          },
          "metadata": {
            "tags": []
          },
          "execution_count": 26
        }
      ]
    },
    {
      "cell_type": "markdown",
      "metadata": {
        "id": "igsT-7tAqUNW"
      },
      "source": [
        "EVOLUÇÃO:\n",
        "    1-Cura\n",
        "    2-Obito\n",
        "    3-Obito por outra causa\n",
        "    4-Ignorado\n",
        "    "
      ]
    },
    {
      "cell_type": "code",
      "metadata": {
        "id": "EAUcmFBrqUNW"
      },
      "source": [
        "df['resposta'] = np.where(df['EVOLUCAO']== 2.0,1,0)"
      ],
      "execution_count": 27,
      "outputs": []
    },
    {
      "cell_type": "code",
      "metadata": {
        "colab": {
          "base_uri": "https://localhost:8080/"
        },
        "id": "pALzAi23qUNX",
        "outputId": "71821d5e-e962-49f2-d301-a9525e9ca974"
      },
      "source": [
        "df.groupby(by=['EVOLUCAO','resposta']).size()"
      ],
      "execution_count": 28,
      "outputs": [
        {
          "output_type": "execute_result",
          "data": {
            "text/plain": [
              "EVOLUCAO  resposta\n",
              "1.0       0           696675\n",
              "2.0       1           300504\n",
              "3.0       0            13939\n",
              "9.0       0            31028\n",
              "dtype: int64"
            ]
          },
          "metadata": {
            "tags": []
          },
          "execution_count": 28
        }
      ]
    },
    {
      "cell_type": "markdown",
      "metadata": {
        "id": "VMRvJj4HqUNY"
      },
      "source": [
        "# SELECIONANDO VARIAVEIS QUE FAZEM SENTIDO PARA PREDIÇÃO"
      ]
    },
    {
      "cell_type": "code",
      "metadata": {
        "colab": {
          "base_uri": "https://localhost:8080/"
        },
        "id": "Wrvj8R_HqUNZ",
        "outputId": "b6e05852-b9cd-4065-f40e-89affc72f992"
      },
      "source": [
        "df2 = df[['SG_UF_NOT_x','ID_MUNICIP_x','CS_SEXO','NU_IDADE_N','CS_GESTANT','CS_RACA','CS_ETINIA','CS_ESCOL_N','SURTO_SG','PUERPERA','FATOR_RISC','CARDIOPATI','HEMATOLOGI','SIND_DOWN','HEPATICA','ASMA','DIABETES','NEUROLOGIC','PNEUMOPATI','IMUNODEPRE','RENAL','OBESIDADE','OBES_IMC','OUT_MORBI','MORB_DESC','MAE_VAC','M_AMAMENTA','PAIS_VGM','ocupacaoSuspeitoCli','ocupacaoSuspeitoUti','ocupacaoConfirmadoCli','ocupacaoConfirmadoUti','saidaSuspeitaObitos','saidaSuspeitaAltas','saidaConfirmadaObitos','saidaConfirmadaAltas','População Estimada (2019)','Total de Enfermeiros','Enfermeiros do SUS','Enfermeiros a cada 100 mil habitantes','Enfermeiros do SUS a cada 100 mil habitantes','Total de médicos','Médicos do SUS','Médicos a cada 100 mil habitantes','Médicos do SUS a cada 100 mil habitantes','Total de Respiradores','Respiradores a cada 100 mil habitantes','Respiradores do SUS a cada 100 mil habitantes','Total de Respiradores do SUS','Total de Leitos de UTI','Leitos de UTI a cada 100 mil habitantes','Leitos de UTI do SUS','Leitos do SUS a cada 100 mil habitantes','Trabalhadores informais na unidade da Federação (julho 2019)','Trabalhadores informais nas Regiões Metropolitas (julho 2019)','Trabalhadores informais Capital (julho 2019)','Trabalhadores informais no Interior (julho 2019)','Flag_100_maiores_municipios_PIB','Flag_100_maiores_municipios_PIB_per_capta','resposta']]\n",
        "df2.shape"
      ],
      "execution_count": 29,
      "outputs": [
        {
          "output_type": "execute_result",
          "data": {
            "text/plain": [
              "(1189743, 61)"
            ]
          },
          "metadata": {
            "tags": []
          },
          "execution_count": 29
        }
      ]
    },
    {
      "cell_type": "code",
      "metadata": {
        "id": "W5FE98zpqUNa"
      },
      "source": [
        "df_final=df2.copy()"
      ],
      "execution_count": 30,
      "outputs": []
    },
    {
      "cell_type": "code",
      "metadata": {
        "id": "n32LWK_QqUNa"
      },
      "source": [
        "def check_puerpera(item):\n",
        "    if np.isnan(item):\n",
        "        return 0;\n",
        "    elif int(item) == 2:\n",
        "        return 1;\n",
        "    else: return 9;\n",
        "df_final['PUERPERA'] = df2['PUERPERA'].apply(check_puerpera)"
      ],
      "execution_count": 31,
      "outputs": []
    },
    {
      "cell_type": "code",
      "metadata": {
        "colab": {
          "base_uri": "https://localhost:8080/"
        },
        "id": "cwORmd6nqUNb",
        "outputId": "a2d4899c-af27-4289-dcff-ae8b1163f91c"
      },
      "source": [
        "df_final.shape"
      ],
      "execution_count": 32,
      "outputs": [
        {
          "output_type": "execute_result",
          "data": {
            "text/plain": [
              "(1189743, 61)"
            ]
          },
          "metadata": {
            "tags": []
          },
          "execution_count": 32
        }
      ]
    },
    {
      "cell_type": "code",
      "metadata": {
        "id": "nWdBb0aYqUNc"
      },
      "source": [
        "def check_sexo(item):\n",
        "    if item == 'F':\n",
        "        return 1;\n",
        "    else: return 0;\n",
        "df_final['CS_SEXO_F'] = df2['CS_SEXO'].apply(check_sexo)"
      ],
      "execution_count": 33,
      "outputs": []
    },
    {
      "cell_type": "code",
      "metadata": {
        "id": "aE4cjEHgqUNd"
      },
      "source": [
        "def check_idade(item):\n",
        "    if int(item)<= 0:\n",
        "        return 0;\n",
        "    elif int(item)<10:\n",
        "        return 1;\n",
        "    elif int(item)<20:\n",
        "        return 2;\n",
        "    elif int(item)<30:\n",
        "        return 3;\n",
        "    elif int(item)<40:\n",
        "        return 4;\n",
        "    elif int(item)<50:\n",
        "        return 5;\n",
        "    elif int(item)<60:\n",
        "        return 6;\n",
        "    elif int(item)<70:\n",
        "        return 7;\n",
        "    elif int(item)<80:\n",
        "        return 8;\n",
        "    elif int(item)<90:\n",
        "        return 9;\n",
        "    else: return 10;\n",
        "df_final['NU_IDADE_N'] = df2['NU_IDADE_N'].apply(check_idade)"
      ],
      "execution_count": 34,
      "outputs": []
    },
    {
      "cell_type": "code",
      "metadata": {
        "id": "VhlkjvA2qUNe"
      },
      "source": [
        "def check_FATOR_RISC(item):\n",
        "    if item == 'S':\n",
        "        return 1;\n",
        "    else: return 0;\n",
        "df_final['FATOR_RISC'] = df2['FATOR_RISC'].apply(check_FATOR_RISC)"
      ],
      "execution_count": 35,
      "outputs": []
    },
    {
      "cell_type": "code",
      "metadata": {
        "id": "mnt-J4ojqUNe"
      },
      "source": [
        "def check_OBES_IMC(item):\n",
        "    item = str(item).replace(\",\", \".\")\n",
        "    if pd.isnull(item):\n",
        "        return 0;\n",
        "    elif float(item)<= 17:\n",
        "        return 1;\n",
        "    elif float(item)<18.5:\n",
        "        return 2;\n",
        "    elif float(item)<25:\n",
        "        return 3;\n",
        "    elif float(item)<29.9:\n",
        "        return 4;\n",
        "    elif float(item)<34.9:\n",
        "        return 5;\n",
        "    elif float(item)<40:\n",
        "        return 6;\n",
        "    else: return 9;\n",
        "    \n",
        "df_final['OBES_IMC'] = df2['OBES_IMC'].apply(check_OBES_IMC)"
      ],
      "execution_count": 36,
      "outputs": []
    },
    {
      "cell_type": "code",
      "metadata": {
        "id": "fpxLfH-kqUNf"
      },
      "source": [
        "def check_MORB_DESC(item):\n",
        "    if pd.isnull(item):\n",
        "        return 0;\n",
        "    else: return 1;\n",
        "df_final['MORB_DESC'] = df2['MORB_DESC'].apply(check_MORB_DESC)"
      ],
      "execution_count": 37,
      "outputs": []
    },
    {
      "cell_type": "code",
      "metadata": {
        "id": "7ApcYZdVqUNg"
      },
      "source": [
        "def check_ocupacaoSuspeitoCli(item):\n",
        "    if pd.isnull(item):\n",
        "        return 0;\n",
        "    else: return int(item);\n",
        "df_final['ocupacaoSuspeitoCli'] = df2['ocupacaoSuspeitoCli'].apply(check_ocupacaoSuspeitoCli)"
      ],
      "execution_count": 38,
      "outputs": []
    },
    {
      "cell_type": "code",
      "metadata": {
        "id": "QojQlI8BqUNg"
      },
      "source": [
        "def check_ocupacaoSuspeitoUti(item):\n",
        "    if pd.isnull(item):\n",
        "        return 0;\n",
        "    else: return int(item);\n",
        "df_final['ocupacaoSuspeitoUti'] = df2['ocupacaoSuspeitoUti'].apply(check_ocupacaoSuspeitoUti)"
      ],
      "execution_count": 39,
      "outputs": []
    },
    {
      "cell_type": "code",
      "metadata": {
        "id": "g2ACisA8qUNh"
      },
      "source": [
        "def check_ocupacaoConfirmadoCli(item):\n",
        "    if pd.isnull(item):\n",
        "        return 0;\n",
        "    else: return int(item);\n",
        "df_final['ocupacaoConfirmadoCli'] = df2['ocupacaoConfirmadoCli'].apply(check_ocupacaoConfirmadoCli)"
      ],
      "execution_count": 40,
      "outputs": []
    },
    {
      "cell_type": "code",
      "metadata": {
        "id": "HDaPX4XzqUNh"
      },
      "source": [
        "def check_ocupacaoConfirmadoUti(item):\n",
        "    if pd.isnull(item):\n",
        "        return 0;\n",
        "    else: return int(item);\n",
        "df_final['ocupacaoConfirmadoUti'] = df2['ocupacaoConfirmadoUti'].apply(check_ocupacaoConfirmadoUti)"
      ],
      "execution_count": 41,
      "outputs": []
    },
    {
      "cell_type": "code",
      "metadata": {
        "id": "gwbF1lQ0qUNi"
      },
      "source": [
        "def check_saidaSuspeitaObitos(item):\n",
        "    if pd.isnull(item):\n",
        "        return 0;\n",
        "    else: return int(item);\n",
        "df_final['saidaSuspeitaObitos'] = df2['saidaSuspeitaObitos'].apply(check_saidaSuspeitaObitos)"
      ],
      "execution_count": 42,
      "outputs": []
    },
    {
      "cell_type": "code",
      "metadata": {
        "id": "iFEOSJ-QqUNj"
      },
      "source": [
        "def check_saidaSuspeitaAltas(item):\n",
        "    if pd.isnull(item):\n",
        "        return 0;\n",
        "    else: return int(item);\n",
        "df_final['saidaSuspeitaAltas'] = df2['saidaSuspeitaAltas'].apply(check_saidaSuspeitaAltas)"
      ],
      "execution_count": 43,
      "outputs": []
    },
    {
      "cell_type": "code",
      "metadata": {
        "id": "mN0a9DWeqUNk"
      },
      "source": [
        "def check_saidaConfirmadaObitos(item):\n",
        "    if pd.isnull(item):\n",
        "        return 0;\n",
        "    else: return int(item);\n",
        "df_final['saidaConfirmadaObitos'] = df2['saidaConfirmadaObitos'].apply(check_saidaConfirmadaObitos)"
      ],
      "execution_count": 44,
      "outputs": []
    },
    {
      "cell_type": "code",
      "metadata": {
        "id": "MW3uMIRTqUNk"
      },
      "source": [
        "def check_saidaConfirmadaAltas(item):\n",
        "    if pd.isnull(item):\n",
        "        return 0;\n",
        "    else: return int(item);\n",
        "df_final['saidaConfirmadaAltas'] = df2['saidaConfirmadaAltas'].apply(check_saidaConfirmadaAltas)"
      ],
      "execution_count": 45,
      "outputs": []
    },
    {
      "cell_type": "code",
      "metadata": {
        "id": "2EA6pNhmqUNl"
      },
      "source": [
        "def check_pop(item):\n",
        "    if pd.isnull(item):\n",
        "        return 0;\n",
        "    else: return int(item);\n",
        "df_final['pop_2019'] = df2['População Estimada (2019)'].apply(check_pop)"
      ],
      "execution_count": 46,
      "outputs": []
    },
    {
      "cell_type": "code",
      "metadata": {
        "id": "jpO7JU--qUNm"
      },
      "source": [
        "def check_enf_total(item):\n",
        "    if pd.isnull(item):\n",
        "        return 0;\n",
        "    else: return int(item);\n",
        "df_final['enf_total'] = df2['Total de Enfermeiros'].apply(check_enf_total)"
      ],
      "execution_count": 47,
      "outputs": []
    },
    {
      "cell_type": "code",
      "metadata": {
        "id": "uDNnczQYqUNm"
      },
      "source": [
        "def check_enf_sus(item):\n",
        "    if pd.isnull(item):\n",
        "        return 0;\n",
        "    else: return int(item);\n",
        "df_final['enf_sus'] = df2['Enfermeiros do SUS'].apply(check_enf_sus)"
      ],
      "execution_count": 48,
      "outputs": []
    },
    {
      "cell_type": "code",
      "metadata": {
        "id": "0E9Nb3RqqUNn"
      },
      "source": [
        "def check_enf_100K(item):\n",
        "    if pd.isnull(item):\n",
        "        return 0;\n",
        "    else: return int(item);\n",
        "df_final['enf_100K'] = df2['Enfermeiros a cada 100 mil habitantes'].apply(check_enf_100K)"
      ],
      "execution_count": 49,
      "outputs": []
    },
    {
      "cell_type": "code",
      "metadata": {
        "id": "tGQnT20UqUNn"
      },
      "source": [
        "def check_enf_100K_sus(item):\n",
        "    if pd.isnull(item):\n",
        "        return 0;\n",
        "    else: return int(item);\n",
        "df_final['enf_100K_sus'] = df2['Enfermeiros do SUS a cada 100 mil habitantes'].apply(check_enf_100K_sus)"
      ],
      "execution_count": 50,
      "outputs": []
    },
    {
      "cell_type": "code",
      "metadata": {
        "id": "aLoU5uNHqUNo"
      },
      "source": [
        "def check_medicos(item):\n",
        "    if pd.isnull(item):\n",
        "        return 0;\n",
        "    else: return int(item);\n",
        "df_final['medicos'] = df2['Total de médicos'].apply(check_medicos)"
      ],
      "execution_count": 51,
      "outputs": []
    },
    {
      "cell_type": "code",
      "metadata": {
        "id": "yh6-a4hEqUNo"
      },
      "source": [
        "def check_medicos_sus(item):\n",
        "    if pd.isnull(item):\n",
        "        return 0;\n",
        "    else: return int(item);\n",
        "df_final['medicos_sus'] = df2['Médicos do SUS'].apply(check_medicos_sus)"
      ],
      "execution_count": 52,
      "outputs": []
    },
    {
      "cell_type": "code",
      "metadata": {
        "id": "jzHErWJuqUNp"
      },
      "source": [
        "def check_medicos_100K(item):\n",
        "    if pd.isnull(item):\n",
        "        return 0;\n",
        "    else: return int(item);\n",
        "df_final['medicos_100K'] = df2['Médicos a cada 100 mil habitantes'].apply(check_medicos_100K)"
      ],
      "execution_count": 53,
      "outputs": []
    },
    {
      "cell_type": "code",
      "metadata": {
        "id": "ah10lIljqUNq"
      },
      "source": [
        "def check_medicos_100K_sus(item):\n",
        "    if pd.isnull(item):\n",
        "        return 0;\n",
        "    else: return int(item);\n",
        "df_final['medicos_100K_sus'] = df2['Médicos do SUS a cada 100 mil habitantes'].apply(check_medicos_100K_sus)"
      ],
      "execution_count": 54,
      "outputs": []
    },
    {
      "cell_type": "code",
      "metadata": {
        "id": "B_p_B6K2qUNq"
      },
      "source": [
        "def check_respiradores(item):\n",
        "    if pd.isnull(item):\n",
        "        return 0;\n",
        "    else: return int(item);\n",
        "df_final['respiradores'] = df2['Total de Respiradores'].apply(check_respiradores)"
      ],
      "execution_count": 55,
      "outputs": []
    },
    {
      "cell_type": "code",
      "metadata": {
        "id": "9eABS89sqUNu"
      },
      "source": [
        "def check_respiradores_100K(item):\n",
        "    if pd.isnull(item):\n",
        "        return 0;\n",
        "    else: return int(item);\n",
        "df_final['respiradores_100K'] = df2['Respiradores a cada 100 mil habitantes'].apply(check_respiradores_100K)"
      ],
      "execution_count": 56,
      "outputs": []
    },
    {
      "cell_type": "code",
      "metadata": {
        "id": "uEuUeZEZqUNv"
      },
      "source": [
        "def check_respiradores_100K_sus(item):\n",
        "    if pd.isnull(item):\n",
        "        return 0;\n",
        "    else: return int(item);\n",
        "df_final['respiradores_100K_sus'] = df2['Respiradores do SUS a cada 100 mil habitantes'].apply(check_respiradores_100K_sus)"
      ],
      "execution_count": 57,
      "outputs": []
    },
    {
      "cell_type": "code",
      "metadata": {
        "id": "VfUoPC5aqUNw"
      },
      "source": [
        "def check_respiradores_sus(item):\n",
        "    if pd.isnull(item):\n",
        "        return 0;\n",
        "    else: return int(item);\n",
        "df_final['respiradores_sus'] = df2['Total de Respiradores do SUS'].apply(check_respiradores_sus)"
      ],
      "execution_count": 58,
      "outputs": []
    },
    {
      "cell_type": "code",
      "metadata": {
        "id": "KPO3kBbeqUNx"
      },
      "source": [
        "def check_leitos_uti(item):\n",
        "    if pd.isnull(item):\n",
        "        return 0;\n",
        "    else: return int(item);\n",
        "df_final['leitos_uti'] = df2['Total de Leitos de UTI'].apply(check_leitos_uti)"
      ],
      "execution_count": 59,
      "outputs": []
    },
    {
      "cell_type": "code",
      "metadata": {
        "id": "xy1p3hE_qUNy"
      },
      "source": [
        "def check_leitos_uti_100K(item):\n",
        "    if pd.isnull(item):\n",
        "        return 0;\n",
        "    else: return int(item);\n",
        "df_final['leitos_uti_100K'] = df2['Leitos de UTI a cada 100 mil habitantes'].apply(check_leitos_uti_100K)"
      ],
      "execution_count": 60,
      "outputs": []
    },
    {
      "cell_type": "code",
      "metadata": {
        "id": "hfscsVKvqUNy"
      },
      "source": [
        "def check_leitos_uti_sus(item):\n",
        "    if pd.isnull(item):\n",
        "        return 0;\n",
        "    else: return int(item);\n",
        "df_final['leitos_uti_sus'] = df2['Leitos de UTI do SUS'].apply(check_leitos_uti_sus)"
      ],
      "execution_count": 61,
      "outputs": []
    },
    {
      "cell_type": "code",
      "metadata": {
        "id": "XQl4oeWDqUNy"
      },
      "source": [
        "def check_leitos_uti_sus_100K(item):\n",
        "    if pd.isnull(item):\n",
        "        return 0;\n",
        "    else: return int(item);\n",
        "df_final['leitos_uti_sus_100K'] = df2['Leitos do SUS a cada 100 mil habitantes'].apply(check_leitos_uti_sus_100K)"
      ],
      "execution_count": 62,
      "outputs": []
    },
    {
      "cell_type": "code",
      "metadata": {
        "id": "KCLE2nsRqUNz"
      },
      "source": [
        "def check_trabalhadores_informais(item):\n",
        "    if pd.isnull(item):\n",
        "        return 0;\n",
        "    else: return int(item);\n",
        "df_final['trabalhadores_informais'] = df2['Trabalhadores informais na unidade da Federação (julho 2019)'].apply(check_trabalhadores_informais)"
      ],
      "execution_count": 63,
      "outputs": []
    },
    {
      "cell_type": "code",
      "metadata": {
        "id": "aYgGd_YgqUN0"
      },
      "source": [
        "def check_trabalhadores_informais_metrop(item):\n",
        "    if pd.isnull(item):\n",
        "        return 0;\n",
        "    else: return int(item);\n",
        "df_final['trabalhadores_informais_metrop'] = df2['Trabalhadores informais nas Regiões Metropolitas (julho 2019)'].apply(check_trabalhadores_informais_metrop)"
      ],
      "execution_count": 66,
      "outputs": []
    },
    {
      "cell_type": "code",
      "metadata": {
        "id": "Rp-p5i78qUN0"
      },
      "source": [
        "def check_trabalhadores_informais_capital(item):\n",
        "    if pd.isnull(item):\n",
        "        return 0;\n",
        "    else: return int(item);\n",
        "df_final['trabalhadores_informais_capital'] = df2['Trabalhadores informais Capital (julho 2019)'].apply(check_trabalhadores_informais_capital)"
      ],
      "execution_count": 64,
      "outputs": []
    },
    {
      "cell_type": "code",
      "metadata": {
        "id": "zTyKCcpqqUN1"
      },
      "source": [
        "def check_trabalhadores_informais_interior(item):\n",
        "    if pd.isnull(item):\n",
        "        return 0;\n",
        "    else: return int(item);\n",
        "df_final['trabalhadores_informais_interior'] = df2['Trabalhadores informais no Interior (julho 2019)'].apply(check_trabalhadores_informais_interior)"
      ],
      "execution_count": 65,
      "outputs": []
    },
    {
      "cell_type": "code",
      "metadata": {
        "id": "hOhzoJqjqUN1"
      },
      "source": [
        "def check_Flag_100_maiores_municipios_PIB(item):\n",
        "    if pd.isnull(item):\n",
        "        return 0;\n",
        "    else: return int(item);\n",
        "df_final['Flag_100_maiores_municipios_PIB'] = df2['Flag_100_maiores_municipios_PIB'].apply(check_Flag_100_maiores_municipios_PIB)"
      ],
      "execution_count": 67,
      "outputs": []
    },
    {
      "cell_type": "code",
      "metadata": {
        "id": "OS6atJyXqUN2"
      },
      "source": [
        "def check_Flag_100_maiores_municipios_PIB_per_capta(item):\n",
        "    if pd.isnull(item):\n",
        "        return 0;\n",
        "    else: return int(item);\n",
        "df_final['Flag_100_maiores_municipios_PIB_per_capta'] = df2['Flag_100_maiores_municipios_PIB_per_capta'].apply(check_Flag_100_maiores_municipios_PIB_per_capta)"
      ],
      "execution_count": 68,
      "outputs": []
    },
    {
      "cell_type": "code",
      "metadata": {
        "colab": {
          "base_uri": "https://localhost:8080/"
        },
        "id": "D-elrEjiqUN2",
        "outputId": "7a47f55c-e60c-4109-ab1a-dc701e0241b9"
      },
      "source": [
        "#Variáveis ja trabalhadas a serem mantidas\n",
        "df = df_final[['SG_UF_NOT_x','ID_MUNICIP_x','NU_IDADE_N','CS_GESTANT','CS_RACA','CS_ETINIA','CS_ESCOL_N','SURTO_SG','PUERPERA','FATOR_RISC','CARDIOPATI','HEMATOLOGI','SIND_DOWN','HEPATICA','ASMA','DIABETES','NEUROLOGIC','PNEUMOPATI','IMUNODEPRE','RENAL','OBESIDADE','OBES_IMC','OUT_MORBI','MORB_DESC','MAE_VAC','M_AMAMENTA','Flag_100_maiores_municipios_PIB','Flag_100_maiores_municipios_PIB_per_capta','resposta','CS_SEXO_F','pop_2019','enf_total','enf_sus','enf_100K','enf_100K_sus','medicos','medicos_sus','medicos_100K','medicos_100K_sus','respiradores','respiradores_100K','respiradores_100K_sus','respiradores_sus','leitos_uti','leitos_uti_100K','leitos_uti_sus','leitos_uti_sus_100K','trabalhadores_informais','trabalhadores_informais_metrop','trabalhadores_informais_capital','trabalhadores_informais_interior']]\n",
        "df.shape"
      ],
      "execution_count": 69,
      "outputs": [
        {
          "output_type": "execute_result",
          "data": {
            "text/plain": [
              "(1189743, 52)"
            ]
          },
          "metadata": {
            "tags": []
          },
          "execution_count": 69
        }
      ]
    },
    {
      "cell_type": "code",
      "metadata": {
        "id": "S0YVe1f4qUN3"
      },
      "source": [
        "df_final2=df.copy()"
      ],
      "execution_count": 70,
      "outputs": []
    },
    {
      "cell_type": "code",
      "metadata": {
        "colab": {
          "base_uri": "https://localhost:8080/"
        },
        "id": "4kWQ0HKbqUN4",
        "outputId": "4d3502c2-9897-415f-ad49-fa88206c22f6"
      },
      "source": [
        "df_final2.shape"
      ],
      "execution_count": 71,
      "outputs": [
        {
          "output_type": "execute_result",
          "data": {
            "text/plain": [
              "(1189743, 52)"
            ]
          },
          "metadata": {
            "tags": []
          },
          "execution_count": 71
        }
      ]
    },
    {
      "cell_type": "code",
      "metadata": {
        "id": "smIsTaZ4qUN4"
      },
      "source": [
        "def check_MAE_VAC(item):\n",
        "    if pd.isnull(item):\n",
        "        return 0;\n",
        "    else: return int(item);\n",
        "df_final2['MAE_VAC'] = df['MAE_VAC'].apply(check_MAE_VAC)"
      ],
      "execution_count": 72,
      "outputs": []
    },
    {
      "cell_type": "code",
      "metadata": {
        "id": "--xQQFhSqUN5"
      },
      "source": [
        "def check_M_AMAMENTA(item):\n",
        "    if pd.isnull(item):\n",
        "        return 0;\n",
        "    else: return int(item);\n",
        "df_final2['M_AMAMENTA'] = df['M_AMAMENTA'].apply(check_M_AMAMENTA)"
      ],
      "execution_count": 73,
      "outputs": []
    },
    {
      "cell_type": "code",
      "metadata": {
        "id": "t2hY_8VVqUN5"
      },
      "source": [
        "def check_OUT_MORBI(item):\n",
        "    if pd.isnull(item):\n",
        "        return 0;\n",
        "    else: return int(item);\n",
        "df_final2['OUT_MORBI'] = df['OUT_MORBI'].apply(check_OUT_MORBI)"
      ],
      "execution_count": 74,
      "outputs": []
    },
    {
      "cell_type": "code",
      "metadata": {
        "id": "gpMvNsEUqUN5"
      },
      "source": [
        "def check_CARDIOPATI(item):\n",
        "    if pd.isnull(item):\n",
        "        return 0;\n",
        "    else: return int(item);\n",
        "df_final2['CARDIOPATI'] = df['CARDIOPATI'].apply(check_CARDIOPATI)"
      ],
      "execution_count": 75,
      "outputs": []
    },
    {
      "cell_type": "code",
      "metadata": {
        "id": "cESjbHahqUN6"
      },
      "source": [
        "def check_HEMATOLOGI(item):\n",
        "    if pd.isnull(item):\n",
        "        return 0;\n",
        "    else: return int(item);\n",
        "df_final2['HEMATOLOGI'] = df['HEMATOLOGI'].apply(check_HEMATOLOGI)"
      ],
      "execution_count": 76,
      "outputs": []
    },
    {
      "cell_type": "code",
      "metadata": {
        "id": "_RF4O40aqUN6"
      },
      "source": [
        "def check_SIND_DOWN(item):\n",
        "    if pd.isnull(item):\n",
        "        return 0;\n",
        "    else: return int(item);\n",
        "df_final2['SIND_DOWN'] = df['SIND_DOWN'].apply(check_SIND_DOWN)"
      ],
      "execution_count": 77,
      "outputs": []
    },
    {
      "cell_type": "code",
      "metadata": {
        "id": "6Il5WNiAqUN7"
      },
      "source": [
        "def check_HEPATICA(item):\n",
        "    if pd.isnull(item):\n",
        "        return 0;\n",
        "    else: return int(item);\n",
        "df_final2['HEPATICA'] = df['HEPATICA'].apply(check_HEPATICA)"
      ],
      "execution_count": 78,
      "outputs": []
    },
    {
      "cell_type": "code",
      "metadata": {
        "id": "NJ52mingqUN7"
      },
      "source": [
        "def check_ASMA(item):\n",
        "    if pd.isnull(item):\n",
        "        return 0;\n",
        "    else: return int(item);\n",
        "df_final2['ASMA'] = df['ASMA'].apply(check_ASMA)"
      ],
      "execution_count": 79,
      "outputs": []
    },
    {
      "cell_type": "code",
      "metadata": {
        "id": "9VU_7Df6qUN8"
      },
      "source": [
        "def check_DIABETES(item):\n",
        "    if pd.isnull(item):\n",
        "        return 0;\n",
        "    else: return int(item);\n",
        "df_final2['DIABETES'] = df['DIABETES'].apply(check_DIABETES)"
      ],
      "execution_count": 80,
      "outputs": []
    },
    {
      "cell_type": "code",
      "metadata": {
        "id": "YKxVVyYiqUN8"
      },
      "source": [
        "def check_NEUROLOGIC(item):\n",
        "    if pd.isnull(item):\n",
        "        return 0;\n",
        "    else: return int(item);\n",
        "df_final2['NEUROLOGIC'] = df['NEUROLOGIC'].apply(check_NEUROLOGIC)"
      ],
      "execution_count": 81,
      "outputs": []
    },
    {
      "cell_type": "code",
      "metadata": {
        "id": "iRmuE89EqUN9"
      },
      "source": [
        "def check_PNEUMOPATI(item):\n",
        "    if pd.isnull(item):\n",
        "        return 0;\n",
        "    else: return int(item);\n",
        "df_final2['PNEUMOPATI'] = df['PNEUMOPATI'].apply(check_PNEUMOPATI)"
      ],
      "execution_count": 82,
      "outputs": []
    },
    {
      "cell_type": "code",
      "metadata": {
        "id": "T667_p1jqUN9"
      },
      "source": [
        "def check_IMUNODEPRE(item):\n",
        "    if pd.isnull(item):\n",
        "        return 0;\n",
        "    else: return int(item);\n",
        "df_final2['IMUNODEPRE'] = df['IMUNODEPRE'].apply(check_IMUNODEPRE)"
      ],
      "execution_count": 83,
      "outputs": []
    },
    {
      "cell_type": "code",
      "metadata": {
        "id": "51sjUuAjqUN-"
      },
      "source": [
        "def check_RENAL(item):\n",
        "    if pd.isnull(item):\n",
        "        return 0;\n",
        "    else: return int(item);\n",
        "df_final2['RENAL'] = df['RENAL'].apply(check_RENAL)"
      ],
      "execution_count": 84,
      "outputs": []
    },
    {
      "cell_type": "code",
      "metadata": {
        "id": "2gr-quwFqUN_"
      },
      "source": [
        "def check_OBESIDADE(item):\n",
        "    if pd.isnull(item):\n",
        "        return 0;\n",
        "    else: return int(item);\n",
        "df_final2['OBESIDADE'] = df['OBESIDADE'].apply(check_OBESIDADE)"
      ],
      "execution_count": 85,
      "outputs": []
    },
    {
      "cell_type": "code",
      "metadata": {
        "id": "cF9h6hKhqUN_"
      },
      "source": [
        "def check_CS_RACA(item):\n",
        "    if pd.isnull(item):\n",
        "        return 0;\n",
        "    else: return int(item);\n",
        "df_final2['CS_RACA'] = df['CS_RACA'].apply(check_CS_RACA)"
      ],
      "execution_count": 86,
      "outputs": []
    },
    {
      "cell_type": "code",
      "metadata": {
        "id": "shgKUJUPqUOA"
      },
      "source": [
        "def check_CS_ESCOL_N(item):\n",
        "    if pd.isnull(item):\n",
        "        return 0;\n",
        "    else: return int(item);\n",
        "df_final2['CS_ESCOL_N'] = df['CS_ESCOL_N'].apply(check_CS_ESCOL_N)"
      ],
      "execution_count": 87,
      "outputs": []
    },
    {
      "cell_type": "code",
      "metadata": {
        "id": "uTKuWMb-qUOA"
      },
      "source": [
        "def check_SURTO_SG(item):\n",
        "    if pd.isnull(item):\n",
        "        return 0;\n",
        "    else: return int(item);\n",
        "df_final2['SURTO_SG'] = df['SURTO_SG'].apply(check_SURTO_SG)"
      ],
      "execution_count": 88,
      "outputs": []
    },
    {
      "cell_type": "code",
      "metadata": {
        "colab": {
          "base_uri": "https://localhost:8080/"
        },
        "id": "XYJICZSiqUOB",
        "outputId": "940d98f7-c0bf-41ed-f44c-21d39d652686"
      },
      "source": [
        "df_final2.shape"
      ],
      "execution_count": 89,
      "outputs": [
        {
          "output_type": "execute_result",
          "data": {
            "text/plain": [
              "(1189743, 52)"
            ]
          },
          "metadata": {
            "tags": []
          },
          "execution_count": 89
        }
      ]
    },
    {
      "cell_type": "code",
      "metadata": {
        "id": "ugG-bxQCqUOC"
      },
      "source": [
        "df_base_modelada = df_final2[['SG_UF_NOT_x','ID_MUNICIP_x','NU_IDADE_N','CS_GESTANT','CS_RACA','CS_ESCOL_N','SURTO_SG','PUERPERA','FATOR_RISC','CARDIOPATI','HEMATOLOGI','SIND_DOWN','HEPATICA','ASMA','DIABETES','NEUROLOGIC','PNEUMOPATI','IMUNODEPRE','RENAL','OBESIDADE','OBES_IMC','OUT_MORBI','MORB_DESC','MAE_VAC','M_AMAMENTA','Flag_100_maiores_municipios_PIB','Flag_100_maiores_municipios_PIB_per_capta','resposta','CS_SEXO_F','pop_2019','enf_total','enf_sus','enf_100K','enf_100K_sus','medicos','medicos_sus','medicos_100K','medicos_100K_sus','respiradores','respiradores_100K','respiradores_100K_sus','respiradores_sus','leitos_uti','leitos_uti_100K','leitos_uti_sus','leitos_uti_sus_100K','trabalhadores_informais','trabalhadores_informais_metrop','trabalhadores_informais_capital','trabalhadores_informais_interior']]"
      ],
      "execution_count": 90,
      "outputs": []
    },
    {
      "cell_type": "code",
      "metadata": {
        "id": "ocDMNnKIqUOD"
      },
      "source": [
        "df_base_modelada = df_base_modelada.iloc[:,1:52]"
      ],
      "execution_count": 91,
      "outputs": []
    },
    {
      "cell_type": "code",
      "metadata": {
        "colab": {
          "base_uri": "https://localhost:8080/"
        },
        "id": "n4P4cq6WqUOE",
        "outputId": "0e1344bd-8a01-4e82-ff86-7acf2ce11983"
      },
      "source": [
        "df_base_modelada.shape"
      ],
      "execution_count": 92,
      "outputs": [
        {
          "output_type": "execute_result",
          "data": {
            "text/plain": [
              "(1189743, 50)"
            ]
          },
          "metadata": {
            "tags": []
          },
          "execution_count": 92
        }
      ]
    },
    {
      "cell_type": "markdown",
      "metadata": {
        "id": "kDLiBW__qUOF"
      },
      "source": [
        "# CRIANDO DUMMYS"
      ]
    },
    {
      "cell_type": "markdown",
      "metadata": {
        "id": "4jTYXJoMUMH1"
      },
      "source": [
        "Retiramos a variavel municipio, devido ao custo de processamento"
      ]
    },
    {
      "cell_type": "code",
      "metadata": {
        "colab": {
          "base_uri": "https://localhost:8080/"
        },
        "id": "Pk4JJ23HqUOG",
        "outputId": "f481a65a-fa44-4ace-c1c5-f9f09ea2354e"
      },
      "source": [
        "df_dummy = df_base_modelada[['SG_UF_NOT_x','NU_IDADE_N','CS_GESTANT','CS_RACA','CS_ESCOL_N','CARDIOPATI','HEMATOLOGI','SIND_DOWN','HEPATICA','ASMA','DIABETES','NEUROLOGIC','PNEUMOPATI','IMUNODEPRE','RENAL','OBESIDADE','OBES_IMC','OUT_MORBI','MORB_DESC','MAE_VAC','M_AMAMENTA']]\n",
        "df_dummy.shape"
      ],
      "execution_count": 93,
      "outputs": [
        {
          "output_type": "execute_result",
          "data": {
            "text/plain": [
              "(1189743, 21)"
            ]
          },
          "metadata": {
            "tags": []
          },
          "execution_count": 93
        }
      ]
    },
    {
      "cell_type": "code",
      "metadata": {
        "id": "uX-s0FsgqUOH"
      },
      "source": [
        "df_dummy_concat = df_dummy.astype(str).apply(lambda item : item.name + '_' + item)"
      ],
      "execution_count": 94,
      "outputs": []
    },
    {
      "cell_type": "code",
      "metadata": {
        "id": "9MYvHGXgqUOI"
      },
      "source": [
        "df_dummy_final = pd.get_dummies(df_dummy_concat)"
      ],
      "execution_count": 95,
      "outputs": []
    },
    {
      "cell_type": "code",
      "metadata": {
        "colab": {
          "base_uri": "https://localhost:8080/"
        },
        "id": "GHnTq_OMqUOI",
        "outputId": "bcc92e55-e8db-46b9-f823-3acdbe4d7de8"
      },
      "source": [
        "df_dummy_final.shape"
      ],
      "execution_count": 96,
      "outputs": [
        {
          "output_type": "execute_result",
          "data": {
            "text/plain": [
              "(1189743, 125)"
            ]
          },
          "metadata": {
            "tags": []
          },
          "execution_count": 96
        }
      ]
    },
    {
      "cell_type": "code",
      "metadata": {
        "colab": {
          "base_uri": "https://localhost:8080/"
        },
        "id": "1WTsXFEmqUOJ",
        "outputId": "48a3feab-1bfd-452a-b602-6adea40d21ec"
      },
      "source": [
        "df_demais = df_base_modelada[['SURTO_SG','PUERPERA','FATOR_RISC','Flag_100_maiores_municipios_PIB','Flag_100_maiores_municipios_PIB_per_capta','CS_SEXO_F','pop_2019','enf_total','enf_sus','enf_100K','enf_100K_sus','medicos','medicos_sus','medicos_100K','medicos_100K_sus','respiradores','respiradores_100K','respiradores_100K_sus','respiradores_sus','leitos_uti','leitos_uti_100K','leitos_uti_sus','leitos_uti_sus_100K','trabalhadores_informais','trabalhadores_informais_metrop','trabalhadores_informais_capital','trabalhadores_informais_interior','resposta']]\n",
        "df_demais.shape"
      ],
      "execution_count": 97,
      "outputs": [
        {
          "output_type": "execute_result",
          "data": {
            "text/plain": [
              "(1189743, 28)"
            ]
          },
          "metadata": {
            "tags": []
          },
          "execution_count": 97
        }
      ]
    },
    {
      "cell_type": "code",
      "metadata": {
        "id": "11Fz1exuvXqu"
      },
      "source": [
        "df_final = pd.concat([df_demais, df_dummy_final], axis=1)\n"
      ],
      "execution_count": 98,
      "outputs": []
    },
    {
      "cell_type": "code",
      "metadata": {
        "colab": {
          "base_uri": "https://localhost:8080/"
        },
        "id": "78QSS7R1UoDb",
        "outputId": "a2f9f438-ad3a-4314-b75c-7df42997b83f"
      },
      "source": [
        "df_final.shape"
      ],
      "execution_count": 99,
      "outputs": [
        {
          "output_type": "execute_result",
          "data": {
            "text/plain": [
              "(1189743, 153)"
            ]
          },
          "metadata": {
            "tags": []
          },
          "execution_count": 99
        }
      ]
    },
    {
      "cell_type": "markdown",
      "metadata": {
        "id": "YlJ5PpfRvnR9"
      },
      "source": [
        "#Separando amostra balanceada  pelo target para regressão logistica"
      ]
    },
    {
      "cell_type": "code",
      "metadata": {
        "colab": {
          "base_uri": "https://localhost:8080/"
        },
        "id": "3ra9-mcs-1OE",
        "outputId": "ebd813f5-f88c-400c-a7e0-18252b18a12a"
      },
      "source": [
        "#Resposta = 1\n",
        "resposta_1 = df_final.loc[df_final['resposta']==1]\n",
        "resposta_1.shape"
      ],
      "execution_count": 100,
      "outputs": [
        {
          "output_type": "execute_result",
          "data": {
            "text/plain": [
              "(300504, 153)"
            ]
          },
          "metadata": {
            "tags": []
          },
          "execution_count": 100
        }
      ]
    },
    {
      "cell_type": "code",
      "metadata": {
        "colab": {
          "base_uri": "https://localhost:8080/"
        },
        "id": "Vz4yIoYJFaPz",
        "outputId": "a927855e-62f4-4075-c595-b4e1c97623d5"
      },
      "source": [
        "#Resposta = 0\n",
        "resposta_0 = df_final.loc[df_final['resposta']==0]\n",
        "resposta_0.shape"
      ],
      "execution_count": 101,
      "outputs": [
        {
          "output_type": "execute_result",
          "data": {
            "text/plain": [
              "(889239, 153)"
            ]
          },
          "metadata": {
            "tags": []
          },
          "execution_count": 101
        }
      ]
    },
    {
      "cell_type": "code",
      "metadata": {
        "id": "u-jAe14pFo0n"
      },
      "source": [
        "resp_0 = resposta_0.sample(300504)"
      ],
      "execution_count": 102,
      "outputs": []
    },
    {
      "cell_type": "markdown",
      "metadata": {
        "id": "m8RnYGq6GB6U"
      },
      "source": [
        "#Juntando dataframes de igual tamanho para respostas de obito e não obito, a fim de obtermos uma base 50%/50%"
      ]
    },
    {
      "cell_type": "markdown",
      "metadata": {
        "id": "Gy9P2_4G9Ykg"
      },
      "source": [
        "Devido as grandes dimensões da base, 1.189.743 linhas e 3.045, enfrentamos multiplos desafios de processamento e espaço com memória.\n",
        "Por isso optamos pela amostra balanceada respeitando aleatoriedade"
      ]
    },
    {
      "cell_type": "code",
      "metadata": {
        "colab": {
          "base_uri": "https://localhost:8080/"
        },
        "id": "45G-i2WRF8MR",
        "outputId": "e7c9a51a-4eac-4126-8bb2-931d4de74465"
      },
      "source": [
        "df_balanceamento=pd.concat([resposta_1,resp_0], ignore_index=True)\n",
        "df_balanceamento.shape"
      ],
      "execution_count": 103,
      "outputs": [
        {
          "output_type": "execute_result",
          "data": {
            "text/plain": [
              "(601008, 153)"
            ]
          },
          "metadata": {
            "tags": []
          },
          "execution_count": 103
        }
      ]
    },
    {
      "cell_type": "code",
      "metadata": {
        "id": "JMvRt2fPx2jp"
      },
      "source": [
        "X = df_balanceamento.drop(['resposta'], axis=1)"
      ],
      "execution_count": 104,
      "outputs": []
    },
    {
      "cell_type": "code",
      "metadata": {
        "id": "a00-Wbvv1PF5"
      },
      "source": [
        "y= df_balanceamento['resposta']"
      ],
      "execution_count": 105,
      "outputs": []
    },
    {
      "cell_type": "code",
      "metadata": {
        "id": "A3znfdq1oStR"
      },
      "source": [
        "df_balanceamento.to_csv('base_sql.csv')"
      ],
      "execution_count": 106,
      "outputs": []
    },
    {
      "cell_type": "markdown",
      "metadata": {
        "id": "lCcNzW7gQ0-w"
      },
      "source": [
        "Separando a base em 30% para teste e 70% para treino"
      ]
    },
    {
      "cell_type": "code",
      "metadata": {
        "id": "YPZAqxf7veOw"
      },
      "source": [
        "X_train, X_test, y_train, y_test = train_test_split( X, y, test_size=0.3, random_state=42)"
      ],
      "execution_count": 107,
      "outputs": []
    },
    {
      "cell_type": "markdown",
      "metadata": {
        "id": "znJXWQakT-gD"
      },
      "source": [
        "#Árvore de Decisão"
      ]
    },
    {
      "cell_type": "code",
      "metadata": {
        "id": "LqCMPv_3WdRA"
      },
      "source": [
        "clf = DecisionTreeClassifier()\n",
        "clf = clf.fit(X_train,y_train)"
      ],
      "execution_count": 108,
      "outputs": []
    },
    {
      "cell_type": "code",
      "metadata": {
        "id": "wg_XjSqKY1kr"
      },
      "source": [
        "#clf.feature_importances_"
      ],
      "execution_count": 109,
      "outputs": []
    },
    {
      "cell_type": "code",
      "metadata": {
        "colab": {
          "base_uri": "https://localhost:8080/"
        },
        "id": "zgEZC4xaY2OP",
        "outputId": "e3a9ee50-c002-4bfd-9ad0-3ab2b4118f76"
      },
      "source": [
        "for feature,importancia in zip(df_balanceamento.columns,clf.feature_importances_):\n",
        "    print(\"{}:{}\".format(feature, importancia))"
      ],
      "execution_count": 110,
      "outputs": [
        {
          "output_type": "stream",
          "text": [
            "SURTO_SG:0.07480139899621191\n",
            "PUERPERA:0.005863079767387395\n",
            "FATOR_RISC:0.03968055112593704\n",
            "Flag_100_maiores_municipios_PIB:0.006041462012274449\n",
            "Flag_100_maiores_municipios_PIB_per_capta:0.0029332388663344654\n",
            "CS_SEXO_F:0.0187221260567421\n",
            "pop_2019:0.011672066404699494\n",
            "enf_total:0.009004713106745176\n",
            "enf_sus:0.008829890876901107\n",
            "enf_100K:0.014863852539725863\n",
            "enf_100K_sus:0.014131381765898213\n",
            "medicos:0.00944596832551462\n",
            "medicos_sus:0.010402829472532547\n",
            "medicos_100K:0.015904720267890898\n",
            "medicos_100K_sus:0.013932084218236043\n",
            "respiradores:0.008703628527642613\n",
            "respiradores_100K:0.012798527816139237\n",
            "respiradores_100K_sus:0.01232989903123137\n",
            "respiradores_sus:0.00920612953585998\n",
            "leitos_uti:0.007993416146494082\n",
            "leitos_uti_100K:0.010919579150901651\n",
            "leitos_uti_sus:0.007695357414492736\n",
            "leitos_uti_sus_100K:0.010404211177863958\n",
            "trabalhadores_informais:0.004583817967266198\n",
            "trabalhadores_informais_metrop:0.006836970346654555\n",
            "trabalhadores_informais_capital:0.0055639451337013476\n",
            "trabalhadores_informais_interior:0.015786123131050815\n",
            "resposta:0.0002744218522280555\n",
            "SG_UF_NOT_x_SG_UF_NOT_x_AC:0.0008091806825071218\n",
            "SG_UF_NOT_x_SG_UF_NOT_x_AL:0.0012391047418822056\n",
            "SG_UF_NOT_x_SG_UF_NOT_x_AM:0.0003413051353817461\n",
            "SG_UF_NOT_x_SG_UF_NOT_x_AP:0.0022186497915709915\n",
            "SG_UF_NOT_x_SG_UF_NOT_x_BA:0.0018933509982506202\n",
            "SG_UF_NOT_x_SG_UF_NOT_x_CE:0.00020056720567946832\n",
            "SG_UF_NOT_x_SG_UF_NOT_x_DF:0.001240131222588619\n",
            "SG_UF_NOT_x_SG_UF_NOT_x_ES:0.0012908934233299427\n",
            "SG_UF_NOT_x_SG_UF_NOT_x_GO:0.0009722436231227009\n",
            "SG_UF_NOT_x_SG_UF_NOT_x_MA:0.0024767736766973586\n",
            "SG_UF_NOT_x_SG_UF_NOT_x_MG:0.0006673727427800535\n",
            "SG_UF_NOT_x_SG_UF_NOT_x_MS:0.002321228574471563\n",
            "SG_UF_NOT_x_SG_UF_NOT_x_MT:0.0023263670256255275\n",
            "SG_UF_NOT_x_SG_UF_NOT_x_PA:0.0010915732918734256\n",
            "SG_UF_NOT_x_SG_UF_NOT_x_PB:0.0019288265091473786\n",
            "SG_UF_NOT_x_SG_UF_NOT_x_PE:0.0007603110397429075\n",
            "SG_UF_NOT_x_SG_UF_NOT_x_PI:0.002216698542328402\n",
            "SG_UF_NOT_x_SG_UF_NOT_x_PR:0.0024162911174757514\n",
            "SG_UF_NOT_x_SG_UF_NOT_x_RJ:0.0007915020156612481\n",
            "SG_UF_NOT_x_SG_UF_NOT_x_RN:0.0006660827292501774\n",
            "SG_UF_NOT_x_SG_UF_NOT_x_RO:0.00048628422159176297\n",
            "SG_UF_NOT_x_SG_UF_NOT_x_RR:0.00204209876947927\n",
            "SG_UF_NOT_x_SG_UF_NOT_x_RS:0.001177209319571132\n",
            "SG_UF_NOT_x_SG_UF_NOT_x_SC:0.0010132451746558617\n",
            "SG_UF_NOT_x_SG_UF_NOT_x_SE:0.003403277280024991\n",
            "SG_UF_NOT_x_SG_UF_NOT_x_SP:0.0005000070582455582\n",
            "SG_UF_NOT_x_SG_UF_NOT_x_TO:0.0001316245436350838\n",
            "NU_IDADE_N_NU_IDADE_N_0:0.01344335703343328\n",
            "NU_IDADE_N_NU_IDADE_N_1:0.028148563803526386\n",
            "NU_IDADE_N_NU_IDADE_N_10:0.0006632114819544502\n",
            "NU_IDADE_N_NU_IDADE_N_2:0.001487091189723761\n",
            "NU_IDADE_N_NU_IDADE_N_3:0.001889056978090387\n",
            "NU_IDADE_N_NU_IDADE_N_4:0.003399233308370368\n",
            "NU_IDADE_N_NU_IDADE_N_5:0.010701188963963897\n",
            "NU_IDADE_N_NU_IDADE_N_6:0.027725468677544593\n",
            "NU_IDADE_N_NU_IDADE_N_7:0.03295293041371707\n",
            "NU_IDADE_N_NU_IDADE_N_8:0.03108745690786308\n",
            "NU_IDADE_N_NU_IDADE_N_9:8.760019888307814e-05\n",
            "CS_GESTANT_CS_GESTANT_0:0.00013293799367527183\n",
            "CS_GESTANT_CS_GESTANT_1:0.0003579789851672889\n",
            "CS_GESTANT_CS_GESTANT_2:0.00059284404769647\n",
            "CS_GESTANT_CS_GESTANT_3:7.348909120566794e-05\n",
            "CS_GESTANT_CS_GESTANT_4:0.014492810711665308\n",
            "CS_GESTANT_CS_GESTANT_5:0.013162599818020237\n",
            "CS_GESTANT_CS_GESTANT_6:0.008119254323066613\n",
            "CS_GESTANT_CS_GESTANT_9:0.008036185100330454\n",
            "CS_RACA_CS_RACA_0:0.020306805322699174\n",
            "CS_RACA_CS_RACA_1:0.012121538378199239\n",
            "CS_RACA_CS_RACA_2:0.00432927132450456\n",
            "CS_RACA_CS_RACA_3:0.020494696936157415\n",
            "CS_RACA_CS_RACA_4:0.0011938928796293429\n",
            "CS_RACA_CS_RACA_5:0.012536097607641883\n",
            "CS_RACA_CS_RACA_9:0.022345452332713078\n",
            "CS_ESCOL_N_CS_ESCOL_N_0:0.015985930603788074\n",
            "CS_ESCOL_N_CS_ESCOL_N_1:0.013801128578318982\n",
            "CS_ESCOL_N_CS_ESCOL_N_2:0.014458036098795453\n",
            "CS_ESCOL_N_CS_ESCOL_N_3:0.008742200591026723\n",
            "CS_ESCOL_N_CS_ESCOL_N_4:0.0004537193067509341\n",
            "CS_ESCOL_N_CS_ESCOL_N_5:0.02452556593483611\n",
            "CS_ESCOL_N_CS_ESCOL_N_9:0.007087275096988542\n",
            "CARDIOPATI_CARDIOPATI_0:0.016013777389805136\n",
            "CARDIOPATI_CARDIOPATI_1:0.011461597745502566\n",
            "CARDIOPATI_CARDIOPATI_2:0.0006569654979747878\n",
            "CARDIOPATI_CARDIOPATI_9:0.001550230874259729\n",
            "HEMATOLOGI_HEMATOLOGI_0:0.003168646842946618\n",
            "HEMATOLOGI_HEMATOLOGI_1:0.002218270785875372\n",
            "HEMATOLOGI_HEMATOLOGI_2:0.0003418683406963987\n",
            "HEMATOLOGI_HEMATOLOGI_9:0.0012100864465521923\n",
            "SIND_DOWN_SIND_DOWN_0:0.0013192341281712116\n",
            "SIND_DOWN_SIND_DOWN_1:0.0012918153700370429\n",
            "SIND_DOWN_SIND_DOWN_2:0.00042636841122439985\n",
            "SIND_DOWN_SIND_DOWN_9:0.0017703470043039834\n",
            "HEPATICA_HEPATICA_0:0.003526689987440695\n",
            "HEPATICA_HEPATICA_1:0.0024977845251739246\n",
            "HEPATICA_HEPATICA_2:0.0003712429085229398\n",
            "HEPATICA_HEPATICA_9:0.0023291039335990487\n",
            "ASMA_ASMA_0:0.006850626098196611\n",
            "ASMA_ASMA_1:0.003674905395649499\n",
            "ASMA_ASMA_2:0.0004298142400671333\n",
            "ASMA_ASMA_9:0.007446237871740313\n",
            "DIABETES_DIABETES_0:0.016755791639702443\n",
            "DIABETES_DIABETES_1:0.01133988078627202\n",
            "DIABETES_DIABETES_2:0.0008194226980984714\n",
            "DIABETES_DIABETES_9:0.0029138181262933468\n",
            "NEUROLOGIC_NEUROLOGIC_0:0.0071706594351748434\n",
            "NEUROLOGIC_NEUROLOGIC_1:0.004297264708090189\n",
            "NEUROLOGIC_NEUROLOGIC_2:0.000414068661542298\n",
            "NEUROLOGIC_NEUROLOGIC_9:0.003760324583061877\n",
            "PNEUMOPATI_PNEUMOPATI_0:0.009469623622651399\n",
            "PNEUMOPATI_PNEUMOPATI_1:0.006566092700355114\n",
            "PNEUMOPATI_PNEUMOPATI_2:0.000774557268959975\n",
            "PNEUMOPATI_PNEUMOPATI_9:0.002273931381612309\n",
            "IMUNODEPRE_IMUNODEPRE_0:0.00616625797559241\n",
            "IMUNODEPRE_IMUNODEPRE_1:0.0032604547065611758\n",
            "IMUNODEPRE_IMUNODEPRE_2:0.0004600735203049516\n",
            "IMUNODEPRE_IMUNODEPRE_9:0.002500840453092213\n",
            "RENAL_RENAL_0:0.006284753233463732\n",
            "RENAL_RENAL_1:0.00322640444555693\n",
            "RENAL_RENAL_2:0.00045245649757357165\n",
            "RENAL_RENAL_9:0.0036178875666546414\n",
            "OBESIDADE_OBESIDADE_0:0.006928232751229456\n",
            "OBESIDADE_OBESIDADE_1:0.005438771507446504\n",
            "OBESIDADE_OBESIDADE_2:0.002373477777382632\n",
            "OBESIDADE_OBESIDADE_9:0.0007869983571154092\n",
            "OBES_IMC_OBES_IMC_1:0.0\n",
            "OBES_IMC_OBES_IMC_2:8.560747349471773e-05\n",
            "OBES_IMC_OBES_IMC_3:0.000448780249580568\n",
            "OBES_IMC_OBES_IMC_4:0.0017648171717502526\n",
            "OBES_IMC_OBES_IMC_5:0.0009340633959069053\n",
            "OBES_IMC_OBES_IMC_6:0.002523627143181501\n",
            "OBES_IMC_OBES_IMC_9:0.007528136814076857\n",
            "OUT_MORBI_OUT_MORBI_0:0.006804622037594677\n",
            "OUT_MORBI_OUT_MORBI_1:0.008199523056108122\n",
            "OUT_MORBI_OUT_MORBI_2:0.001654949947155667\n",
            "OUT_MORBI_OUT_MORBI_9:0.005835143539589897\n",
            "MORB_DESC_MORB_DESC_0:0.005411905102294009\n",
            "MORB_DESC_MORB_DESC_1:0.00018142312914136123\n",
            "MAE_VAC_MAE_VAC_0:0.00011012652078717796\n",
            "MAE_VAC_MAE_VAC_1:0.0001805087983411161\n",
            "MAE_VAC_MAE_VAC_2:0.00021681215738721547\n",
            "MAE_VAC_MAE_VAC_9:0.00012441035562253975\n",
            "M_AMAMENTA_M_AMAMENTA_0:0.00015117368251961295\n",
            "M_AMAMENTA_M_AMAMENTA_1:0.00024260568804314756\n",
            "M_AMAMENTA_M_AMAMENTA_2:0.00011164402482128349\n"
          ],
          "name": "stdout"
        }
      ]
    },
    {
      "cell_type": "code",
      "metadata": {
        "id": "UrXDl9ByZVBj"
      },
      "source": [
        "resultado = clf.predict(X_test)"
      ],
      "execution_count": 111,
      "outputs": []
    },
    {
      "cell_type": "code",
      "metadata": {
        "colab": {
          "base_uri": "https://localhost:8080/"
        },
        "id": "dXmVOhzHZVOm",
        "outputId": "0ccedb39-1807-4004-9354-84112953f0ed"
      },
      "source": [
        "#print(metrics.classification_report(y_test,resultado))"
      ],
      "execution_count": null,
      "outputs": [
        {
          "output_type": "stream",
          "text": [
            "              precision    recall  f1-score   support\n",
            "\n",
            "           0       0.62      0.66      0.64     90164\n",
            "           1       0.63      0.60      0.61     90139\n",
            "\n",
            "    accuracy                           0.63    180303\n",
            "   macro avg       0.63      0.63      0.63    180303\n",
            "weighted avg       0.63      0.63      0.63    180303\n",
            "\n"
          ],
          "name": "stdout"
        }
      ]
    },
    {
      "cell_type": "code",
      "metadata": {
        "colab": {
          "base_uri": "https://localhost:8080/"
        },
        "id": "qc0dFa9ISNZQ",
        "outputId": "2827f652-e4f6-4f00-a451-d2dc225ecaf3"
      },
      "source": [
        "from sklearn.metrics import accuracy_score, recall_score, confusion_matrix\n",
        "\n",
        "y_pred=clf.predict(X_test)\n",
        "print(accuracy_score(y_test,y_pred))\n",
        "print(recall_score(y_test,y_pred))\n",
        "print(confusion_matrix(y_test,y_pred))"
      ],
      "execution_count": 113,
      "outputs": [
        {
          "output_type": "stream",
          "text": [
            "0.6274770802482488\n",
            "0.5934833978633001\n",
            "[[59640 30524]\n",
            " [36643 53496]]\n"
          ],
          "name": "stdout"
        }
      ]
    },
    {
      "cell_type": "markdown",
      "metadata": {
        "id": "fBtoQEhla2Qv"
      },
      "source": [
        "#Random Forest"
      ]
    },
    {
      "cell_type": "code",
      "metadata": {
        "colab": {
          "base_uri": "https://localhost:8080/"
        },
        "id": "EkottQEgZVX3",
        "outputId": "aaf00c86-50b6-43da-c799-604e25f16e6d"
      },
      "source": [
        "rfc = RandomForestClassifier()\n",
        "rfc.fit(X_train, y_train)"
      ],
      "execution_count": 118,
      "outputs": [
        {
          "output_type": "execute_result",
          "data": {
            "text/plain": [
              "RandomForestClassifier(bootstrap=True, ccp_alpha=0.0, class_weight=None,\n",
              "                       criterion='gini', max_depth=None, max_features='auto',\n",
              "                       max_leaf_nodes=None, max_samples=None,\n",
              "                       min_impurity_decrease=0.0, min_impurity_split=None,\n",
              "                       min_samples_leaf=1, min_samples_split=2,\n",
              "                       min_weight_fraction_leaf=0.0, n_estimators=100,\n",
              "                       n_jobs=None, oob_score=False, random_state=None,\n",
              "                       verbose=0, warm_start=False)"
            ]
          },
          "metadata": {
            "tags": []
          },
          "execution_count": 118
        }
      ]
    },
    {
      "cell_type": "code",
      "metadata": {
        "id": "G5QGKClNa7Vs"
      },
      "source": [
        "y_pred=rfc.predict(X_test)"
      ],
      "execution_count": 121,
      "outputs": []
    },
    {
      "cell_type": "code",
      "metadata": {
        "colab": {
          "base_uri": "https://localhost:8080/"
        },
        "id": "XQjx8MkBbCTq",
        "outputId": "7f99cfd7-2e17-4ebd-da75-1b409e8622ae"
      },
      "source": [
        "from sklearn.metrics import accuracy_score, recall_score, confusion_matrix\n",
        "\n",
        "print(accuracy_score(y_test,y_pred))\n",
        "print(recall_score(y_test,y_pred))\n",
        "print(confusion_matrix(y_test,y_pred))"
      ],
      "execution_count": 122,
      "outputs": [
        {
          "output_type": "stream",
          "text": [
            "0.6678868349389638\n",
            "0.6836330556141071\n",
            "[[58800 31364]\n",
            " [28517 61622]]\n"
          ],
          "name": "stdout"
        }
      ]
    },
    {
      "cell_type": "code",
      "metadata": {
        "colab": {
          "base_uri": "https://localhost:8080/"
        },
        "id": "NqJnCGINToaN",
        "outputId": "fa99063d-2470-48ea-dd27-63a8c768ea6a"
      },
      "source": [
        "for feature,importancia in zip(df_balanceamento.columns,rfc.feature_importances_):\n",
        "    print(\"{}:{}\".format(feature, importancia))"
      ],
      "execution_count": 123,
      "outputs": [
        {
          "output_type": "stream",
          "text": [
            "SURTO_SG:0.08512522982652802\n",
            "PUERPERA:0.005007840164306424\n",
            "FATOR_RISC:0.01092506388225415\n",
            "Flag_100_maiores_municipios_PIB:0.006315325536452226\n",
            "Flag_100_maiores_municipios_PIB_per_capta:0.002625988648446745\n",
            "CS_SEXO_F:0.026055755995169797\n",
            "pop_2019:0.011449075792263858\n",
            "enf_total:0.010982570640115295\n",
            "enf_sus:0.010874288830935332\n",
            "enf_100K:0.011364311881091353\n",
            "enf_100K_sus:0.011212558981262334\n",
            "medicos:0.011148855263905992\n",
            "medicos_sus:0.011062470963101298\n",
            "medicos_100K:0.012150196446821889\n",
            "medicos_100K_sus:0.011378906721030386\n",
            "respiradores:0.010057948503217878\n",
            "respiradores_100K:0.010389975057206447\n",
            "respiradores_100K_sus:0.010134072025118507\n",
            "respiradores_sus:0.009978245150952266\n",
            "leitos_uti:0.008452869689264291\n",
            "leitos_uti_100K:0.008726322599978884\n",
            "leitos_uti_sus:0.008264774115405847\n",
            "leitos_uti_sus_100K:0.008133268999251158\n",
            "trabalhadores_informais:0.006518718119420356\n",
            "trabalhadores_informais_metrop:0.005982896164796652\n",
            "trabalhadores_informais_capital:0.006302086022096745\n",
            "trabalhadores_informais_interior:0.008368182900451764\n",
            "resposta:0.0002611281791878506\n",
            "SG_UF_NOT_x_SG_UF_NOT_x_AC:0.0007362028137588876\n",
            "SG_UF_NOT_x_SG_UF_NOT_x_AL:0.0012728574645100817\n",
            "SG_UF_NOT_x_SG_UF_NOT_x_AM:0.0003515072439111459\n",
            "SG_UF_NOT_x_SG_UF_NOT_x_AP:0.00208061438552921\n",
            "SG_UF_NOT_x_SG_UF_NOT_x_BA:0.002025925922135962\n",
            "SG_UF_NOT_x_SG_UF_NOT_x_CE:0.00024092384936186446\n",
            "SG_UF_NOT_x_SG_UF_NOT_x_DF:0.0011578937215381002\n",
            "SG_UF_NOT_x_SG_UF_NOT_x_ES:0.0013806628887110916\n",
            "SG_UF_NOT_x_SG_UF_NOT_x_GO:0.001004801149997399\n",
            "SG_UF_NOT_x_SG_UF_NOT_x_MA:0.0028554374589820266\n",
            "SG_UF_NOT_x_SG_UF_NOT_x_MG:0.0009282128397348562\n",
            "SG_UF_NOT_x_SG_UF_NOT_x_MS:0.002725982827566209\n",
            "SG_UF_NOT_x_SG_UF_NOT_x_MT:0.002311091640085283\n",
            "SG_UF_NOT_x_SG_UF_NOT_x_PA:0.0010873240750033126\n",
            "SG_UF_NOT_x_SG_UF_NOT_x_PB:0.002013397424647718\n",
            "SG_UF_NOT_x_SG_UF_NOT_x_PE:0.0006594407924835211\n",
            "SG_UF_NOT_x_SG_UF_NOT_x_PI:0.002571488952005242\n",
            "SG_UF_NOT_x_SG_UF_NOT_x_PR:0.0030170836417447457\n",
            "SG_UF_NOT_x_SG_UF_NOT_x_RJ:0.0007796719093793299\n",
            "SG_UF_NOT_x_SG_UF_NOT_x_RN:0.0006156732186876915\n",
            "SG_UF_NOT_x_SG_UF_NOT_x_RO:0.0004074804901092535\n",
            "SG_UF_NOT_x_SG_UF_NOT_x_RR:0.002053672270721051\n",
            "SG_UF_NOT_x_SG_UF_NOT_x_RS:0.001651987513995659\n",
            "SG_UF_NOT_x_SG_UF_NOT_x_SC:0.0008418247799129283\n",
            "SG_UF_NOT_x_SG_UF_NOT_x_SE:0.004504784160214607\n",
            "SG_UF_NOT_x_SG_UF_NOT_x_SP:0.0004591601788329786\n",
            "SG_UF_NOT_x_SG_UF_NOT_x_TO:0.00037319047826465284\n",
            "NU_IDADE_N_NU_IDADE_N_0:0.017409776064266375\n",
            "NU_IDADE_N_NU_IDADE_N_1:0.014526112158856885\n",
            "NU_IDADE_N_NU_IDADE_N_10:0.006222727327274417\n",
            "NU_IDADE_N_NU_IDADE_N_2:0.010632844283651322\n",
            "NU_IDADE_N_NU_IDADE_N_3:0.01593117796051071\n",
            "NU_IDADE_N_NU_IDADE_N_4:0.014726806988759082\n",
            "NU_IDADE_N_NU_IDADE_N_5:0.013457165154785879\n",
            "NU_IDADE_N_NU_IDADE_N_6:0.017072623370779215\n",
            "NU_IDADE_N_NU_IDADE_N_7:0.022954479209520113\n",
            "NU_IDADE_N_NU_IDADE_N_8:0.02744283899178728\n",
            "NU_IDADE_N_NU_IDADE_N_9:5.609390987913706e-05\n",
            "CS_GESTANT_CS_GESTANT_0:0.00013220472708825947\n",
            "CS_GESTANT_CS_GESTANT_1:0.00039244411256884236\n",
            "CS_GESTANT_CS_GESTANT_2:0.0009526138653451647\n",
            "CS_GESTANT_CS_GESTANT_3:0.00011810668794051709\n",
            "CS_GESTANT_CS_GESTANT_4:0.016499417434269147\n",
            "CS_GESTANT_CS_GESTANT_5:0.01623203655286599\n",
            "CS_GESTANT_CS_GESTANT_6:0.007971668526168221\n",
            "CS_GESTANT_CS_GESTANT_9:0.00820653731331093\n",
            "CS_RACA_CS_RACA_0:0.023700325603397458\n",
            "CS_RACA_CS_RACA_1:0.011396526045932135\n",
            "CS_RACA_CS_RACA_2:0.0037952464479991833\n",
            "CS_RACA_CS_RACA_3:0.023913320522408035\n",
            "CS_RACA_CS_RACA_4:0.0009859196464841841\n",
            "CS_RACA_CS_RACA_5:0.018330892390508093\n",
            "CS_RACA_CS_RACA_9:0.02513820469082554\n",
            "CS_ESCOL_N_CS_ESCOL_N_0:0.017080018568795097\n",
            "CS_ESCOL_N_CS_ESCOL_N_1:0.013741670992998636\n",
            "CS_ESCOL_N_CS_ESCOL_N_2:0.01550403931051501\n",
            "CS_ESCOL_N_CS_ESCOL_N_3:0.009279465903249842\n",
            "CS_ESCOL_N_CS_ESCOL_N_4:0.004947200822428779\n",
            "CS_ESCOL_N_CS_ESCOL_N_5:0.027623299067789053\n",
            "CS_ESCOL_N_CS_ESCOL_N_9:0.008831289207441738\n",
            "CARDIOPATI_CARDIOPATI_0:0.014112643161526358\n",
            "CARDIOPATI_CARDIOPATI_1:0.007888468551682137\n",
            "CARDIOPATI_CARDIOPATI_2:0.00046049992357144416\n",
            "CARDIOPATI_CARDIOPATI_9:0.0016468397988107487\n",
            "HEMATOLOGI_HEMATOLOGI_0:0.002242325191623346\n",
            "HEMATOLOGI_HEMATOLOGI_1:0.002160462504001006\n",
            "HEMATOLOGI_HEMATOLOGI_2:0.00039521728841304107\n",
            "HEMATOLOGI_HEMATOLOGI_9:0.0011868273491492415\n",
            "SIND_DOWN_SIND_DOWN_0:0.0008152392190302968\n",
            "SIND_DOWN_SIND_DOWN_1:0.0016511075876972229\n",
            "SIND_DOWN_SIND_DOWN_2:0.00033234695771617646\n",
            "SIND_DOWN_SIND_DOWN_9:0.0023147548762034727\n",
            "HEPATICA_HEPATICA_0:0.002745179420817238\n",
            "HEPATICA_HEPATICA_1:0.0026694284924917893\n",
            "HEPATICA_HEPATICA_2:0.00037209602555170196\n",
            "HEPATICA_HEPATICA_9:0.0026341168591401615\n",
            "ASMA_ASMA_0:0.005360541943266314\n",
            "ASMA_ASMA_1:0.0036291904392759494\n",
            "ASMA_ASMA_2:0.0004078955980730331\n",
            "ASMA_ASMA_9:0.007840018450283693\n",
            "DIABETES_DIABETES_0:0.014618697154704681\n",
            "DIABETES_DIABETES_1:0.00848791625490931\n",
            "DIABETES_DIABETES_2:0.0005403356303468679\n",
            "DIABETES_DIABETES_9:0.0041282332617504245\n",
            "NEUROLOGIC_NEUROLOGIC_0:0.006753619048511734\n",
            "NEUROLOGIC_NEUROLOGIC_1:0.00455106261085412\n",
            "NEUROLOGIC_NEUROLOGIC_2:0.0004072610241071177\n",
            "NEUROLOGIC_NEUROLOGIC_9:0.0037991128649631184\n",
            "PNEUMOPATI_PNEUMOPATI_0:0.007876806075467887\n",
            "PNEUMOPATI_PNEUMOPATI_1:0.005535717829375696\n",
            "PNEUMOPATI_PNEUMOPATI_2:0.00046058328946118156\n",
            "PNEUMOPATI_PNEUMOPATI_9:0.0030121970098941995\n",
            "IMUNODEPRE_IMUNODEPRE_0:0.005663301386515947\n",
            "IMUNODEPRE_IMUNODEPRE_1:0.004258150005725838\n",
            "IMUNODEPRE_IMUNODEPRE_2:0.00042718557821276896\n",
            "IMUNODEPRE_IMUNODEPRE_9:0.0037126732431670244\n",
            "RENAL_RENAL_0:0.006214926201111598\n",
            "RENAL_RENAL_1:0.0041626832412240385\n",
            "RENAL_RENAL_2:0.00042599519882139265\n",
            "RENAL_RENAL_9:0.004096121386565222\n",
            "OBESIDADE_OBESIDADE_0:0.006708117834587233\n",
            "OBESIDADE_OBESIDADE_1:0.005870386619526049\n",
            "OBESIDADE_OBESIDADE_2:0.0017106550874203632\n",
            "OBESIDADE_OBESIDADE_9:0.0007479231237828192\n",
            "OBES_IMC_OBES_IMC_1:8.629907933892004e-07\n",
            "OBES_IMC_OBES_IMC_2:7.93339966514732e-05\n",
            "OBES_IMC_OBES_IMC_3:0.00030661258580413496\n",
            "OBES_IMC_OBES_IMC_4:0.0017003975684678873\n",
            "OBES_IMC_OBES_IMC_5:0.0010775366354095243\n",
            "OBES_IMC_OBES_IMC_6:0.002715509706299654\n",
            "OBES_IMC_OBES_IMC_9:0.006909785181018365\n",
            "OUT_MORBI_OUT_MORBI_0:0.006117738329642642\n",
            "OUT_MORBI_OUT_MORBI_1:0.0056559321876110845\n",
            "OUT_MORBI_OUT_MORBI_2:0.0009782997595550297\n",
            "OUT_MORBI_OUT_MORBI_9:0.006532641772046071\n",
            "MORB_DESC_MORB_DESC_0:0.006548628989509197\n",
            "MORB_DESC_MORB_DESC_1:0.0004523659545021899\n",
            "MAE_VAC_MAE_VAC_0:5.452594971810395e-05\n",
            "MAE_VAC_MAE_VAC_1:0.00023357473491853874\n",
            "MAE_VAC_MAE_VAC_2:0.00026545053576875464\n",
            "MAE_VAC_MAE_VAC_9:0.0003292271304172781\n",
            "M_AMAMENTA_M_AMAMENTA_0:0.00015143865563752016\n",
            "M_AMAMENTA_M_AMAMENTA_1:0.00014490369243530104\n",
            "M_AMAMENTA_M_AMAMENTA_2:0.0001480579922040496\n"
          ],
          "name": "stdout"
        }
      ]
    },
    {
      "cell_type": "markdown",
      "metadata": {
        "id": "pyVk-9wtcFam"
      },
      "source": [
        "Mesmo utilizando um algoritmo mais complexo, não obtivemos ganho na assertividade do modelo"
      ]
    },
    {
      "cell_type": "markdown",
      "metadata": {
        "id": "vA3l3ovBbQnI"
      },
      "source": [
        "Otimizando Parametros"
      ]
    },
    {
      "cell_type": "code",
      "metadata": {
        "colab": {
          "base_uri": "https://localhost:8080/"
        },
        "id": "kUA_bFjqbCdO",
        "outputId": "fc9cf30e-0c07-410a-9eb3-d8565cfa9b44"
      },
      "source": [
        "from sklearn.model_selection import GridSearchCV\n",
        "from sklearn.ensemble import RandomForestClassifier\n",
        "\n",
        "param_grid = {\n",
        "    \"max_depth\": [4, 5, 6],\n",
        "    \"max_features\": [\"auto\", \"sqrt\"],\n",
        "    \"n_estimators\": [20, 50, 100]\n",
        "}\n",
        "\n",
        "cf = RandomForestClassifier()\n",
        "cf_cv = GridSearchCV(estimator=cf, param_grid=param_grid, cv=3)\n",
        "cf_cv.fit(X_train, y_train)\n",
        "\n",
        "cf_cv.best_params_"
      ],
      "execution_count": 124,
      "outputs": [
        {
          "output_type": "execute_result",
          "data": {
            "text/plain": [
              "{'max_depth': 6, 'max_features': 'auto', 'n_estimators': 100}"
            ]
          },
          "metadata": {
            "tags": []
          },
          "execution_count": 124
        }
      ]
    },
    {
      "cell_type": "code",
      "metadata": {
        "id": "b6HIJ43jbCq7"
      },
      "source": [
        "rfc1=RandomForestClassifier(random_state=42, max_features='sqrt', n_estimators= 50, max_depth=6)"
      ],
      "execution_count": 125,
      "outputs": []
    },
    {
      "cell_type": "code",
      "metadata": {
        "colab": {
          "base_uri": "https://localhost:8080/"
        },
        "id": "cPKp3wQTb1ge",
        "outputId": "223c29b3-2ae9-4707-ee67-008ac97af89e"
      },
      "source": [
        "RandomForestClassifier().get_params().keys()"
      ],
      "execution_count": 126,
      "outputs": [
        {
          "output_type": "execute_result",
          "data": {
            "text/plain": [
              "dict_keys(['bootstrap', 'ccp_alpha', 'class_weight', 'criterion', 'max_depth', 'max_features', 'max_leaf_nodes', 'max_samples', 'min_impurity_decrease', 'min_impurity_split', 'min_samples_leaf', 'min_samples_split', 'min_weight_fraction_leaf', 'n_estimators', 'n_jobs', 'oob_score', 'random_state', 'verbose', 'warm_start'])"
            ]
          },
          "metadata": {
            "tags": []
          },
          "execution_count": 126
        }
      ]
    },
    {
      "cell_type": "code",
      "metadata": {
        "id": "F1AB9Sv-eRcz"
      },
      "source": [
        "y_pred=cf_cv.predict(X_test)"
      ],
      "execution_count": 127,
      "outputs": []
    },
    {
      "cell_type": "code",
      "metadata": {
        "colab": {
          "base_uri": "https://localhost:8080/"
        },
        "id": "XNyqksXKVVk0",
        "outputId": "8006ce46-c5aa-4fcc-c308-16877a019a34"
      },
      "source": [
        "from sklearn.metrics import accuracy_score, recall_score, confusion_matrix\n",
        "\n",
        "print(accuracy_score(y_test,y_pred))\n",
        "print(recall_score(y_test,y_pred))\n",
        "print(confusion_matrix(y_test,y_pred))"
      ],
      "execution_count": 128,
      "outputs": [
        {
          "output_type": "stream",
          "text": [
            "0.6568498582940938\n",
            "0.7776988872740989\n",
            "[[48331 41833]\n",
            " [20038 70101]]\n"
          ],
          "name": "stdout"
        }
      ]
    },
    {
      "cell_type": "markdown",
      "metadata": {
        "id": "qYUfTtGzhVQ1"
      },
      "source": [
        "#Regressão Logistica"
      ]
    },
    {
      "cell_type": "code",
      "metadata": {
        "id": "beYREdV3hYj6"
      },
      "source": [
        "# instancia o classificador com nome logit\n",
        "logit = LogisticRegression()"
      ],
      "execution_count": 130,
      "outputs": []
    },
    {
      "cell_type": "code",
      "metadata": {
        "colab": {
          "base_uri": "https://localhost:8080/"
        },
        "id": "XiIWcbomhoKi",
        "outputId": "dc951689-43f9-4b2a-8965-01b50dd791cd"
      },
      "source": [
        "logit.fit(X_train, y_train)"
      ],
      "execution_count": 131,
      "outputs": [
        {
          "output_type": "execute_result",
          "data": {
            "text/plain": [
              "LogisticRegression(C=1.0, class_weight=None, dual=False, fit_intercept=True,\n",
              "                   intercept_scaling=1, l1_ratio=None, max_iter=100,\n",
              "                   multi_class='auto', n_jobs=None, penalty='l2',\n",
              "                   random_state=None, solver='lbfgs', tol=0.0001, verbose=0,\n",
              "                   warm_start=False)"
            ]
          },
          "metadata": {
            "tags": []
          },
          "execution_count": 131
        }
      ]
    },
    {
      "cell_type": "code",
      "metadata": {
        "id": "vR_vfJhgh2TW"
      },
      "source": [
        "# faz predicao e salva em y_pred\n",
        "y_pred = logit.predict(X_test)"
      ],
      "execution_count": 132,
      "outputs": []
    },
    {
      "cell_type": "markdown",
      "metadata": {
        "id": "sbIQwQ6EiPar"
      },
      "source": [
        "#MÉTRICAS DE DESEMPENHO"
      ]
    },
    {
      "cell_type": "code",
      "metadata": {
        "colab": {
          "base_uri": "https://localhost:8080/"
        },
        "id": "ELtaVsh1iQ8J",
        "outputId": "ace8084e-e25e-45c7-f2c3-18e28b62e7b6"
      },
      "source": [
        "print(accuracy_score(y_test,y_pred))\n",
        "print(recall_score(y_test,y_pred))\n",
        "print(confusion_matrix(y_test,y_pred))"
      ],
      "execution_count": 133,
      "outputs": [
        {
          "output_type": "stream",
          "text": [
            "0.5566684969190752\n",
            "0.44635507383041745\n",
            "[[60135 30029]\n",
            " [49905 40234]]\n"
          ],
          "name": "stdout"
        }
      ]
    },
    {
      "cell_type": "code",
      "metadata": {
        "colab": {
          "base_uri": "https://localhost:8080/",
          "height": 295
        },
        "id": "ltVZ1c-8iiRN",
        "outputId": "ed8fb576-8183-4cca-90d7-6dca57eabd60"
      },
      "source": [
        "# computa probabilidades\n",
        "y_pred_prob = logit.predict_proba(X_test)[:,1]\n",
        "\n",
        "# Gera fpr, tpr e thresholds\n",
        "fpr, tpr, thresholds = roc_curve(y_test, y_pred_prob)\n",
        "\n",
        "# curva ROC\n",
        "plt.plot([0, 1], [0, 1], 'k--')\n",
        "plt.plot(fpr, tpr)\n",
        "plt.xlabel('False Positive Rate')\n",
        "plt.ylabel('True Positive Rate')\n",
        "plt.title('ROC Curve')\n",
        "plt.show()"
      ],
      "execution_count": 135,
      "outputs": [
        {
          "output_type": "display_data",
          "data": {
            "image/png": "[encoded data removed]",
            "text/plain": [
              "<Figure size 432x288 with 1 Axes>"
            ]
          },
          "metadata": {
            "tags": [],
            "needs_background": "light"
          }
        }
      ]
    },
    {
      "cell_type": "markdown",
      "metadata": {
        "id": "3r0-dOvSit0Y"
      },
      "source": [
        "#Aplicando Otimização aos hiperparâmetros da regressão"
      ]
    },
    {
      "cell_type": "code",
      "metadata": {
        "id": "uUlK9lU6itBW"
      },
      "source": [
        "# Cria um conjunto de hiperparametros a serem testados\n",
        "param_grid = {'C': np.logspace(-5, 8, 15), 'penalty': ['l1', 'l2']}"
      ],
      "execution_count": 136,
      "outputs": []
    },
    {
      "cell_type": "code",
      "metadata": {
        "id": "4fE8VVXNjsJa"
      },
      "source": [
        "# Instancia a regressao logistica\n",
        "logit = LogisticRegression()"
      ],
      "execution_count": 137,
      "outputs": []
    },
    {
      "cell_type": "code",
      "metadata": {
        "id": "V7OzfLz8j3_Z"
      },
      "source": [
        "from sklearn.model_selection import GridSearchCV"
      ],
      "execution_count": 138,
      "outputs": []
    },
    {
      "cell_type": "code",
      "metadata": {
        "id": "nirPpvM-jsTn"
      },
      "source": [
        "# Instancia GridSearchCV e ja faz um 5-fold cross validation \n",
        "logit_cv = GridSearchCV(logit, param_grid, cv=5)"
      ],
      "execution_count": 139,
      "outputs": []
    },
    {
      "cell_type": "code",
      "metadata": {
        "colab": {
          "base_uri": "https://localhost:8080/"
        },
        "id": "gyC21ay7kIqe",
        "outputId": "a120c0c8-0334-4bdf-e92b-2a4512305c8f"
      },
      "source": [
        "GridSearchCV"
      ],
      "execution_count": 140,
      "outputs": [
        {
          "output_type": "execute_result",
          "data": {
            "text/plain": [
              "sklearn.model_selection._search.GridSearchCV"
            ]
          },
          "metadata": {
            "tags": []
          },
          "execution_count": 140
        }
      ]
    },
    {
      "cell_type": "code",
      "metadata": {
        "colab": {
          "base_uri": "https://localhost:8080/"
        },
        "id": "wYBm6D8Vjobd",
        "outputId": "a1ea9b4b-bceb-48b5-f88f-51b510799852"
      },
      "source": [
        "# treina o modelo\n",
        "logit_cv.fit(X_train, y_train)"
      ],
      "execution_count": 141,
      "outputs": [
        {
          "output_type": "stream",
          "text": [
            "/usr/local/lib/python3.7/dist-packages/sklearn/model_selection/_validation.py:536: FitFailedWarning: Estimator fit failed. The score on this train-test partition for these parameters will be set to nan. Details: \n",
            "ValueError: Solver lbfgs supports only 'l2' or 'none' penalties, got l1 penalty.\n",
            "\n",
            "  FitFailedWarning)\n",
            "/usr/local/lib/python3.7/dist-packages/sklearn/linear_model/_logistic.py:940: ConvergenceWarning: lbfgs failed to converge (status=1):\n",
            "STOP: TOTAL NO. of ITERATIONS REACHED LIMIT.\n",
            "\n",
            "Increase the number of iterations (max_iter) or scale the data as shown in:\n",
            "    https://scikit-learn.org/stable/modules/preprocessing.html\n",
            "Please also refer to the documentation for alternative solver options:\n",
            "    https://scikit-learn.org/stable/modules/linear_model.html#logistic-regression\n",
            "  extra_warning_msg=_LOGISTIC_SOLVER_CONVERGENCE_MSG)\n",
            "/usr/local/lib/python3.7/dist-packages/sklearn/linear_model/_logistic.py:940: ConvergenceWarning: lbfgs failed to converge (status=1):\n",
            "STOP: TOTAL NO. of ITERATIONS REACHED LIMIT.\n",
            "\n",
            "Increase the number of iterations (max_iter) or scale the data as shown in:\n",
            "    https://scikit-learn.org/stable/modules/preprocessing.html\n",
            "Please also refer to the documentation for alternative solver options:\n",
            "    https://scikit-learn.org/stable/modules/linear_model.html#logistic-regression\n",
            "  extra_warning_msg=_LOGISTIC_SOLVER_CONVERGENCE_MSG)\n",
            "/usr/local/lib/python3.7/dist-packages/sklearn/linear_model/_logistic.py:940: ConvergenceWarning: lbfgs failed to converge (status=1):\n",
            "STOP: TOTAL NO. of ITERATIONS REACHED LIMIT.\n",
            "\n",
            "Increase the number of iterations (max_iter) or scale the data as shown in:\n",
            "    https://scikit-learn.org/stable/modules/preprocessing.html\n",
            "Please also refer to the documentation for alternative solver options:\n",
            "    https://scikit-learn.org/stable/modules/linear_model.html#logistic-regression\n",
            "  extra_warning_msg=_LOGISTIC_SOLVER_CONVERGENCE_MSG)\n",
            "/usr/local/lib/python3.7/dist-packages/sklearn/model_selection/_validation.py:536: FitFailedWarning: Estimator fit failed. The score on this train-test partition for these parameters will be set to nan. Details: \n",
            "ValueError: Solver lbfgs supports only 'l2' or 'none' penalties, got l1 penalty.\n",
            "\n",
            "  FitFailedWarning)\n",
            "/usr/local/lib/python3.7/dist-packages/sklearn/linear_model/_logistic.py:940: ConvergenceWarning: lbfgs failed to converge (status=1):\n",
            "STOP: TOTAL NO. of ITERATIONS REACHED LIMIT.\n",
            "\n",
            "Increase the number of iterations (max_iter) or scale the data as shown in:\n",
            "    https://scikit-learn.org/stable/modules/preprocessing.html\n",
            "Please also refer to the documentation for alternative solver options:\n",
            "    https://scikit-learn.org/stable/modules/linear_model.html#logistic-regression\n",
            "  extra_warning_msg=_LOGISTIC_SOLVER_CONVERGENCE_MSG)\n",
            "/usr/local/lib/python3.7/dist-packages/sklearn/model_selection/_validation.py:536: FitFailedWarning: Estimator fit failed. The score on this train-test partition for these parameters will be set to nan. Details: \n",
            "ValueError: Solver lbfgs supports only 'l2' or 'none' penalties, got l1 penalty.\n",
            "\n",
            "  FitFailedWarning)\n",
            "/usr/local/lib/python3.7/dist-packages/sklearn/linear_model/_logistic.py:940: ConvergenceWarning: lbfgs failed to converge (status=1):\n",
            "STOP: TOTAL NO. of ITERATIONS REACHED LIMIT.\n",
            "\n",
            "Increase the number of iterations (max_iter) or scale the data as shown in:\n",
            "    https://scikit-learn.org/stable/modules/preprocessing.html\n",
            "Please also refer to the documentation for alternative solver options:\n",
            "    https://scikit-learn.org/stable/modules/linear_model.html#logistic-regression\n",
            "  extra_warning_msg=_LOGISTIC_SOLVER_CONVERGENCE_MSG)\n",
            "/usr/local/lib/python3.7/dist-packages/sklearn/linear_model/_logistic.py:940: ConvergenceWarning: lbfgs failed to converge (status=1):\n",
            "STOP: TOTAL NO. of ITERATIONS REACHED LIMIT.\n",
            "\n",
            "Increase the number of iterations (max_iter) or scale the data as shown in:\n",
            "    https://scikit-learn.org/stable/modules/preprocessing.html\n",
            "Please also refer to the documentation for alternative solver options:\n",
            "    https://scikit-learn.org/stable/modules/linear_model.html#logistic-regression\n",
            "  extra_warning_msg=_LOGISTIC_SOLVER_CONVERGENCE_MSG)\n",
            "/usr/local/lib/python3.7/dist-packages/sklearn/model_selection/_validation.py:536: FitFailedWarning: Estimator fit failed. The score on this train-test partition for these parameters will be set to nan. Details: \n",
            "ValueError: Solver lbfgs supports only 'l2' or 'none' penalties, got l1 penalty.\n",
            "\n",
            "  FitFailedWarning)\n",
            "/usr/local/lib/python3.7/dist-packages/sklearn/linear_model/_logistic.py:940: ConvergenceWarning: lbfgs failed to converge (status=1):\n",
            "STOP: TOTAL NO. of ITERATIONS REACHED LIMIT.\n",
            "\n",
            "Increase the number of iterations (max_iter) or scale the data as shown in:\n",
            "    https://scikit-learn.org/stable/modules/preprocessing.html\n",
            "Please also refer to the documentation for alternative solver options:\n",
            "    https://scikit-learn.org/stable/modules/linear_model.html#logistic-regression\n",
            "  extra_warning_msg=_LOGISTIC_SOLVER_CONVERGENCE_MSG)\n",
            "/usr/local/lib/python3.7/dist-packages/sklearn/linear_model/_logistic.py:940: ConvergenceWarning: lbfgs failed to converge (status=1):\n",
            "STOP: TOTAL NO. of ITERATIONS REACHED LIMIT.\n",
            "\n",
            "Increase the number of iterations (max_iter) or scale the data as shown in:\n",
            "    https://scikit-learn.org/stable/modules/preprocessing.html\n",
            "Please also refer to the documentation for alternative solver options:\n",
            "    https://scikit-learn.org/stable/modules/linear_model.html#logistic-regression\n",
            "  extra_warning_msg=_LOGISTIC_SOLVER_CONVERGENCE_MSG)\n",
            "/usr/local/lib/python3.7/dist-packages/sklearn/model_selection/_validation.py:536: FitFailedWarning: Estimator fit failed. The score on this train-test partition for these parameters will be set to nan. Details: \n",
            "ValueError: Solver lbfgs supports only 'l2' or 'none' penalties, got l1 penalty.\n",
            "\n",
            "  FitFailedWarning)\n",
            "/usr/local/lib/python3.7/dist-packages/sklearn/linear_model/_logistic.py:940: ConvergenceWarning: lbfgs failed to converge (status=1):\n",
            "STOP: TOTAL NO. of ITERATIONS REACHED LIMIT.\n",
            "\n",
            "Increase the number of iterations (max_iter) or scale the data as shown in:\n",
            "    https://scikit-learn.org/stable/modules/preprocessing.html\n",
            "Please also refer to the documentation for alternative solver options:\n",
            "    https://scikit-learn.org/stable/modules/linear_model.html#logistic-regression\n",
            "  extra_warning_msg=_LOGISTIC_SOLVER_CONVERGENCE_MSG)\n",
            "/usr/local/lib/python3.7/dist-packages/sklearn/linear_model/_logistic.py:940: ConvergenceWarning: lbfgs failed to converge (status=1):\n",
            "STOP: TOTAL NO. of ITERATIONS REACHED LIMIT.\n",
            "\n",
            "Increase the number of iterations (max_iter) or scale the data as shown in:\n",
            "    https://scikit-learn.org/stable/modules/preprocessing.html\n",
            "Please also refer to the documentation for alternative solver options:\n",
            "    https://scikit-learn.org/stable/modules/linear_model.html#logistic-regression\n",
            "  extra_warning_msg=_LOGISTIC_SOLVER_CONVERGENCE_MSG)\n",
            "/usr/local/lib/python3.7/dist-packages/sklearn/linear_model/_logistic.py:940: ConvergenceWarning: lbfgs failed to converge (status=1):\n",
            "STOP: TOTAL NO. of ITERATIONS REACHED LIMIT.\n",
            "\n",
            "Increase the number of iterations (max_iter) or scale the data as shown in:\n",
            "    https://scikit-learn.org/stable/modules/preprocessing.html\n",
            "Please also refer to the documentation for alternative solver options:\n",
            "    https://scikit-learn.org/stable/modules/linear_model.html#logistic-regression\n",
            "  extra_warning_msg=_LOGISTIC_SOLVER_CONVERGENCE_MSG)\n",
            "/usr/local/lib/python3.7/dist-packages/sklearn/model_selection/_validation.py:536: FitFailedWarning: Estimator fit failed. The score on this train-test partition for these parameters will be set to nan. Details: \n",
            "ValueError: Solver lbfgs supports only 'l2' or 'none' penalties, got l1 penalty.\n",
            "\n",
            "  FitFailedWarning)\n",
            "/usr/local/lib/python3.7/dist-packages/sklearn/linear_model/_logistic.py:940: ConvergenceWarning: lbfgs failed to converge (status=1):\n",
            "STOP: TOTAL NO. of ITERATIONS REACHED LIMIT.\n",
            "\n",
            "Increase the number of iterations (max_iter) or scale the data as shown in:\n",
            "    https://scikit-learn.org/stable/modules/preprocessing.html\n",
            "Please also refer to the documentation for alternative solver options:\n",
            "    https://scikit-learn.org/stable/modules/linear_model.html#logistic-regression\n",
            "  extra_warning_msg=_LOGISTIC_SOLVER_CONVERGENCE_MSG)\n",
            "/usr/local/lib/python3.7/dist-packages/sklearn/linear_model/_logistic.py:940: ConvergenceWarning: lbfgs failed to converge (status=1):\n",
            "STOP: TOTAL NO. of ITERATIONS REACHED LIMIT.\n",
            "\n",
            "Increase the number of iterations (max_iter) or scale the data as shown in:\n",
            "    https://scikit-learn.org/stable/modules/preprocessing.html\n",
            "Please also refer to the documentation for alternative solver options:\n",
            "    https://scikit-learn.org/stable/modules/linear_model.html#logistic-regression\n",
            "  extra_warning_msg=_LOGISTIC_SOLVER_CONVERGENCE_MSG)\n",
            "/usr/local/lib/python3.7/dist-packages/sklearn/model_selection/_validation.py:536: FitFailedWarning: Estimator fit failed. The score on this train-test partition for these parameters will be set to nan. Details: \n",
            "ValueError: Solver lbfgs supports only 'l2' or 'none' penalties, got l1 penalty.\n",
            "\n",
            "  FitFailedWarning)\n",
            "/usr/local/lib/python3.7/dist-packages/sklearn/linear_model/_logistic.py:940: ConvergenceWarning: lbfgs failed to converge (status=1):\n",
            "STOP: TOTAL NO. of ITERATIONS REACHED LIMIT.\n",
            "\n",
            "Increase the number of iterations (max_iter) or scale the data as shown in:\n",
            "    https://scikit-learn.org/stable/modules/preprocessing.html\n",
            "Please also refer to the documentation for alternative solver options:\n",
            "    https://scikit-learn.org/stable/modules/linear_model.html#logistic-regression\n",
            "  extra_warning_msg=_LOGISTIC_SOLVER_CONVERGENCE_MSG)\n",
            "/usr/local/lib/python3.7/dist-packages/sklearn/linear_model/_logistic.py:940: ConvergenceWarning: lbfgs failed to converge (status=1):\n",
            "STOP: TOTAL NO. of ITERATIONS REACHED LIMIT.\n",
            "\n",
            "Increase the number of iterations (max_iter) or scale the data as shown in:\n",
            "    https://scikit-learn.org/stable/modules/preprocessing.html\n",
            "Please also refer to the documentation for alternative solver options:\n",
            "    https://scikit-learn.org/stable/modules/linear_model.html#logistic-regression\n",
            "  extra_warning_msg=_LOGISTIC_SOLVER_CONVERGENCE_MSG)\n",
            "/usr/local/lib/python3.7/dist-packages/sklearn/model_selection/_validation.py:536: FitFailedWarning: Estimator fit failed. The score on this train-test partition for these parameters will be set to nan. Details: \n",
            "ValueError: Solver lbfgs supports only 'l2' or 'none' penalties, got l1 penalty.\n",
            "\n",
            "  FitFailedWarning)\n",
            "/usr/local/lib/python3.7/dist-packages/sklearn/linear_model/_logistic.py:940: ConvergenceWarning: lbfgs failed to converge (status=1):\n",
            "STOP: TOTAL NO. of ITERATIONS REACHED LIMIT.\n",
            "\n",
            "Increase the number of iterations (max_iter) or scale the data as shown in:\n",
            "    https://scikit-learn.org/stable/modules/preprocessing.html\n",
            "Please also refer to the documentation for alternative solver options:\n",
            "    https://scikit-learn.org/stable/modules/linear_model.html#logistic-regression\n",
            "  extra_warning_msg=_LOGISTIC_SOLVER_CONVERGENCE_MSG)\n",
            "/usr/local/lib/python3.7/dist-packages/sklearn/linear_model/_logistic.py:940: ConvergenceWarning: lbfgs failed to converge (status=1):\n",
            "STOP: TOTAL NO. of ITERATIONS REACHED LIMIT.\n",
            "\n",
            "Increase the number of iterations (max_iter) or scale the data as shown in:\n",
            "    https://scikit-learn.org/stable/modules/preprocessing.html\n",
            "Please also refer to the documentation for alternative solver options:\n",
            "    https://scikit-learn.org/stable/modules/linear_model.html#logistic-regression\n",
            "  extra_warning_msg=_LOGISTIC_SOLVER_CONVERGENCE_MSG)\n",
            "/usr/local/lib/python3.7/dist-packages/sklearn/model_selection/_validation.py:536: FitFailedWarning: Estimator fit failed. The score on this train-test partition for these parameters will be set to nan. Details: \n",
            "ValueError: Solver lbfgs supports only 'l2' or 'none' penalties, got l1 penalty.\n",
            "\n",
            "  FitFailedWarning)\n",
            "/usr/local/lib/python3.7/dist-packages/sklearn/linear_model/_logistic.py:940: ConvergenceWarning: lbfgs failed to converge (status=1):\n",
            "STOP: TOTAL NO. of ITERATIONS REACHED LIMIT.\n",
            "\n",
            "Increase the number of iterations (max_iter) or scale the data as shown in:\n",
            "    https://scikit-learn.org/stable/modules/preprocessing.html\n",
            "Please also refer to the documentation for alternative solver options:\n",
            "    https://scikit-learn.org/stable/modules/linear_model.html#logistic-regression\n",
            "  extra_warning_msg=_LOGISTIC_SOLVER_CONVERGENCE_MSG)\n",
            "/usr/local/lib/python3.7/dist-packages/sklearn/linear_model/_logistic.py:940: ConvergenceWarning: lbfgs failed to converge (status=1):\n",
            "STOP: TOTAL NO. of ITERATIONS REACHED LIMIT.\n",
            "\n",
            "Increase the number of iterations (max_iter) or scale the data as shown in:\n",
            "    https://scikit-learn.org/stable/modules/preprocessing.html\n",
            "Please also refer to the documentation for alternative solver options:\n",
            "    https://scikit-learn.org/stable/modules/linear_model.html#logistic-regression\n",
            "  extra_warning_msg=_LOGISTIC_SOLVER_CONVERGENCE_MSG)\n",
            "/usr/local/lib/python3.7/dist-packages/sklearn/model_selection/_validation.py:536: FitFailedWarning: Estimator fit failed. The score on this train-test partition for these parameters will be set to nan. Details: \n",
            "ValueError: Solver lbfgs supports only 'l2' or 'none' penalties, got l1 penalty.\n",
            "\n",
            "  FitFailedWarning)\n",
            "/usr/local/lib/python3.7/dist-packages/sklearn/linear_model/_logistic.py:940: ConvergenceWarning: lbfgs failed to converge (status=1):\n",
            "STOP: TOTAL NO. of ITERATIONS REACHED LIMIT.\n",
            "\n",
            "Increase the number of iterations (max_iter) or scale the data as shown in:\n",
            "    https://scikit-learn.org/stable/modules/preprocessing.html\n",
            "Please also refer to the documentation for alternative solver options:\n",
            "    https://scikit-learn.org/stable/modules/linear_model.html#logistic-regression\n",
            "  extra_warning_msg=_LOGISTIC_SOLVER_CONVERGENCE_MSG)\n",
            "/usr/local/lib/python3.7/dist-packages/sklearn/linear_model/_logistic.py:940: ConvergenceWarning: lbfgs failed to converge (status=1):\n",
            "STOP: TOTAL NO. of ITERATIONS REACHED LIMIT.\n",
            "\n",
            "Increase the number of iterations (max_iter) or scale the data as shown in:\n",
            "    https://scikit-learn.org/stable/modules/preprocessing.html\n",
            "Please also refer to the documentation for alternative solver options:\n",
            "    https://scikit-learn.org/stable/modules/linear_model.html#logistic-regression\n",
            "  extra_warning_msg=_LOGISTIC_SOLVER_CONVERGENCE_MSG)\n",
            "/usr/local/lib/python3.7/dist-packages/sklearn/model_selection/_validation.py:536: FitFailedWarning: Estimator fit failed. The score on this train-test partition for these parameters will be set to nan. Details: \n",
            "ValueError: Solver lbfgs supports only 'l2' or 'none' penalties, got l1 penalty.\n",
            "\n",
            "  FitFailedWarning)\n",
            "/usr/local/lib/python3.7/dist-packages/sklearn/linear_model/_logistic.py:940: ConvergenceWarning: lbfgs failed to converge (status=1):\n",
            "STOP: TOTAL NO. of ITERATIONS REACHED LIMIT.\n",
            "\n",
            "Increase the number of iterations (max_iter) or scale the data as shown in:\n",
            "    https://scikit-learn.org/stable/modules/preprocessing.html\n",
            "Please also refer to the documentation for alternative solver options:\n",
            "    https://scikit-learn.org/stable/modules/linear_model.html#logistic-regression\n",
            "  extra_warning_msg=_LOGISTIC_SOLVER_CONVERGENCE_MSG)\n",
            "/usr/local/lib/python3.7/dist-packages/sklearn/linear_model/_logistic.py:940: ConvergenceWarning: lbfgs failed to converge (status=1):\n",
            "STOP: TOTAL NO. of ITERATIONS REACHED LIMIT.\n",
            "\n",
            "Increase the number of iterations (max_iter) or scale the data as shown in:\n",
            "    https://scikit-learn.org/stable/modules/preprocessing.html\n",
            "Please also refer to the documentation for alternative solver options:\n",
            "    https://scikit-learn.org/stable/modules/linear_model.html#logistic-regression\n",
            "  extra_warning_msg=_LOGISTIC_SOLVER_CONVERGENCE_MSG)\n",
            "/usr/local/lib/python3.7/dist-packages/sklearn/model_selection/_validation.py:536: FitFailedWarning: Estimator fit failed. The score on this train-test partition for these parameters will be set to nan. Details: \n",
            "ValueError: Solver lbfgs supports only 'l2' or 'none' penalties, got l1 penalty.\n",
            "\n",
            "  FitFailedWarning)\n",
            "/usr/local/lib/python3.7/dist-packages/sklearn/linear_model/_logistic.py:940: ConvergenceWarning: lbfgs failed to converge (status=1):\n",
            "STOP: TOTAL NO. of ITERATIONS REACHED LIMIT.\n",
            "\n",
            "Increase the number of iterations (max_iter) or scale the data as shown in:\n",
            "    https://scikit-learn.org/stable/modules/preprocessing.html\n",
            "Please also refer to the documentation for alternative solver options:\n",
            "    https://scikit-learn.org/stable/modules/linear_model.html#logistic-regression\n",
            "  extra_warning_msg=_LOGISTIC_SOLVER_CONVERGENCE_MSG)\n",
            "/usr/local/lib/python3.7/dist-packages/sklearn/linear_model/_logistic.py:940: ConvergenceWarning: lbfgs failed to converge (status=1):\n",
            "STOP: TOTAL NO. of ITERATIONS REACHED LIMIT.\n",
            "\n",
            "Increase the number of iterations (max_iter) or scale the data as shown in:\n",
            "    https://scikit-learn.org/stable/modules/preprocessing.html\n",
            "Please also refer to the documentation for alternative solver options:\n",
            "    https://scikit-learn.org/stable/modules/linear_model.html#logistic-regression\n",
            "  extra_warning_msg=_LOGISTIC_SOLVER_CONVERGENCE_MSG)\n",
            "/usr/local/lib/python3.7/dist-packages/sklearn/model_selection/_validation.py:536: FitFailedWarning: Estimator fit failed. The score on this train-test partition for these parameters will be set to nan. Details: \n",
            "ValueError: Solver lbfgs supports only 'l2' or 'none' penalties, got l1 penalty.\n",
            "\n",
            "  FitFailedWarning)\n",
            "/usr/local/lib/python3.7/dist-packages/sklearn/linear_model/_logistic.py:940: ConvergenceWarning: lbfgs failed to converge (status=1):\n",
            "STOP: TOTAL NO. of ITERATIONS REACHED LIMIT.\n",
            "\n",
            "Increase the number of iterations (max_iter) or scale the data as shown in:\n",
            "    https://scikit-learn.org/stable/modules/preprocessing.html\n",
            "Please also refer to the documentation for alternative solver options:\n",
            "    https://scikit-learn.org/stable/modules/linear_model.html#logistic-regression\n",
            "  extra_warning_msg=_LOGISTIC_SOLVER_CONVERGENCE_MSG)\n",
            "/usr/local/lib/python3.7/dist-packages/sklearn/linear_model/_logistic.py:940: ConvergenceWarning: lbfgs failed to converge (status=1):\n",
            "STOP: TOTAL NO. of ITERATIONS REACHED LIMIT.\n",
            "\n",
            "Increase the number of iterations (max_iter) or scale the data as shown in:\n",
            "    https://scikit-learn.org/stable/modules/preprocessing.html\n",
            "Please also refer to the documentation for alternative solver options:\n",
            "    https://scikit-learn.org/stable/modules/linear_model.html#logistic-regression\n",
            "  extra_warning_msg=_LOGISTIC_SOLVER_CONVERGENCE_MSG)\n",
            "/usr/local/lib/python3.7/dist-packages/sklearn/model_selection/_validation.py:536: FitFailedWarning: Estimator fit failed. The score on this train-test partition for these parameters will be set to nan. Details: \n",
            "ValueError: Solver lbfgs supports only 'l2' or 'none' penalties, got l1 penalty.\n",
            "\n",
            "  FitFailedWarning)\n",
            "/usr/local/lib/python3.7/dist-packages/sklearn/linear_model/_logistic.py:940: ConvergenceWarning: lbfgs failed to converge (status=1):\n",
            "STOP: TOTAL NO. of ITERATIONS REACHED LIMIT.\n",
            "\n",
            "Increase the number of iterations (max_iter) or scale the data as shown in:\n",
            "    https://scikit-learn.org/stable/modules/preprocessing.html\n",
            "Please also refer to the documentation for alternative solver options:\n",
            "    https://scikit-learn.org/stable/modules/linear_model.html#logistic-regression\n",
            "  extra_warning_msg=_LOGISTIC_SOLVER_CONVERGENCE_MSG)\n",
            "/usr/local/lib/python3.7/dist-packages/sklearn/linear_model/_logistic.py:940: ConvergenceWarning: lbfgs failed to converge (status=1):\n",
            "STOP: TOTAL NO. of ITERATIONS REACHED LIMIT.\n",
            "\n",
            "Increase the number of iterations (max_iter) or scale the data as shown in:\n",
            "    https://scikit-learn.org/stable/modules/preprocessing.html\n",
            "Please also refer to the documentation for alternative solver options:\n",
            "    https://scikit-learn.org/stable/modules/linear_model.html#logistic-regression\n",
            "  extra_warning_msg=_LOGISTIC_SOLVER_CONVERGENCE_MSG)\n",
            "/usr/local/lib/python3.7/dist-packages/sklearn/model_selection/_validation.py:536: FitFailedWarning: Estimator fit failed. The score on this train-test partition for these parameters will be set to nan. Details: \n",
            "ValueError: Solver lbfgs supports only 'l2' or 'none' penalties, got l1 penalty.\n",
            "\n",
            "  FitFailedWarning)\n",
            "/usr/local/lib/python3.7/dist-packages/sklearn/linear_model/_logistic.py:940: ConvergenceWarning: lbfgs failed to converge (status=1):\n",
            "STOP: TOTAL NO. of ITERATIONS REACHED LIMIT.\n",
            "\n",
            "Increase the number of iterations (max_iter) or scale the data as shown in:\n",
            "    https://scikit-learn.org/stable/modules/preprocessing.html\n",
            "Please also refer to the documentation for alternative solver options:\n",
            "    https://scikit-learn.org/stable/modules/linear_model.html#logistic-regression\n",
            "  extra_warning_msg=_LOGISTIC_SOLVER_CONVERGENCE_MSG)\n",
            "/usr/local/lib/python3.7/dist-packages/sklearn/linear_model/_logistic.py:940: ConvergenceWarning: lbfgs failed to converge (status=1):\n",
            "STOP: TOTAL NO. of ITERATIONS REACHED LIMIT.\n",
            "\n",
            "Increase the number of iterations (max_iter) or scale the data as shown in:\n",
            "    https://scikit-learn.org/stable/modules/preprocessing.html\n",
            "Please also refer to the documentation for alternative solver options:\n",
            "    https://scikit-learn.org/stable/modules/linear_model.html#logistic-regression\n",
            "  extra_warning_msg=_LOGISTIC_SOLVER_CONVERGENCE_MSG)\n"
          ],
          "name": "stderr"
        },
        {
          "output_type": "execute_result",
          "data": {
            "text/plain": [
              "GridSearchCV(cv=5, error_score=nan,\n",
              "             estimator=LogisticRegression(C=1.0, class_weight=None, dual=False,\n",
              "                                          fit_intercept=True,\n",
              "                                          intercept_scaling=1, l1_ratio=None,\n",
              "                                          max_iter=100, multi_class='auto',\n",
              "                                          n_jobs=None, penalty='l2',\n",
              "                                          random_state=None, solver='lbfgs',\n",
              "                                          tol=0.0001, verbose=0,\n",
              "                                          warm_start=False),\n",
              "             iid='deprecated', n_jobs=None,\n",
              "             param_grid={'C': array([1.00000000e-05, 8.48342898e-05, 7.19685673e-04, 6.10540230e-03,\n",
              "       5.17947468e-02, 4.39397056e-01, 3.72759372e+00, 3.16227766e+01,\n",
              "       2.68269580e+02, 2.27584593e+03, 1.93069773e+04, 1.63789371e+05,\n",
              "       1.38949549e+06, 1.17876863e+07, 1.00000000e+08]),\n",
              "                         'penalty': ['l1', 'l2']},\n",
              "             pre_dispatch='2*n_jobs', refit=True, return_train_score=False,\n",
              "             scoring=None, verbose=0)"
            ]
          },
          "metadata": {
            "tags": []
          },
          "execution_count": 141
        }
      ]
    },
    {
      "cell_type": "code",
      "metadata": {
        "id": "35-PGzABkD_e"
      },
      "source": [
        "# faz predicao e salva em y_pred\n",
        "y_pred = logit_cv.predict(X_test)"
      ],
      "execution_count": 142,
      "outputs": []
    },
    {
      "cell_type": "code",
      "metadata": {
        "colab": {
          "base_uri": "https://localhost:8080/"
        },
        "id": "COiZsxgClfC6",
        "outputId": "2a0d197c-1ff5-4e57-f1fe-16412eb0b88a"
      },
      "source": [
        "print(accuracy_score(y_test,y_pred))\n",
        "print(recall_score(y_test,y_pred))\n",
        "print(confusion_matrix(y_test,y_pred))"
      ],
      "execution_count": 143,
      "outputs": [
        {
          "output_type": "stream",
          "text": [
            "0.5566684969190752\n",
            "0.44635507383041745\n",
            "[[60135 30029]\n",
            " [49905 40234]]\n"
          ],
          "name": "stdout"
        }
      ]
    },
    {
      "cell_type": "markdown",
      "metadata": {
        "id": "ghBLE49Tm0vA"
      },
      "source": [
        "#Próximos passos:\n",
        "Redes Neurais                                                                                \n",
        "\n",
        "Inclusão Variável Municipio"
      ]
    }
  ]
}