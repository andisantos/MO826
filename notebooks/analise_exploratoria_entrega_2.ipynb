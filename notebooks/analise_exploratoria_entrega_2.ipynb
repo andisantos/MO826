{
 "cells": [
  {
   "cell_type": "markdown",
   "metadata": {
    "id": "pL-iOZYY_U67"
   },
   "source": [
    "# Centralização de Bases"
   ]
  },
  {
   "cell_type": "code",
   "execution_count": 1,
   "metadata": {
    "id": "zR0dQltTtctf"
   },
   "outputs": [],
   "source": [
    "import pandas as pd\n",
    "import unidecode\n",
    "import numpy as np"
   ]
  },
  {
   "cell_type": "code",
   "execution_count": 2,
   "metadata": {
    "colab": {
     "base_uri": "https://localhost:8080/",
     "height": 279
    },
    "id": "fM8jhmBMsc7Z",
    "outputId": "616f3a53-0eac-4ca1-cf3b-736f2d296d01"
   },
   "outputs": [
    {
     "name": "stderr",
     "output_type": "stream",
     "text": [
      "/home/ligia/anaconda3/lib/python3.6/site-packages/IPython/core/interactiveshell.py:2728: DtypeWarning: Columns (15,18,60,62,63,64,92,94,106,108,115,117,118,119,123) have mixed types. Specify dtype option on import or set low_memory=False.\n",
      "  interactivity=interactivity, compiler=compiler, result=result)\n"
     ]
    },
    {
     "data": {
      "text/html": [
       "<div>\n",
       "<style scoped>\n",
       "    .dataframe tbody tr th:only-of-type {\n",
       "        vertical-align: middle;\n",
       "    }\n",
       "\n",
       "    .dataframe tbody tr th {\n",
       "        vertical-align: top;\n",
       "    }\n",
       "\n",
       "    .dataframe thead th {\n",
       "        text-align: right;\n",
       "    }\n",
       "</style>\n",
       "<table border=\"1\" class=\"dataframe\">\n",
       "  <thead>\n",
       "    <tr style=\"text-align: right;\">\n",
       "      <th></th>\n",
       "      <th>DT_NOTIFIC</th>\n",
       "      <th>SEM_NOT</th>\n",
       "      <th>DT_SIN_PRI</th>\n",
       "      <th>SEM_PRI</th>\n",
       "      <th>SG_UF_NOT</th>\n",
       "      <th>ID_REGIONA</th>\n",
       "      <th>CO_REGIONA</th>\n",
       "      <th>ID_MUNICIP</th>\n",
       "      <th>CO_MUN_NOT</th>\n",
       "      <th>ID_UNIDADE</th>\n",
       "      <th>...</th>\n",
       "      <th>DS_AN_OUT</th>\n",
       "      <th>TP_AM_SOR</th>\n",
       "      <th>SOR_OUT</th>\n",
       "      <th>DT_CO_SOR</th>\n",
       "      <th>TP_SOR</th>\n",
       "      <th>OUT_SOR</th>\n",
       "      <th>DT_RES</th>\n",
       "      <th>RES_IGG</th>\n",
       "      <th>RES_IGM</th>\n",
       "      <th>RES_IGA</th>\n",
       "    </tr>\n",
       "  </thead>\n",
       "  <tbody>\n",
       "    <tr>\n",
       "      <th>0</th>\n",
       "      <td>14/01/2020</td>\n",
       "      <td>3</td>\n",
       "      <td>07/01/2020</td>\n",
       "      <td>2</td>\n",
       "      <td>SP</td>\n",
       "      <td>GVE I CAPITAL</td>\n",
       "      <td>1331.0</td>\n",
       "      <td>SAO PAULO</td>\n",
       "      <td>355030</td>\n",
       "      <td>HOSPITAL SAO LUIZ GONZAGA</td>\n",
       "      <td>...</td>\n",
       "      <td>NaN</td>\n",
       "      <td>NaN</td>\n",
       "      <td>NaN</td>\n",
       "      <td>NaN</td>\n",
       "      <td>NaN</td>\n",
       "      <td>NaN</td>\n",
       "      <td>NaN</td>\n",
       "      <td>NaN</td>\n",
       "      <td>NaN</td>\n",
       "      <td>NaN</td>\n",
       "    </tr>\n",
       "    <tr>\n",
       "      <th>1</th>\n",
       "      <td>28/01/2020</td>\n",
       "      <td>5</td>\n",
       "      <td>27/01/2020</td>\n",
       "      <td>5</td>\n",
       "      <td>SP</td>\n",
       "      <td>GVE I CAPITAL</td>\n",
       "      <td>1331.0</td>\n",
       "      <td>SAO PAULO</td>\n",
       "      <td>355030</td>\n",
       "      <td>HOSPITAL SAO CAMILO SANTANA</td>\n",
       "      <td>...</td>\n",
       "      <td>NaN</td>\n",
       "      <td>NaN</td>\n",
       "      <td>NaN</td>\n",
       "      <td>NaN</td>\n",
       "      <td>NaN</td>\n",
       "      <td>NaN</td>\n",
       "      <td>NaN</td>\n",
       "      <td>NaN</td>\n",
       "      <td>NaN</td>\n",
       "      <td>NaN</td>\n",
       "    </tr>\n",
       "  </tbody>\n",
       "</table>\n",
       "<p>2 rows × 154 columns</p>\n",
       "</div>"
      ],
      "text/plain": [
       "   DT_NOTIFIC  SEM_NOT  DT_SIN_PRI  SEM_PRI SG_UF_NOT     ID_REGIONA  \\\n",
       "0  14/01/2020        3  07/01/2020        2        SP  GVE I CAPITAL   \n",
       "1  28/01/2020        5  27/01/2020        5        SP  GVE I CAPITAL   \n",
       "\n",
       "   CO_REGIONA ID_MUNICIP  CO_MUN_NOT                   ID_UNIDADE   ...     \\\n",
       "0      1331.0  SAO PAULO      355030    HOSPITAL SAO LUIZ GONZAGA   ...      \n",
       "1      1331.0  SAO PAULO      355030  HOSPITAL SAO CAMILO SANTANA   ...      \n",
       "\n",
       "   DS_AN_OUT TP_AM_SOR SOR_OUT  DT_CO_SOR  TP_SOR OUT_SOR  DT_RES  RES_IGG  \\\n",
       "0        NaN       NaN     NaN        NaN     NaN     NaN     NaN      NaN   \n",
       "1        NaN       NaN     NaN        NaN     NaN     NaN     NaN      NaN   \n",
       "\n",
       "  RES_IGM  RES_IGA  \n",
       "0     NaN      NaN  \n",
       "1     NaN      NaN  \n",
       "\n",
       "[2 rows x 154 columns]"
      ]
     },
     "execution_count": 2,
     "metadata": {},
     "output_type": "execute_result"
    }
   ],
   "source": [
    "df_main = pd.read_csv('INFLUD-05-04-2021.csv', sep=';')\n",
    "df_main.head(2)"
   ]
  },
  {
   "cell_type": "code",
   "execution_count": 3,
   "metadata": {},
   "outputs": [
    {
     "data": {
      "text/plain": [
       "(1189743, 154)"
      ]
     },
     "execution_count": 3,
     "metadata": {},
     "output_type": "execute_result"
    }
   ],
   "source": [
    "df_main.shape"
   ]
  },
  {
   "cell_type": "code",
   "execution_count": 4,
   "metadata": {
    "colab": {
     "base_uri": "https://localhost:8080/",
     "height": 216
    },
    "id": "hXif6ymBsc7b",
    "outputId": "a441a5a0-7aaf-4c38-c545-abc214c8fe78"
   },
   "outputs": [
    {
     "data": {
      "text/html": [
       "<div>\n",
       "<style scoped>\n",
       "    .dataframe tbody tr th:only-of-type {\n",
       "        vertical-align: middle;\n",
       "    }\n",
       "\n",
       "    .dataframe tbody tr th {\n",
       "        vertical-align: top;\n",
       "    }\n",
       "\n",
       "    .dataframe thead th {\n",
       "        text-align: right;\n",
       "    }\n",
       "</style>\n",
       "<table border=\"1\" class=\"dataframe\">\n",
       "  <thead>\n",
       "    <tr style=\"text-align: right;\">\n",
       "      <th></th>\n",
       "      <th>ID_MN_RESI</th>\n",
       "      <th>SG_UF</th>\n",
       "      <th>DT_NOTIFIC</th>\n",
       "      <th>ocupacaoSuspeitoCli</th>\n",
       "      <th>ocupacaoSuspeitoUti</th>\n",
       "      <th>ocupacaoConfirmadoCli</th>\n",
       "      <th>ocupacaoConfirmadoUti</th>\n",
       "      <th>saidaSuspeitaObitos</th>\n",
       "      <th>saidaSuspeitaAltas</th>\n",
       "      <th>saidaConfirmadaObitos</th>\n",
       "      <th>...</th>\n",
       "      <th>Respiradores do SUS a cada 100 mil habitantes</th>\n",
       "      <th>Total de Respiradores do SUS</th>\n",
       "      <th>Total de Leitos de UTI</th>\n",
       "      <th>Leitos de UTI a cada 100 mil habitantes</th>\n",
       "      <th>Leitos de UTI do SUS</th>\n",
       "      <th>Leitos do SUS a cada 100 mil habitantes</th>\n",
       "      <th>Trabalhadores informais na unidade da Federação (julho 2019)</th>\n",
       "      <th>Trabalhadores informais nas Regiões Metropolitas (julho 2019)</th>\n",
       "      <th>Trabalhadores informais Capital (julho 2019)</th>\n",
       "      <th>Trabalhadores informais no Interior (julho 2019)</th>\n",
       "    </tr>\n",
       "  </thead>\n",
       "  <tbody>\n",
       "    <tr>\n",
       "      <th>0</th>\n",
       "      <td>ITAPEMA</td>\n",
       "      <td>SC</td>\n",
       "      <td>14/04/2020</td>\n",
       "      <td>0.0</td>\n",
       "      <td>0.0</td>\n",
       "      <td>0.0</td>\n",
       "      <td>0.0</td>\n",
       "      <td>0.0</td>\n",
       "      <td>0.0</td>\n",
       "      <td>0.0</td>\n",
       "      <td>...</td>\n",
       "      <td>0.00000</td>\n",
       "      <td>0.0</td>\n",
       "      <td>0.0</td>\n",
       "      <td>0.000000</td>\n",
       "      <td>0.0</td>\n",
       "      <td>0.000000</td>\n",
       "      <td>246144.9512</td>\n",
       "      <td>46269.2774</td>\n",
       "      <td>27553.9531</td>\n",
       "      <td>199875.6738</td>\n",
       "    </tr>\n",
       "    <tr>\n",
       "      <th>1</th>\n",
       "      <td>RIO DE JANEIRO</td>\n",
       "      <td>RJ</td>\n",
       "      <td>15/04/2020</td>\n",
       "      <td>1.0</td>\n",
       "      <td>0.0</td>\n",
       "      <td>0.0</td>\n",
       "      <td>0.0</td>\n",
       "      <td>0.0</td>\n",
       "      <td>1.0</td>\n",
       "      <td>0.0</td>\n",
       "      <td>...</td>\n",
       "      <td>32.52019</td>\n",
       "      <td>2185.0</td>\n",
       "      <td>2587.0</td>\n",
       "      <td>38.503309</td>\n",
       "      <td>516.0</td>\n",
       "      <td>7.679825</td>\n",
       "      <td>400968.4169</td>\n",
       "      <td>283551.4756</td>\n",
       "      <td>178536.6888</td>\n",
       "      <td>117416.9413</td>\n",
       "    </tr>\n",
       "  </tbody>\n",
       "</table>\n",
       "<p>2 rows × 32 columns</p>\n",
       "</div>"
      ],
      "text/plain": [
       "       ID_MN_RESI SG_UF  DT_NOTIFIC  ocupacaoSuspeitoCli  ocupacaoSuspeitoUti  \\\n",
       "0         ITAPEMA    SC  14/04/2020                  0.0                  0.0   \n",
       "1  RIO DE JANEIRO    RJ  15/04/2020                  1.0                  0.0   \n",
       "\n",
       "   ocupacaoConfirmadoCli  ocupacaoConfirmadoUti  saidaSuspeitaObitos  \\\n",
       "0                    0.0                    0.0                  0.0   \n",
       "1                    0.0                    0.0                  0.0   \n",
       "\n",
       "   saidaSuspeitaAltas  saidaConfirmadaObitos  \\\n",
       "0                 0.0                    0.0   \n",
       "1                 1.0                    0.0   \n",
       "\n",
       "                         ...                         \\\n",
       "0                        ...                          \n",
       "1                        ...                          \n",
       "\n",
       "   Respiradores do SUS a cada 100 mil habitantes  \\\n",
       "0                                        0.00000   \n",
       "1                                       32.52019   \n",
       "\n",
       "   Total de Respiradores do SUS  Total de Leitos de UTI  \\\n",
       "0                           0.0                     0.0   \n",
       "1                        2185.0                  2587.0   \n",
       "\n",
       "   Leitos de UTI a cada 100 mil habitantes  Leitos de UTI do SUS  \\\n",
       "0                                 0.000000                   0.0   \n",
       "1                                38.503309                 516.0   \n",
       "\n",
       "   Leitos do SUS a cada 100 mil habitantes  \\\n",
       "0                                 0.000000   \n",
       "1                                 7.679825   \n",
       "\n",
       "   Trabalhadores informais na unidade da Federação (julho 2019)  \\\n",
       "0                                        246144.9512              \n",
       "1                                        400968.4169              \n",
       "\n",
       "   Trabalhadores informais nas Regiões Metropolitas (julho 2019)  \\\n",
       "0                                         46269.2774               \n",
       "1                                        283551.4756               \n",
       "\n",
       "   Trabalhadores informais Capital (julho 2019)  \\\n",
       "0                                    27553.9531   \n",
       "1                                   178536.6888   \n",
       "\n",
       "   Trabalhadores informais no Interior (julho 2019)  \n",
       "0                                       199875.6738  \n",
       "1                                       117416.9413  \n",
       "\n",
       "[2 rows x 32 columns]"
      ]
     },
     "execution_count": 4,
     "metadata": {},
     "output_type": "execute_result"
    }
   ],
   "source": [
    "df_demais = pd.read_csv('merged_datasets_datasus_ibgenoticias_v5.csv', sep=',')\n",
    "df_demais.head(2)"
   ]
  },
  {
   "cell_type": "code",
   "execution_count": 5,
   "metadata": {},
   "outputs": [
    {
     "data": {
      "text/plain": [
       "(819947, 32)"
      ]
     },
     "execution_count": 5,
     "metadata": {},
     "output_type": "execute_result"
    }
   ],
   "source": [
    "df_demais.shape"
   ]
  },
  {
   "cell_type": "code",
   "execution_count": 6,
   "metadata": {
    "colab": {
     "base_uri": "https://localhost:8080/",
     "height": 216
    },
    "id": "nlMinmzOsc7c",
    "outputId": "3d60e915-d6a8-4612-b1f0-f9ff1531f379"
   },
   "outputs": [
    {
     "data": {
      "text/html": [
       "<div>\n",
       "<style scoped>\n",
       "    .dataframe tbody tr th:only-of-type {\n",
       "        vertical-align: middle;\n",
       "    }\n",
       "\n",
       "    .dataframe tbody tr th {\n",
       "        vertical-align: top;\n",
       "    }\n",
       "\n",
       "    .dataframe thead th {\n",
       "        text-align: right;\n",
       "    }\n",
       "</style>\n",
       "<table border=\"1\" class=\"dataframe\">\n",
       "  <thead>\n",
       "    <tr style=\"text-align: right;\">\n",
       "      <th></th>\n",
       "      <th>ID_MUNICIP</th>\n",
       "      <th>SG_UF_NOT</th>\n",
       "      <th>DT_NOTIFIC</th>\n",
       "      <th>ocupacaoSuspeitoCli</th>\n",
       "      <th>ocupacaoSuspeitoUti</th>\n",
       "      <th>ocupacaoConfirmadoCli</th>\n",
       "      <th>ocupacaoConfirmadoUti</th>\n",
       "      <th>saidaSuspeitaObitos</th>\n",
       "      <th>saidaSuspeitaAltas</th>\n",
       "      <th>saidaConfirmadaObitos</th>\n",
       "      <th>...</th>\n",
       "      <th>Respiradores do SUS a cada 100 mil habitantes</th>\n",
       "      <th>Total de Respiradores do SUS</th>\n",
       "      <th>Total de Leitos de UTI</th>\n",
       "      <th>Leitos de UTI a cada 100 mil habitantes</th>\n",
       "      <th>Leitos de UTI do SUS</th>\n",
       "      <th>Leitos do SUS a cada 100 mil habitantes</th>\n",
       "      <th>Trabalhadores informais na unidade da Federação (julho 2019)</th>\n",
       "      <th>Trabalhadores informais nas Regiões Metropolitas (julho 2019)</th>\n",
       "      <th>Trabalhadores informais Capital (julho 2019)</th>\n",
       "      <th>Trabalhadores informais no Interior (julho 2019)</th>\n",
       "    </tr>\n",
       "  </thead>\n",
       "  <tbody>\n",
       "    <tr>\n",
       "      <th>0</th>\n",
       "      <td>ITAPEMA</td>\n",
       "      <td>SC</td>\n",
       "      <td>14/04/2020</td>\n",
       "      <td>0.0</td>\n",
       "      <td>0.0</td>\n",
       "      <td>0.0</td>\n",
       "      <td>0.0</td>\n",
       "      <td>0.0</td>\n",
       "      <td>0.0</td>\n",
       "      <td>0.0</td>\n",
       "      <td>...</td>\n",
       "      <td>0.00000</td>\n",
       "      <td>0.0</td>\n",
       "      <td>0.0</td>\n",
       "      <td>0.000000</td>\n",
       "      <td>0.0</td>\n",
       "      <td>0.000000</td>\n",
       "      <td>246144.9512</td>\n",
       "      <td>46269.2774</td>\n",
       "      <td>27553.9531</td>\n",
       "      <td>199875.6738</td>\n",
       "    </tr>\n",
       "    <tr>\n",
       "      <th>1</th>\n",
       "      <td>RIO DE JANEIRO</td>\n",
       "      <td>RJ</td>\n",
       "      <td>15/04/2020</td>\n",
       "      <td>1.0</td>\n",
       "      <td>0.0</td>\n",
       "      <td>0.0</td>\n",
       "      <td>0.0</td>\n",
       "      <td>0.0</td>\n",
       "      <td>1.0</td>\n",
       "      <td>0.0</td>\n",
       "      <td>...</td>\n",
       "      <td>32.52019</td>\n",
       "      <td>2185.0</td>\n",
       "      <td>2587.0</td>\n",
       "      <td>38.503309</td>\n",
       "      <td>516.0</td>\n",
       "      <td>7.679825</td>\n",
       "      <td>400968.4169</td>\n",
       "      <td>283551.4756</td>\n",
       "      <td>178536.6888</td>\n",
       "      <td>117416.9413</td>\n",
       "    </tr>\n",
       "  </tbody>\n",
       "</table>\n",
       "<p>2 rows × 32 columns</p>\n",
       "</div>"
      ],
      "text/plain": [
       "       ID_MUNICIP SG_UF_NOT  DT_NOTIFIC  ocupacaoSuspeitoCli  \\\n",
       "0         ITAPEMA        SC  14/04/2020                  0.0   \n",
       "1  RIO DE JANEIRO        RJ  15/04/2020                  1.0   \n",
       "\n",
       "   ocupacaoSuspeitoUti  ocupacaoConfirmadoCli  ocupacaoConfirmadoUti  \\\n",
       "0                  0.0                    0.0                    0.0   \n",
       "1                  0.0                    0.0                    0.0   \n",
       "\n",
       "   saidaSuspeitaObitos  saidaSuspeitaAltas  saidaConfirmadaObitos  \\\n",
       "0                  0.0                 0.0                    0.0   \n",
       "1                  0.0                 1.0                    0.0   \n",
       "\n",
       "                         ...                         \\\n",
       "0                        ...                          \n",
       "1                        ...                          \n",
       "\n",
       "   Respiradores do SUS a cada 100 mil habitantes  \\\n",
       "0                                        0.00000   \n",
       "1                                       32.52019   \n",
       "\n",
       "   Total de Respiradores do SUS  Total de Leitos de UTI  \\\n",
       "0                           0.0                     0.0   \n",
       "1                        2185.0                  2587.0   \n",
       "\n",
       "   Leitos de UTI a cada 100 mil habitantes  Leitos de UTI do SUS  \\\n",
       "0                                 0.000000                   0.0   \n",
       "1                                38.503309                 516.0   \n",
       "\n",
       "   Leitos do SUS a cada 100 mil habitantes  \\\n",
       "0                                 0.000000   \n",
       "1                                 7.679825   \n",
       "\n",
       "   Trabalhadores informais na unidade da Federação (julho 2019)  \\\n",
       "0                                        246144.9512              \n",
       "1                                        400968.4169              \n",
       "\n",
       "   Trabalhadores informais nas Regiões Metropolitas (julho 2019)  \\\n",
       "0                                         46269.2774               \n",
       "1                                        283551.4756               \n",
       "\n",
       "   Trabalhadores informais Capital (julho 2019)  \\\n",
       "0                                    27553.9531   \n",
       "1                                   178536.6888   \n",
       "\n",
       "   Trabalhadores informais no Interior (julho 2019)  \n",
       "0                                       199875.6738  \n",
       "1                                       117416.9413  \n",
       "\n",
       "[2 rows x 32 columns]"
      ]
     },
     "execution_count": 6,
     "metadata": {},
     "output_type": "execute_result"
    }
   ],
   "source": [
    "df_demais = df_demais.rename(columns={'ID_MN_RESI':'ID_MUNICIP'})\n",
    "df_demais = df_demais.rename(columns={'SG_UF': 'SG_UF_NOT'})\n",
    "df_demais.head(2)"
   ]
  },
  {
   "cell_type": "code",
   "execution_count": 7,
   "metadata": {
    "colab": {
     "base_uri": "https://localhost:8080/",
     "height": 216
    },
    "id": "GmkuANLJdoIw",
    "outputId": "0d35503c-5d6a-4739-9df9-34b315b2f7ce"
   },
   "outputs": [
    {
     "data": {
      "text/html": [
       "<div>\n",
       "<style scoped>\n",
       "    .dataframe tbody tr th:only-of-type {\n",
       "        vertical-align: middle;\n",
       "    }\n",
       "\n",
       "    .dataframe tbody tr th {\n",
       "        vertical-align: top;\n",
       "    }\n",
       "\n",
       "    .dataframe thead th {\n",
       "        text-align: right;\n",
       "    }\n",
       "</style>\n",
       "<table border=\"1\" class=\"dataframe\">\n",
       "  <thead>\n",
       "    <tr style=\"text-align: right;\">\n",
       "      <th></th>\n",
       "      <th>ID_MUNICIP</th>\n",
       "      <th>SG_UF_NOT</th>\n",
       "      <th>DT_NOTIFIC</th>\n",
       "      <th>ocupacaoSuspeitoCli</th>\n",
       "      <th>ocupacaoSuspeitoUti</th>\n",
       "      <th>ocupacaoConfirmadoCli</th>\n",
       "      <th>ocupacaoConfirmadoUti</th>\n",
       "      <th>saidaSuspeitaObitos</th>\n",
       "      <th>saidaSuspeitaAltas</th>\n",
       "      <th>saidaConfirmadaObitos</th>\n",
       "      <th>...</th>\n",
       "      <th>Total de Respiradores do SUS</th>\n",
       "      <th>Total de Leitos de UTI</th>\n",
       "      <th>Leitos de UTI a cada 100 mil habitantes</th>\n",
       "      <th>Leitos de UTI do SUS</th>\n",
       "      <th>Leitos do SUS a cada 100 mil habitantes</th>\n",
       "      <th>Trabalhadores informais na unidade da Federação (julho 2019)</th>\n",
       "      <th>Trabalhadores informais nas Regiões Metropolitas (julho 2019)</th>\n",
       "      <th>Trabalhadores informais Capital (julho 2019)</th>\n",
       "      <th>Trabalhadores informais no Interior (julho 2019)</th>\n",
       "      <th>concat</th>\n",
       "    </tr>\n",
       "  </thead>\n",
       "  <tbody>\n",
       "    <tr>\n",
       "      <th>0</th>\n",
       "      <td>ITAPEMA</td>\n",
       "      <td>SC</td>\n",
       "      <td>14/04/2020</td>\n",
       "      <td>0.0</td>\n",
       "      <td>0.0</td>\n",
       "      <td>0.0</td>\n",
       "      <td>0.0</td>\n",
       "      <td>0.0</td>\n",
       "      <td>0.0</td>\n",
       "      <td>0.0</td>\n",
       "      <td>...</td>\n",
       "      <td>0.0</td>\n",
       "      <td>0.0</td>\n",
       "      <td>0.000000</td>\n",
       "      <td>0.0</td>\n",
       "      <td>0.000000</td>\n",
       "      <td>246144.9512</td>\n",
       "      <td>46269.2774</td>\n",
       "      <td>27553.9531</td>\n",
       "      <td>199875.6738</td>\n",
       "      <td>ITAPEMASC14/04/2020</td>\n",
       "    </tr>\n",
       "    <tr>\n",
       "      <th>1</th>\n",
       "      <td>RIO DE JANEIRO</td>\n",
       "      <td>RJ</td>\n",
       "      <td>15/04/2020</td>\n",
       "      <td>1.0</td>\n",
       "      <td>0.0</td>\n",
       "      <td>0.0</td>\n",
       "      <td>0.0</td>\n",
       "      <td>0.0</td>\n",
       "      <td>1.0</td>\n",
       "      <td>0.0</td>\n",
       "      <td>...</td>\n",
       "      <td>2185.0</td>\n",
       "      <td>2587.0</td>\n",
       "      <td>38.503309</td>\n",
       "      <td>516.0</td>\n",
       "      <td>7.679825</td>\n",
       "      <td>400968.4169</td>\n",
       "      <td>283551.4756</td>\n",
       "      <td>178536.6888</td>\n",
       "      <td>117416.9413</td>\n",
       "      <td>RIO DE JANEIRORJ15/04/2020</td>\n",
       "    </tr>\n",
       "  </tbody>\n",
       "</table>\n",
       "<p>2 rows × 33 columns</p>\n",
       "</div>"
      ],
      "text/plain": [
       "       ID_MUNICIP SG_UF_NOT  DT_NOTIFIC  ocupacaoSuspeitoCli  \\\n",
       "0         ITAPEMA        SC  14/04/2020                  0.0   \n",
       "1  RIO DE JANEIRO        RJ  15/04/2020                  1.0   \n",
       "\n",
       "   ocupacaoSuspeitoUti  ocupacaoConfirmadoCli  ocupacaoConfirmadoUti  \\\n",
       "0                  0.0                    0.0                    0.0   \n",
       "1                  0.0                    0.0                    0.0   \n",
       "\n",
       "   saidaSuspeitaObitos  saidaSuspeitaAltas  saidaConfirmadaObitos  \\\n",
       "0                  0.0                 0.0                    0.0   \n",
       "1                  0.0                 1.0                    0.0   \n",
       "\n",
       "              ...              Total de Respiradores do SUS  \\\n",
       "0             ...                                       0.0   \n",
       "1             ...                                    2185.0   \n",
       "\n",
       "   Total de Leitos de UTI  Leitos de UTI a cada 100 mil habitantes  \\\n",
       "0                     0.0                                 0.000000   \n",
       "1                  2587.0                                38.503309   \n",
       "\n",
       "   Leitos de UTI do SUS  Leitos do SUS a cada 100 mil habitantes  \\\n",
       "0                   0.0                                 0.000000   \n",
       "1                 516.0                                 7.679825   \n",
       "\n",
       "   Trabalhadores informais na unidade da Federação (julho 2019)  \\\n",
       "0                                        246144.9512              \n",
       "1                                        400968.4169              \n",
       "\n",
       "   Trabalhadores informais nas Regiões Metropolitas (julho 2019)  \\\n",
       "0                                         46269.2774               \n",
       "1                                        283551.4756               \n",
       "\n",
       "   Trabalhadores informais Capital (julho 2019)  \\\n",
       "0                                    27553.9531   \n",
       "1                                   178536.6888   \n",
       "\n",
       "   Trabalhadores informais no Interior (julho 2019)  \\\n",
       "0                                       199875.6738   \n",
       "1                                       117416.9413   \n",
       "\n",
       "                       concat  \n",
       "0         ITAPEMASC14/04/2020  \n",
       "1  RIO DE JANEIRORJ15/04/2020  \n",
       "\n",
       "[2 rows x 33 columns]"
      ]
     },
     "execution_count": 7,
     "metadata": {},
     "output_type": "execute_result"
    }
   ],
   "source": [
    "df_demais['concat'] = df_demais['ID_MUNICIP'] + df_demais['SG_UF_NOT'] + df_demais['DT_NOTIFIC']\n",
    "df_demais.head(2)"
   ]
  },
  {
   "cell_type": "code",
   "execution_count": 8,
   "metadata": {
    "colab": {
     "base_uri": "https://localhost:8080/",
     "height": 245
    },
    "id": "PbQYzFOxfREJ",
    "outputId": "053fc8ef-2005-4681-95a7-bd3cf70a8c9c"
   },
   "outputs": [
    {
     "data": {
      "text/html": [
       "<div>\n",
       "<style scoped>\n",
       "    .dataframe tbody tr th:only-of-type {\n",
       "        vertical-align: middle;\n",
       "    }\n",
       "\n",
       "    .dataframe tbody tr th {\n",
       "        vertical-align: top;\n",
       "    }\n",
       "\n",
       "    .dataframe thead th {\n",
       "        text-align: right;\n",
       "    }\n",
       "</style>\n",
       "<table border=\"1\" class=\"dataframe\">\n",
       "  <thead>\n",
       "    <tr style=\"text-align: right;\">\n",
       "      <th></th>\n",
       "      <th>DT_NOTIFIC</th>\n",
       "      <th>SEM_NOT</th>\n",
       "      <th>DT_SIN_PRI</th>\n",
       "      <th>SEM_PRI</th>\n",
       "      <th>SG_UF_NOT</th>\n",
       "      <th>ID_REGIONA</th>\n",
       "      <th>CO_REGIONA</th>\n",
       "      <th>ID_MUNICIP</th>\n",
       "      <th>CO_MUN_NOT</th>\n",
       "      <th>ID_UNIDADE</th>\n",
       "      <th>...</th>\n",
       "      <th>TP_AM_SOR</th>\n",
       "      <th>SOR_OUT</th>\n",
       "      <th>DT_CO_SOR</th>\n",
       "      <th>TP_SOR</th>\n",
       "      <th>OUT_SOR</th>\n",
       "      <th>DT_RES</th>\n",
       "      <th>RES_IGG</th>\n",
       "      <th>RES_IGM</th>\n",
       "      <th>RES_IGA</th>\n",
       "      <th>concat</th>\n",
       "    </tr>\n",
       "  </thead>\n",
       "  <tbody>\n",
       "    <tr>\n",
       "      <th>0</th>\n",
       "      <td>14/01/2020</td>\n",
       "      <td>3</td>\n",
       "      <td>07/01/2020</td>\n",
       "      <td>2</td>\n",
       "      <td>SP</td>\n",
       "      <td>GVE I CAPITAL</td>\n",
       "      <td>1331.0</td>\n",
       "      <td>SAO PAULO</td>\n",
       "      <td>355030</td>\n",
       "      <td>HOSPITAL SAO LUIZ GONZAGA</td>\n",
       "      <td>...</td>\n",
       "      <td>NaN</td>\n",
       "      <td>NaN</td>\n",
       "      <td>NaN</td>\n",
       "      <td>NaN</td>\n",
       "      <td>NaN</td>\n",
       "      <td>NaN</td>\n",
       "      <td>NaN</td>\n",
       "      <td>NaN</td>\n",
       "      <td>NaN</td>\n",
       "      <td>SAO PAULOSP14/01/2020</td>\n",
       "    </tr>\n",
       "    <tr>\n",
       "      <th>1</th>\n",
       "      <td>28/01/2020</td>\n",
       "      <td>5</td>\n",
       "      <td>27/01/2020</td>\n",
       "      <td>5</td>\n",
       "      <td>SP</td>\n",
       "      <td>GVE I CAPITAL</td>\n",
       "      <td>1331.0</td>\n",
       "      <td>SAO PAULO</td>\n",
       "      <td>355030</td>\n",
       "      <td>HOSPITAL SAO CAMILO SANTANA</td>\n",
       "      <td>...</td>\n",
       "      <td>NaN</td>\n",
       "      <td>NaN</td>\n",
       "      <td>NaN</td>\n",
       "      <td>NaN</td>\n",
       "      <td>NaN</td>\n",
       "      <td>NaN</td>\n",
       "      <td>NaN</td>\n",
       "      <td>NaN</td>\n",
       "      <td>NaN</td>\n",
       "      <td>SAO PAULOSP28/01/2020</td>\n",
       "    </tr>\n",
       "  </tbody>\n",
       "</table>\n",
       "<p>2 rows × 155 columns</p>\n",
       "</div>"
      ],
      "text/plain": [
       "   DT_NOTIFIC  SEM_NOT  DT_SIN_PRI  SEM_PRI SG_UF_NOT     ID_REGIONA  \\\n",
       "0  14/01/2020        3  07/01/2020        2        SP  GVE I CAPITAL   \n",
       "1  28/01/2020        5  27/01/2020        5        SP  GVE I CAPITAL   \n",
       "\n",
       "   CO_REGIONA ID_MUNICIP  CO_MUN_NOT                   ID_UNIDADE  \\\n",
       "0      1331.0  SAO PAULO      355030    HOSPITAL SAO LUIZ GONZAGA   \n",
       "1      1331.0  SAO PAULO      355030  HOSPITAL SAO CAMILO SANTANA   \n",
       "\n",
       "           ...            TP_AM_SOR SOR_OUT DT_CO_SOR  TP_SOR  OUT_SOR DT_RES  \\\n",
       "0          ...                  NaN     NaN       NaN     NaN      NaN    NaN   \n",
       "1          ...                  NaN     NaN       NaN     NaN      NaN    NaN   \n",
       "\n",
       "   RES_IGG  RES_IGM RES_IGA                 concat  \n",
       "0      NaN      NaN     NaN  SAO PAULOSP14/01/2020  \n",
       "1      NaN      NaN     NaN  SAO PAULOSP28/01/2020  \n",
       "\n",
       "[2 rows x 155 columns]"
      ]
     },
     "execution_count": 8,
     "metadata": {},
     "output_type": "execute_result"
    }
   ],
   "source": [
    "df_main['concat'] = df_main['ID_MUNICIP'] + df_main['SG_UF_NOT'] + df_main['DT_NOTIFIC']\n",
    "df_main.head(2)"
   ]
  },
  {
   "cell_type": "code",
   "execution_count": 9,
   "metadata": {
    "id": "rYKTuxe8prLo"
   },
   "outputs": [],
   "source": [
    "df_demais= df_demais.drop_duplicates()"
   ]
  },
  {
   "cell_type": "code",
   "execution_count": 10,
   "metadata": {},
   "outputs": [
    {
     "data": {
      "text/plain": [
       "(794687, 33)"
      ]
     },
     "execution_count": 10,
     "metadata": {},
     "output_type": "execute_result"
    }
   ],
   "source": [
    "df_demais.shape"
   ]
  },
  {
   "cell_type": "code",
   "execution_count": 11,
   "metadata": {},
   "outputs": [],
   "source": [
    "df = df_demais.drop_duplicates(subset='concat', keep='first')"
   ]
  },
  {
   "cell_type": "code",
   "execution_count": 12,
   "metadata": {},
   "outputs": [
    {
     "data": {
      "text/plain": [
       "(500826, 33)"
      ]
     },
     "execution_count": 12,
     "metadata": {},
     "output_type": "execute_result"
    }
   ],
   "source": [
    "df.shape"
   ]
  },
  {
   "cell_type": "code",
   "execution_count": 13,
   "metadata": {
    "id": "oCnmCDHul1A4"
   },
   "outputs": [],
   "source": [
    "df_principal = df_main.merge(df, on = ['concat'], how='left')"
   ]
  },
  {
   "cell_type": "code",
   "execution_count": 14,
   "metadata": {},
   "outputs": [
    {
     "data": {
      "text/plain": [
       "(1189743, 187)"
      ]
     },
     "execution_count": 14,
     "metadata": {},
     "output_type": "execute_result"
    }
   ],
   "source": [
    "df_principal.shape"
   ]
  },
  {
   "cell_type": "markdown",
   "metadata": {},
   "source": [
    "Bases do PIB"
   ]
  },
  {
   "cell_type": "code",
   "execution_count": 15,
   "metadata": {
    "id": "JZ3vTDFrn-_r"
   },
   "outputs": [],
   "source": [
    "df_pib = pd.read_excel('ibge_PIB_tabela_tratada.xlsx', sheet_name = 'Maiores PIB')\n",
    "df_pib_per_capta = pd.read_excel('ibge_PIB_tabela_tratada.xlsx', sheet_name = 'Maiores PIB Per capta')"
   ]
  },
  {
   "cell_type": "code",
   "execution_count": 16,
   "metadata": {
    "id": "_xwqaRNe0vuX"
   },
   "outputs": [],
   "source": [
    "# Função para remover a acentuação\n",
    "def remove_accentuation(df):\n",
    "    return df.apply(lambda item: unidecode.unidecode(item))\n",
    "\n",
    "# Função para deixar os termos em letra maiúscula \n",
    "def to_uppercase(df):\n",
    "    return df.apply(lambda item: item.strip().upper())"
   ]
  },
  {
   "cell_type": "code",
   "execution_count": 17,
   "metadata": {
    "colab": {
     "base_uri": "https://localhost:8080/",
     "height": 419
    },
    "id": "JfoYCH9CneEI",
    "outputId": "e4f9c456-7d45-4ced-b41d-342b689b65b1"
   },
   "outputs": [],
   "source": [
    "df_pib['ID_MUNICIP'] = remove_accentuation(df_pib['Municípios '])\n",
    "df_pib['ID_MUNICIP'] = to_uppercase(df_pib['ID_MUNICIP'])\n",
    "#df_pib"
   ]
  },
  {
   "cell_type": "code",
   "execution_count": 18,
   "metadata": {
    "colab": {
     "base_uri": "https://localhost:8080/"
    },
    "id": "YRZet1h05dLy",
    "outputId": "0c6c4a6b-209a-4069-c85e-bec4fb5404ca"
   },
   "outputs": [],
   "source": [
    "#df_pib.keys()"
   ]
  },
  {
   "cell_type": "code",
   "execution_count": 19,
   "metadata": {
    "colab": {
     "base_uri": "https://localhost:8080/",
     "height": 419
    },
    "id": "DOt-B_pR4Oz3",
    "outputId": "94747ae8-adf8-4e0a-9e9b-e975892bf2dd"
   },
   "outputs": [],
   "source": [
    "df_pib_per_capta['ID_MUNICIP'] = remove_accentuation(df_pib_per_capta['Municípios'])\n",
    "df_pib_per_capta['ID_MUNICIP'] = to_uppercase(df_pib_per_capta['ID_MUNICIP'])\n",
    "#df_pib_per_capta"
   ]
  },
  {
   "cell_type": "code",
   "execution_count": 20,
   "metadata": {
    "id": "jC93WBvI51Sg"
   },
   "outputs": [],
   "source": [
    "df_principal['ID_MUNICIP'] = df_principal['ID_MUNICIP_x']"
   ]
  },
  {
   "cell_type": "code",
   "execution_count": 21,
   "metadata": {
    "id": "wWAECgLpsc7d"
   },
   "outputs": [],
   "source": [
    "df_principal_01 = df_principal.merge(df_pib, on = ['ID_MUNICIP'], how='left')"
   ]
  },
  {
   "cell_type": "code",
   "execution_count": 22,
   "metadata": {},
   "outputs": [],
   "source": [
    "df_principal_v1 = df_principal_01.merge(df_pib_per_capta, on = ['ID_MUNICIP'], how='left')"
   ]
  },
  {
   "cell_type": "code",
   "execution_count": 23,
   "metadata": {
    "id": "lzJREP8esc7d"
   },
   "outputs": [
    {
     "data": {
      "text/plain": [
       "(1189743, 194)"
      ]
     },
     "execution_count": 23,
     "metadata": {},
     "output_type": "execute_result"
    }
   ],
   "source": [
    "df_principal_v1.shape"
   ]
  },
  {
   "cell_type": "markdown",
   "metadata": {},
   "source": [
    "# Eliminando variáveis com redundancia"
   ]
  },
  {
   "cell_type": "code",
   "execution_count": 24,
   "metadata": {},
   "outputs": [],
   "source": [
    "df = pd.DataFrame(df_principal_v1, columns=['DT_NOTIFIC_x','SG_UF_NOT_x','ID_MUNICIP_x','CS_SEXO','DT_NASC','NU_IDADE_N','CS_GESTANT','CS_RACA','CS_ETINIA','CS_ESCOL_N','SG_UF','CO_MUN_RES','CS_ZONA','SURTO_SG','NOSOCOMIAL','AVE_SUINO','FEBRE','TOSSE','GARGANTA','DISPNEIA','DESC_RESP','SATURACAO','DIARREIA','VOMITO','OUTRO_SIN','OUTRO_DES','PUERPERA','FATOR_RISC','CARDIOPATI','HEMATOLOGI','SIND_DOWN','HEPATICA','ASMA','DIABETES','NEUROLOGIC','PNEUMOPATI','IMUNODEPRE','RENAL','OBESIDADE','OBES_IMC','OUT_MORBI','MORB_DESC','VACINA','DT_UT_DOSE','MAE_VAC','M_AMAMENTA','DT_DOSEUNI','DT_1_DOSE','DT_2_DOSE','ANTIVIRAL','TP_ANTIVIR','OUT_ANTIV','DT_ANTIVIR','HOSPITAL','UTI','SUPORT_VEN','RAIOX_RES','RAIOX_OUT','AMOSTRA','TP_AMOSTRA','DT_NOTIFIC_x','SG_UF_NOT_x','ID_MUNICIP_x''OUT_AMOST','PCR_RESUL','POS_PCRFLU','TP_FLU_PCR','PCR_FLUASU','FLUASU_OUT','PCR_FLUBLI','FLUBLI_OUT','POS_PCROUT','PCR_VSR','PCR_PARA1','PCR_PARA2','PCR_PARA3','PCR_PARA4','PCR_ADENO','PCR_METAP','PCR_BOCA','PCR_RINO','PCR_OUTRO','DS_PCR_OUT','CLASSI_FIN','CLASSI_OUT','CRITERIO','EVOLUCAO','HISTO_VGM','PAIS_VGM','CO_PS_VGM','LO_PS_VGM','PCR_SARS2','PAC_COCBO','PAC_DSCBO','OUT_ANIM','DOR_ABD','FADIGA','PERD_OLFT','PERD_PALA','TOMO_RES','TOMO_OUT','DT_TOMO','TP_TES_AN','RES_AN','POS_AN_FLU','TP_FLU_AN','POS_AN_OUT','AN_SARS2','AN_VSR','AN_PARA1','AN_PARA2','AN_PARA3','AN_ADENO','AN_OUTRO','DS_AN_OUT','TP_AM_SOR','SOR_OUT','DT_CO_SOR','TP_SOR','OUT_SOR','RES_IGG','RES_IGM','RES_IGA','concat','ocupacaoSuspeitoCli','ocupacaoSuspeitoUti','ocupacaoConfirmadoCli','ocupacaoConfirmadoUti','saidaSuspeitaObitos','saidaSuspeitaAltas','saidaConfirmadaObitos','saidaConfirmadaAltas','População Estimada (2019)','Total de Enfermeiros','Enfermeiros do SUS','Enfermeiros a cada 100 mil habitantes','Enfermeiros do SUS a cada 100 mil habitantes','Total de médicos','Médicos do SUS','Médicos a cada 100 mil habitantes','Médicos do SUS a cada 100 mil habitantes','Total de Respiradores','Respiradores a cada 100 mil habitantes','Respiradores do SUS a cada 100 mil habitantes','Total de Respiradores do SUS','Total de Leitos de UTI','Leitos de UTI a cada 100 mil habitantes','Leitos de UTI do SUS','Leitos do SUS a cada 100 mil habitantes','Trabalhadores informais na unidade da Federação (julho 2019)','Trabalhadores informais nas Regiões Metropolitas (julho 2019)','Trabalhadores informais Capital (julho 2019)','Trabalhadores informais no Interior (julho 2019)','ID_MUNICIP','Municípios ','Posição ocu- pada pelos 100 maiores municípios PIB','Flag_100_maiores_municipios_PIB','Municípios','Posição ocupada pelos 100 maiores municípios, o per capita','Flag_100_maiores_municipios_PIB_per_capta'])"
   ]
  },
  {
   "cell_type": "code",
   "execution_count": 25,
   "metadata": {},
   "outputs": [
    {
     "data": {
      "text/plain": [
       "(1189743, 159)"
      ]
     },
     "execution_count": 25,
     "metadata": {},
     "output_type": "execute_result"
    }
   ],
   "source": [
    "df.shape"
   ]
  },
  {
   "cell_type": "code",
   "execution_count": 26,
   "metadata": {},
   "outputs": [],
   "source": [
    "df.head(10).to_csv(\"df_final.csv\", index=False)"
   ]
  },
  {
   "cell_type": "code",
   "execution_count": 27,
   "metadata": {},
   "outputs": [],
   "source": [
    "df_main.head(10).to_csv(\"df_final2.csv\", index=False)"
   ]
  },
  {
   "cell_type": "markdown",
   "metadata": {},
   "source": [
    "# Variável Resposta"
   ]
  },
  {
   "cell_type": "code",
   "execution_count": 29,
   "metadata": {},
   "outputs": [
    {
     "data": {
      "text/plain": [
       "EVOLUCAO\n",
       "1.0    696675\n",
       "2.0    300504\n",
       "3.0     13939\n",
       "9.0     31028\n",
       "dtype: int64"
      ]
     },
     "execution_count": 29,
     "metadata": {},
     "output_type": "execute_result"
    }
   ],
   "source": [
    "df.groupby(by='EVOLUCAO').size()"
   ]
  },
  {
   "cell_type": "markdown",
   "metadata": {},
   "source": [
    "EVOLUÇÃO:\n",
    "    1-Cura\n",
    "    2-Obito\n",
    "    3-Obito por outra causa\n",
    "    4-Ignorado\n",
    "    "
   ]
  },
  {
   "cell_type": "code",
   "execution_count": 30,
   "metadata": {},
   "outputs": [],
   "source": [
    "df['resposta'] = np.where(df['EVOLUCAO']== 2.0,1,0)"
   ]
  },
  {
   "cell_type": "code",
   "execution_count": 31,
   "metadata": {},
   "outputs": [
    {
     "data": {
      "text/html": [
       "<div>\n",
       "<style scoped>\n",
       "    .dataframe tbody tr th:only-of-type {\n",
       "        vertical-align: middle;\n",
       "    }\n",
       "\n",
       "    .dataframe tbody tr th {\n",
       "        vertical-align: top;\n",
       "    }\n",
       "\n",
       "    .dataframe thead th {\n",
       "        text-align: right;\n",
       "    }\n",
       "</style>\n",
       "<table border=\"1\" class=\"dataframe\">\n",
       "  <thead>\n",
       "    <tr style=\"text-align: right;\">\n",
       "      <th></th>\n",
       "      <th>DT_NOTIFIC_x</th>\n",
       "      <th>SG_UF_NOT_x</th>\n",
       "      <th>ID_MUNICIP_x</th>\n",
       "      <th>CS_SEXO</th>\n",
       "      <th>DT_NASC</th>\n",
       "      <th>NU_IDADE_N</th>\n",
       "      <th>CS_GESTANT</th>\n",
       "      <th>CS_RACA</th>\n",
       "      <th>CS_ETINIA</th>\n",
       "      <th>CS_ESCOL_N</th>\n",
       "      <th>...</th>\n",
       "      <th>Trabalhadores informais Capital (julho 2019)</th>\n",
       "      <th>Trabalhadores informais no Interior (julho 2019)</th>\n",
       "      <th>ID_MUNICIP</th>\n",
       "      <th>Municípios</th>\n",
       "      <th>Posição ocu- pada pelos 100 maiores municípios PIB</th>\n",
       "      <th>Flag_100_maiores_municipios_PIB</th>\n",
       "      <th>Municípios</th>\n",
       "      <th>Posição ocupada pelos 100 maiores municípios, o per capita</th>\n",
       "      <th>Flag_100_maiores_municipios_PIB_per_capta</th>\n",
       "      <th>resposta</th>\n",
       "    </tr>\n",
       "  </thead>\n",
       "  <tbody>\n",
       "    <tr>\n",
       "      <th>0</th>\n",
       "      <td>14/01/2020</td>\n",
       "      <td>SP</td>\n",
       "      <td>SAO PAULO</td>\n",
       "      <td>F</td>\n",
       "      <td>27/04/2019</td>\n",
       "      <td>9</td>\n",
       "      <td>6</td>\n",
       "      <td>4.0</td>\n",
       "      <td>NaN</td>\n",
       "      <td>5.0</td>\n",
       "      <td>...</td>\n",
       "      <td>NaN</td>\n",
       "      <td>NaN</td>\n",
       "      <td>SAO PAULO</td>\n",
       "      <td>São Paulo</td>\n",
       "      <td>NaN</td>\n",
       "      <td>1.0</td>\n",
       "      <td>NaN</td>\n",
       "      <td>NaN</td>\n",
       "      <td>NaN</td>\n",
       "      <td>0</td>\n",
       "    </tr>\n",
       "    <tr>\n",
       "      <th>1</th>\n",
       "      <td>28/01/2020</td>\n",
       "      <td>SP</td>\n",
       "      <td>SAO PAULO</td>\n",
       "      <td>M</td>\n",
       "      <td>09/03/2019</td>\n",
       "      <td>10</td>\n",
       "      <td>6</td>\n",
       "      <td>9.0</td>\n",
       "      <td>NaN</td>\n",
       "      <td>5.0</td>\n",
       "      <td>...</td>\n",
       "      <td>NaN</td>\n",
       "      <td>NaN</td>\n",
       "      <td>SAO PAULO</td>\n",
       "      <td>São Paulo</td>\n",
       "      <td>NaN</td>\n",
       "      <td>1.0</td>\n",
       "      <td>NaN</td>\n",
       "      <td>NaN</td>\n",
       "      <td>NaN</td>\n",
       "      <td>0</td>\n",
       "    </tr>\n",
       "    <tr>\n",
       "      <th>2</th>\n",
       "      <td>17/02/2020</td>\n",
       "      <td>RS</td>\n",
       "      <td>BENTO GONCALVES</td>\n",
       "      <td>M</td>\n",
       "      <td>25/07/2019</td>\n",
       "      <td>7</td>\n",
       "      <td>6</td>\n",
       "      <td>1.0</td>\n",
       "      <td>NaN</td>\n",
       "      <td>5.0</td>\n",
       "      <td>...</td>\n",
       "      <td>NaN</td>\n",
       "      <td>NaN</td>\n",
       "      <td>BENTO GONCALVES</td>\n",
       "      <td>NaN</td>\n",
       "      <td>NaN</td>\n",
       "      <td>NaN</td>\n",
       "      <td>NaN</td>\n",
       "      <td>NaN</td>\n",
       "      <td>NaN</td>\n",
       "      <td>0</td>\n",
       "    </tr>\n",
       "    <tr>\n",
       "      <th>3</th>\n",
       "      <td>27/01/2020</td>\n",
       "      <td>MG</td>\n",
       "      <td>BELO HORIZONTE</td>\n",
       "      <td>M</td>\n",
       "      <td>04/07/1940</td>\n",
       "      <td>79</td>\n",
       "      <td>6</td>\n",
       "      <td>4.0</td>\n",
       "      <td>NaN</td>\n",
       "      <td>9.0</td>\n",
       "      <td>...</td>\n",
       "      <td>NaN</td>\n",
       "      <td>NaN</td>\n",
       "      <td>BELO HORIZONTE</td>\n",
       "      <td>Belo Horizonte</td>\n",
       "      <td>NaN</td>\n",
       "      <td>1.0</td>\n",
       "      <td>NaN</td>\n",
       "      <td>NaN</td>\n",
       "      <td>NaN</td>\n",
       "      <td>0</td>\n",
       "    </tr>\n",
       "    <tr>\n",
       "      <th>4</th>\n",
       "      <td>10/03/2020</td>\n",
       "      <td>RS</td>\n",
       "      <td>PORTO ALEGRE</td>\n",
       "      <td>M</td>\n",
       "      <td>19/01/1983</td>\n",
       "      <td>37</td>\n",
       "      <td>6</td>\n",
       "      <td>2.0</td>\n",
       "      <td>NaN</td>\n",
       "      <td>2.0</td>\n",
       "      <td>...</td>\n",
       "      <td>NaN</td>\n",
       "      <td>NaN</td>\n",
       "      <td>PORTO ALEGRE</td>\n",
       "      <td>Porto Alegre</td>\n",
       "      <td>NaN</td>\n",
       "      <td>1.0</td>\n",
       "      <td>NaN</td>\n",
       "      <td>NaN</td>\n",
       "      <td>NaN</td>\n",
       "      <td>0</td>\n",
       "    </tr>\n",
       "    <tr>\n",
       "      <th>5</th>\n",
       "      <td>03/03/2020</td>\n",
       "      <td>GO</td>\n",
       "      <td>JATAI</td>\n",
       "      <td>M</td>\n",
       "      <td>30/10/1999</td>\n",
       "      <td>20</td>\n",
       "      <td>6</td>\n",
       "      <td>4.0</td>\n",
       "      <td>NaN</td>\n",
       "      <td>3.0</td>\n",
       "      <td>...</td>\n",
       "      <td>NaN</td>\n",
       "      <td>NaN</td>\n",
       "      <td>JATAI</td>\n",
       "      <td>NaN</td>\n",
       "      <td>NaN</td>\n",
       "      <td>NaN</td>\n",
       "      <td>NaN</td>\n",
       "      <td>NaN</td>\n",
       "      <td>NaN</td>\n",
       "      <td>0</td>\n",
       "    </tr>\n",
       "    <tr>\n",
       "      <th>6</th>\n",
       "      <td>23/03/2020</td>\n",
       "      <td>SP</td>\n",
       "      <td>SAO PAULO</td>\n",
       "      <td>F</td>\n",
       "      <td>17/09/1997</td>\n",
       "      <td>22</td>\n",
       "      <td>5</td>\n",
       "      <td>1.0</td>\n",
       "      <td>NaN</td>\n",
       "      <td>3.0</td>\n",
       "      <td>...</td>\n",
       "      <td>NaN</td>\n",
       "      <td>NaN</td>\n",
       "      <td>SAO PAULO</td>\n",
       "      <td>São Paulo</td>\n",
       "      <td>NaN</td>\n",
       "      <td>1.0</td>\n",
       "      <td>NaN</td>\n",
       "      <td>NaN</td>\n",
       "      <td>NaN</td>\n",
       "      <td>0</td>\n",
       "    </tr>\n",
       "    <tr>\n",
       "      <th>7</th>\n",
       "      <td>24/03/2020</td>\n",
       "      <td>SP</td>\n",
       "      <td>SAO SEBASTIAO</td>\n",
       "      <td>M</td>\n",
       "      <td>05/01/1944</td>\n",
       "      <td>76</td>\n",
       "      <td>6</td>\n",
       "      <td>4.0</td>\n",
       "      <td>NaN</td>\n",
       "      <td>NaN</td>\n",
       "      <td>...</td>\n",
       "      <td>NaN</td>\n",
       "      <td>NaN</td>\n",
       "      <td>SAO SEBASTIAO</td>\n",
       "      <td>NaN</td>\n",
       "      <td>NaN</td>\n",
       "      <td>NaN</td>\n",
       "      <td>NaN</td>\n",
       "      <td>NaN</td>\n",
       "      <td>NaN</td>\n",
       "      <td>0</td>\n",
       "    </tr>\n",
       "    <tr>\n",
       "      <th>8</th>\n",
       "      <td>14/03/2020</td>\n",
       "      <td>SP</td>\n",
       "      <td>SAO PAULO</td>\n",
       "      <td>M</td>\n",
       "      <td>14/05/1980</td>\n",
       "      <td>39</td>\n",
       "      <td>6</td>\n",
       "      <td>NaN</td>\n",
       "      <td>NaN</td>\n",
       "      <td>NaN</td>\n",
       "      <td>...</td>\n",
       "      <td>NaN</td>\n",
       "      <td>NaN</td>\n",
       "      <td>SAO PAULO</td>\n",
       "      <td>São Paulo</td>\n",
       "      <td>NaN</td>\n",
       "      <td>1.0</td>\n",
       "      <td>NaN</td>\n",
       "      <td>NaN</td>\n",
       "      <td>NaN</td>\n",
       "      <td>0</td>\n",
       "    </tr>\n",
       "    <tr>\n",
       "      <th>9</th>\n",
       "      <td>23/03/2020</td>\n",
       "      <td>SP</td>\n",
       "      <td>SAO PAULO</td>\n",
       "      <td>F</td>\n",
       "      <td>08/05/1997</td>\n",
       "      <td>22</td>\n",
       "      <td>9</td>\n",
       "      <td>1.0</td>\n",
       "      <td>NaN</td>\n",
       "      <td>4.0</td>\n",
       "      <td>...</td>\n",
       "      <td>NaN</td>\n",
       "      <td>NaN</td>\n",
       "      <td>SAO PAULO</td>\n",
       "      <td>São Paulo</td>\n",
       "      <td>NaN</td>\n",
       "      <td>1.0</td>\n",
       "      <td>NaN</td>\n",
       "      <td>NaN</td>\n",
       "      <td>NaN</td>\n",
       "      <td>0</td>\n",
       "    </tr>\n",
       "  </tbody>\n",
       "</table>\n",
       "<p>10 rows × 160 columns</p>\n",
       "</div>"
      ],
      "text/plain": [
       "  DT_NOTIFIC_x SG_UF_NOT_x     ID_MUNICIP_x CS_SEXO     DT_NASC  NU_IDADE_N  \\\n",
       "0   14/01/2020          SP        SAO PAULO       F  27/04/2019           9   \n",
       "1   28/01/2020          SP        SAO PAULO       M  09/03/2019          10   \n",
       "2   17/02/2020          RS  BENTO GONCALVES       M  25/07/2019           7   \n",
       "3   27/01/2020          MG   BELO HORIZONTE       M  04/07/1940          79   \n",
       "4   10/03/2020          RS     PORTO ALEGRE       M  19/01/1983          37   \n",
       "5   03/03/2020          GO            JATAI       M  30/10/1999          20   \n",
       "6   23/03/2020          SP        SAO PAULO       F  17/09/1997          22   \n",
       "7   24/03/2020          SP    SAO SEBASTIAO       M  05/01/1944          76   \n",
       "8   14/03/2020          SP        SAO PAULO       M  14/05/1980          39   \n",
       "9   23/03/2020          SP        SAO PAULO       F  08/05/1997          22   \n",
       "\n",
       "   CS_GESTANT  CS_RACA CS_ETINIA  CS_ESCOL_N    ...     \\\n",
       "0           6      4.0       NaN         5.0    ...      \n",
       "1           6      9.0       NaN         5.0    ...      \n",
       "2           6      1.0       NaN         5.0    ...      \n",
       "3           6      4.0       NaN         9.0    ...      \n",
       "4           6      2.0       NaN         2.0    ...      \n",
       "5           6      4.0       NaN         3.0    ...      \n",
       "6           5      1.0       NaN         3.0    ...      \n",
       "7           6      4.0       NaN         NaN    ...      \n",
       "8           6      NaN       NaN         NaN    ...      \n",
       "9           9      1.0       NaN         4.0    ...      \n",
       "\n",
       "  Trabalhadores informais Capital (julho 2019)  \\\n",
       "0                                          NaN   \n",
       "1                                          NaN   \n",
       "2                                          NaN   \n",
       "3                                          NaN   \n",
       "4                                          NaN   \n",
       "5                                          NaN   \n",
       "6                                          NaN   \n",
       "7                                          NaN   \n",
       "8                                          NaN   \n",
       "9                                          NaN   \n",
       "\n",
       "   Trabalhadores informais no Interior (julho 2019)       ID_MUNICIP  \\\n",
       "0                                               NaN        SAO PAULO   \n",
       "1                                               NaN        SAO PAULO   \n",
       "2                                               NaN  BENTO GONCALVES   \n",
       "3                                               NaN   BELO HORIZONTE   \n",
       "4                                               NaN     PORTO ALEGRE   \n",
       "5                                               NaN            JATAI   \n",
       "6                                               NaN        SAO PAULO   \n",
       "7                                               NaN    SAO SEBASTIAO   \n",
       "8                                               NaN        SAO PAULO   \n",
       "9                                               NaN        SAO PAULO   \n",
       "\n",
       "       Municípios   Posição ocu- pada pelos 100 maiores municípios PIB  \\\n",
       "0       São Paulo                                                 NaN    \n",
       "1       São Paulo                                                 NaN    \n",
       "2              NaN                                                NaN    \n",
       "3  Belo Horizonte                                                 NaN    \n",
       "4    Porto Alegre                                                 NaN    \n",
       "5              NaN                                                NaN    \n",
       "6       São Paulo                                                 NaN    \n",
       "7              NaN                                                NaN    \n",
       "8       São Paulo                                                 NaN    \n",
       "9       São Paulo                                                 NaN    \n",
       "\n",
       "   Flag_100_maiores_municipios_PIB  Municípios  \\\n",
       "0                              1.0         NaN   \n",
       "1                              1.0         NaN   \n",
       "2                              NaN         NaN   \n",
       "3                              1.0         NaN   \n",
       "4                              1.0         NaN   \n",
       "5                              NaN         NaN   \n",
       "6                              1.0         NaN   \n",
       "7                              NaN         NaN   \n",
       "8                              1.0         NaN   \n",
       "9                              1.0         NaN   \n",
       "\n",
       "   Posição ocupada pelos 100 maiores municípios, o per capita  \\\n",
       "0                                                NaN            \n",
       "1                                                NaN            \n",
       "2                                                NaN            \n",
       "3                                                NaN            \n",
       "4                                                NaN            \n",
       "5                                                NaN            \n",
       "6                                                NaN            \n",
       "7                                                NaN            \n",
       "8                                                NaN            \n",
       "9                                                NaN            \n",
       "\n",
       "   Flag_100_maiores_municipios_PIB_per_capta  resposta  \n",
       "0                                        NaN         0  \n",
       "1                                        NaN         0  \n",
       "2                                        NaN         0  \n",
       "3                                        NaN         0  \n",
       "4                                        NaN         0  \n",
       "5                                        NaN         0  \n",
       "6                                        NaN         0  \n",
       "7                                        NaN         0  \n",
       "8                                        NaN         0  \n",
       "9                                        NaN         0  \n",
       "\n",
       "[10 rows x 160 columns]"
      ]
     },
     "execution_count": 31,
     "metadata": {},
     "output_type": "execute_result"
    }
   ],
   "source": [
    "df.head(10)"
   ]
  },
  {
   "cell_type": "code",
   "execution_count": 32,
   "metadata": {},
   "outputs": [
    {
     "data": {
      "text/plain": [
       "EVOLUCAO  resposta\n",
       "1.0       0           696675\n",
       "2.0       1           300504\n",
       "3.0       0            13939\n",
       "9.0       0            31028\n",
       "dtype: int64"
      ]
     },
     "execution_count": 32,
     "metadata": {},
     "output_type": "execute_result"
    }
   ],
   "source": [
    "df.groupby(by=['EVOLUCAO','resposta']).size()"
   ]
  },
  {
   "cell_type": "code",
   "execution_count": 33,
   "metadata": {},
   "outputs": [],
   "source": [
    "df.head(10).to_csv(\"df.csv\", index=False)"
   ]
  },
  {
   "cell_type": "markdown",
   "metadata": {},
   "source": [
    "# CORRELAÇÕES"
   ]
  },
  {
   "cell_type": "code",
   "execution_count": null,
   "metadata": {},
   "outputs": [],
   "source": [
    "correlacao = df[df.columns[:]].corr()['resposta']"
   ]
  },
  {
   "cell_type": "code",
   "execution_count": null,
   "metadata": {},
   "outputs": [],
   "source": [
    "correlacao.to_csv(\"correlacao.csv\")"
   ]
  },
  {
   "cell_type": "markdown",
   "metadata": {},
   "source": [
    "# Analises Bivariadas: Variavel X Resposta"
   ]
  },
  {
   "cell_type": "markdown",
   "metadata": {},
   "source": [
    "Quando a variavel é categorica, faremos tabelas cruzadas de contagem por categoria X resposta letalidade. Para variáveis continuas, exploraremos outras metricas de tendencia central"
   ]
  },
  {
   "cell_type": "code",
   "execution_count": 34,
   "metadata": {},
   "outputs": [],
   "source": [
    "idade = df.groupby(by=['NU_IDADE_N','resposta']).size()"
   ]
  },
  {
   "cell_type": "code",
   "execution_count": 73,
   "metadata": {},
   "outputs": [],
   "source": [
    "idade.to_csv(\"idade.csv\")"
   ]
  },
  {
   "cell_type": "markdown",
   "metadata": {},
   "source": [
    "Explorando caracteristicas da variavel continua"
   ]
  },
  {
   "cell_type": "code",
   "execution_count": 35,
   "metadata": {},
   "outputs": [
    {
     "name": "stdout",
     "output_type": "stream",
     "text": [
      "MEDIA = 56.744226274077675\n",
      "MEDIANA = 60.0\n",
      "MODA = 66\n",
      "DESVIO_PADRAO = 22.49598017517659\n",
      "\n",
      "Q1 = 43.0\n",
      "Q2 = 60.0\n",
      "Q3 = 74.0\n",
      "Q4 = 148\n",
      "\n",
      "Limite Superior = 120.5\n",
      "Limite Inferior = -3.5\n",
      "\n",
      "Correlacao = 0.3082483341157743\n",
      "Quantidade de outliers 10\n",
      "Quantidade valores faltantes 0\n"
     ]
    }
   ],
   "source": [
    "MEDIANA = df['NU_IDADE_N'].median()\n",
    "        \n",
    "print('MEDIA =', df['NU_IDADE_N'].mean())\n",
    "print('MEDIANA =',MEDIANA)\n",
    "print('MODA =',df['NU_IDADE_N'].mode()[0])\n",
    "print('DESVIO_PADRAO =',df['NU_IDADE_N'].std())\n",
    "print('')\n",
    "        \n",
    "Q1 = df['NU_IDADE_N'].quantile(0.25)\n",
    "Q2 = df['NU_IDADE_N'].quantile(0.50)\n",
    "Q3 = df['NU_IDADE_N'].quantile(0.75)\n",
    "Q4 = df['NU_IDADE_N'].max()\n",
    "        \n",
    "print('Q1 =', Q1)\n",
    "print('Q2 =', Q2)\n",
    "print('Q3 =', Q3)\n",
    "print('Q4 =', Q4)\n",
    "print('')\n",
    "        \n",
    "LS = Q3+(1.5*(Q3-Q1))\n",
    "LI = Q1-(1.5*(Q3-Q1))\n",
    "#\n",
    "print('Limite Superior =',LS)\n",
    "print('Limite Inferior =',LI)\n",
    "print('')\n",
    "print('Correlacao =',df['NU_IDADE_N'].corr(df['resposta']))\n",
    "        \n",
    "print('Quantidade de outliers', df[df['NU_IDADE_N'] > LS]['NU_IDADE_N'].count())\n",
    "        \n",
    "df.loc[df['NU_IDADE_N'] > LS, 'NU_IDADE_N'] = -1\n",
    "df['NU_IDADE_N'].replace(-1,LS,inplace=True)\n",
    "        \n",
    "print(\"Quantidade valores faltantes\",df.isnull().sum()['NU_IDADE_N'])\n",
    "        "
   ]
  },
  {
   "cell_type": "markdown",
   "metadata": {},
   "source": [
    "Boxplot"
   ]
  },
  {
   "cell_type": "code",
   "execution_count": 37,
   "metadata": {},
   "outputs": [],
   "source": [
    "import matplotlib.pyplot as plt\n",
    "\n",
    "idade = df['NU_IDADE_N']\n",
    "idade_descri = idade.describe()\n",
    "\n",
    "with open('idade_descri.txt', 'w') as f:\n",
    "    idade_descri.to_string(f)\n",
    "\n",
    "q1 = idade_descri['25%']\n",
    "mediana = idade_descri['50%']\n",
    "q2 = idade_descri['75%']\n",
    "\n",
    "s_q1 = \"{0:.2f}\".format(q1)\n",
    "s_mediana = \"{0:.2f}\".format(mediana)\n",
    "s_q2 = \"{0:.2f}\".format(q2)\n",
    "\n",
    "font_1 = {'family': 'serif', 'color': 'darkred', 'size':'14'}\n",
    "\n",
    "plt.figure(figsize=(6, 7))\n",
    "plt.boxplot(idade)\n",
    "plt.title('Boxplot Idade')\n",
    "plt.ylabel('Idade')\n",
    "plt.text(1, q1, s_q1, fontdict=font_1)\n",
    "plt.text(1, mediana, s_mediana, fontdict=font_1)\n",
    "plt.text(1, q2, s_q2, fontdict=font_1)\n",
    "plt.savefig('idade-boxplot.png')\n",
    "plt.close()"
   ]
  },
  {
   "cell_type": "code",
   "execution_count": 75,
   "metadata": {},
   "outputs": [
    {
     "data": {
      "text/plain": [
       "SUPORT_VEN  resposta\n",
       "1.0         0            59633\n",
       "            1           113970\n",
       "2.0         0           395676\n",
       "            1            98323\n",
       "3.0         0           277546\n",
       "            1            32296\n",
       "9.0         0            35223\n",
       "            1            14045\n",
       "dtype: int64"
      ]
     },
     "execution_count": 75,
     "metadata": {},
     "output_type": "execute_result"
    }
   ],
   "source": [
    "df.groupby(by=['SUPORT_VEN','resposta']).size()"
   ]
  },
  {
   "cell_type": "code",
   "execution_count": 76,
   "metadata": {},
   "outputs": [
    {
     "data": {
      "text/plain": [
       "CLASSI_FIN  resposta\n",
       "1.0         0             2320\n",
       "            1              314\n",
       "2.0         0             4322\n",
       "            1              312\n",
       "3.0         0             2459\n",
       "            1              699\n",
       "4.0         0           336782\n",
       "            1            79083\n",
       "5.0         0           469735\n",
       "            1           218503\n",
       "dtype: int64"
      ]
     },
     "execution_count": 76,
     "metadata": {},
     "output_type": "execute_result"
    }
   ],
   "source": [
    "df.groupby(by=['CLASSI_FIN','resposta']).size()"
   ]
  },
  {
   "cell_type": "code",
   "execution_count": 77,
   "metadata": {},
   "outputs": [
    {
     "data": {
      "text/plain": [
       "UTI  resposta\n",
       "1.0  0           191685\n",
       "     1           150138\n",
       "2.0  0           553126\n",
       "     1            97159\n",
       "9.0  0            19390\n",
       "     1             7387\n",
       "dtype: int64"
      ]
     },
     "execution_count": 77,
     "metadata": {},
     "output_type": "execute_result"
    }
   ],
   "source": [
    "df.groupby(by=['UTI','resposta']).size()"
   ]
  },
  {
   "cell_type": "code",
   "execution_count": 78,
   "metadata": {},
   "outputs": [
    {
     "data": {
      "text/plain": [
       "PCR_RESUL  resposta\n",
       "1.0        0           364374\n",
       "           1           167315\n",
       "2.0        0           317949\n",
       "           1            77284\n",
       "3.0        0             4207\n",
       "           1             1428\n",
       "4.0        0            37512\n",
       "           1            14863\n",
       "5.0        0            92106\n",
       "           1            16568\n",
       "9.0        0             1526\n",
       "           1             1085\n",
       "dtype: int64"
      ]
     },
     "execution_count": 78,
     "metadata": {},
     "output_type": "execute_result"
    }
   ],
   "source": [
    "df.groupby(by=['PCR_RESUL','resposta']).size()"
   ]
  },
  {
   "cell_type": "code",
   "execution_count": 79,
   "metadata": {},
   "outputs": [
    {
     "data": {
      "text/plain": [
       "VACINA  resposta\n",
       "1.0     0           125378\n",
       "        1            33448\n",
       "2.0     0           256351\n",
       "        1            70640\n",
       "9.0     0           321316\n",
       "        1           130505\n",
       "dtype: int64"
      ]
     },
     "execution_count": 79,
     "metadata": {},
     "output_type": "execute_result"
    }
   ],
   "source": [
    "df.groupby(by=['VACINA','resposta']).size()"
   ]
  },
  {
   "cell_type": "code",
   "execution_count": 80,
   "metadata": {},
   "outputs": [
    {
     "data": {
      "text/plain": [
       "GARGANTA  resposta\n",
       "1.0       0           159993\n",
       "          1            38797\n",
       "2.0       0           498084\n",
       "          1           167152\n",
       "9.0       0            19260\n",
       "          1            11668\n",
       "dtype: int64"
      ]
     },
     "execution_count": 80,
     "metadata": {},
     "output_type": "execute_result"
    }
   ],
   "source": [
    "df.groupby(by=['GARGANTA','resposta']).size()"
   ]
  },
  {
   "cell_type": "code",
   "execution_count": 81,
   "metadata": {},
   "outputs": [
    {
     "data": {
      "text/plain": [
       "TOSSE  resposta\n",
       "1.0    0           611174\n",
       "       1           182055\n",
       "2.0    0           179722\n",
       "       1            69308\n",
       "9.0    0             8282\n",
       "       1             6750\n",
       "dtype: int64"
      ]
     },
     "execution_count": 81,
     "metadata": {},
     "output_type": "execute_result"
    }
   ],
   "source": [
    "df.groupby(by=['TOSSE','resposta']).size()"
   ]
  },
  {
   "cell_type": "code",
   "execution_count": 82,
   "metadata": {},
   "outputs": [
    {
     "data": {
      "text/plain": [
       "TP_FLU_AN  resposta\n",
       "1.0        0           169\n",
       "           1            29\n",
       "2.0        0           145\n",
       "           1            16\n",
       "dtype: int64"
      ]
     },
     "execution_count": 82,
     "metadata": {},
     "output_type": "execute_result"
    }
   ],
   "source": [
    "df.groupby(by=['TP_FLU_AN','resposta']).size()"
   ]
  },
  {
   "cell_type": "code",
   "execution_count": 92,
   "metadata": {},
   "outputs": [],
   "source": [
    "trab=df.groupby(by=['Trabalhadores informais no Interior (julho 2019)','resposta']).size()\n",
    "trab.to_csv(\"trab.csv\")"
   ]
  },
  {
   "cell_type": "code",
   "execution_count": 84,
   "metadata": {},
   "outputs": [
    {
     "data": {
      "text/plain": [
       "DIARREIA  resposta\n",
       "1.0       0           116317\n",
       "          1            30182\n",
       "2.0       0           532550\n",
       "          1           173987\n",
       "9.0       0            18001\n",
       "          1            11139\n",
       "dtype: int64"
      ]
     },
     "execution_count": 84,
     "metadata": {},
     "output_type": "execute_result"
    }
   ],
   "source": [
    "df.groupby(by=['DIARREIA','resposta']).size()"
   ]
  },
  {
   "cell_type": "code",
   "execution_count": 85,
   "metadata": {},
   "outputs": [
    {
     "data": {
      "text/plain": [
       "PERD_PALA  resposta\n",
       "1.0        0            47562\n",
       "           1             9710\n",
       "2.0        0           337603\n",
       "           1           101519\n",
       "9.0        0            18555\n",
       "           1             9150\n",
       "dtype: int64"
      ]
     },
     "execution_count": 85,
     "metadata": {},
     "output_type": "execute_result"
    }
   ],
   "source": [
    "df.groupby(by=['PERD_PALA','resposta']).size()"
   ]
  },
  {
   "cell_type": "code",
   "execution_count": 86,
   "metadata": {},
   "outputs": [
    {
     "data": {
      "text/plain": [
       "VOMITO  resposta\n",
       "1.0     0            83092\n",
       "        1            21662\n",
       "2.0     0           555826\n",
       "        1           180066\n",
       "9.0     0            18864\n",
       "        1            11399\n",
       "dtype: int64"
      ]
     },
     "execution_count": 86,
     "metadata": {},
     "output_type": "execute_result"
    }
   ],
   "source": [
    "df.groupby(by=['VOMITO','resposta']).size()"
   ]
  },
  {
   "cell_type": "code",
   "execution_count": 87,
   "metadata": {},
   "outputs": [
    {
     "data": {
      "text/plain": [
       "PERD_OLFT  resposta\n",
       "1.0        0            46858\n",
       "           1             9731\n",
       "2.0        0           339365\n",
       "           1           101758\n",
       "9.0        0            18392\n",
       "           1             9064\n",
       "dtype: int64"
      ]
     },
     "execution_count": 87,
     "metadata": {},
     "output_type": "execute_result"
    }
   ],
   "source": [
    "df.groupby(by=['PERD_OLFT','resposta']).size()"
   ]
  },
  {
   "cell_type": "code",
   "execution_count": 93,
   "metadata": {},
   "outputs": [],
   "source": [
    "CO_MUN_RES=df.groupby(by=['CO_MUN_RES','resposta']).size()\n",
    "CO_MUN_RES.to_csv(\"CO_MUN_RES.csv\")"
   ]
  },
  {
   "cell_type": "code",
   "execution_count": null,
   "metadata": {},
   "outputs": [],
   "source": []
  },
  {
   "cell_type": "code",
   "execution_count": 94,
   "metadata": {},
   "outputs": [],
   "source": [
    "trab_fed=df.groupby(by=['Trabalhadores informais na unidade da Federação (julho 2019)','resposta']).size()\n",
    "trab_fed.to_csv(\"trab_fed.csv\")"
   ]
  },
  {
   "cell_type": "code",
   "execution_count": 90,
   "metadata": {},
   "outputs": [
    {
     "data": {
      "text/plain": [
       "FEBRE  resposta\n",
       "1.0    0           516618\n",
       "       1           158127\n",
       "2.0    0           252339\n",
       "       1            87963\n",
       "9.0    0            10154\n",
       "       1             7390\n",
       "dtype: int64"
      ]
     },
     "execution_count": 90,
     "metadata": {},
     "output_type": "execute_result"
    }
   ],
   "source": [
    "df.groupby(by=['FEBRE','resposta']).size()"
   ]
  },
  {
   "cell_type": "code",
   "execution_count": 91,
   "metadata": {},
   "outputs": [
    {
     "data": {
      "text/plain": [
       "OUTRO_SIN  resposta\n",
       "1.0        0           297599\n",
       "           1            80377\n",
       "2.0        0           346908\n",
       "           1           120707\n",
       "9.0        0            22851\n",
       "           1            11646\n",
       "dtype: int64"
      ]
     },
     "execution_count": 91,
     "metadata": {},
     "output_type": "execute_result"
    }
   ],
   "source": [
    "df.groupby(by=['OUTRO_SIN','resposta']).size()"
   ]
  },
  {
   "cell_type": "code",
   "execution_count": 38,
   "metadata": {},
   "outputs": [
    {
     "data": {
      "text/plain": [
       "CARDIOPATI  resposta\n",
       "1.0         0           253419\n",
       "            1           124677\n",
       "2.0         0           169405\n",
       "            1            60380\n",
       "9.0         0             5086\n",
       "            1             2572\n",
       "dtype: int64"
      ]
     },
     "execution_count": 38,
     "metadata": {},
     "output_type": "execute_result"
    }
   ],
   "source": [
    "df.groupby(by=['CARDIOPATI','resposta']).size()"
   ]
  },
  {
   "cell_type": "code",
   "execution_count": 39,
   "metadata": {},
   "outputs": [
    {
     "data": {
      "text/plain": [
       "Flag_100_maiores_municipios_PIB  resposta\n",
       "1.0                              0           572302\n",
       "                                 1           196480\n",
       "dtype: int64"
      ]
     },
     "execution_count": 39,
     "metadata": {},
     "output_type": "execute_result"
    }
   ],
   "source": [
    "df.groupby(by=['Flag_100_maiores_municipios_PIB','resposta']).size()"
   ]
  },
  {
   "cell_type": "code",
   "execution_count": 40,
   "metadata": {},
   "outputs": [
    {
     "data": {
      "text/plain": [
       "Flag_100_maiores_municipios_PIB_per_capta  resposta\n",
       "1.0                                        0           39955\n",
       "                                           1           11864\n",
       "dtype: int64"
      ]
     },
     "execution_count": 40,
     "metadata": {},
     "output_type": "execute_result"
    }
   ],
   "source": [
    "df.groupby(by=['Flag_100_maiores_municipios_PIB_per_capta','resposta']).size()"
   ]
  },
  {
   "cell_type": "code",
   "execution_count": 41,
   "metadata": {},
   "outputs": [
    {
     "data": {
      "text/plain": [
       "OBESIDADE  resposta\n",
       "1.0        0            40228\n",
       "           1            16692\n",
       "2.0        0           294582\n",
       "           1           122170\n",
       "9.0        0            12362\n",
       "           1             6939\n",
       "dtype: int64"
      ]
     },
     "execution_count": 41,
     "metadata": {},
     "output_type": "execute_result"
    }
   ],
   "source": [
    "df.groupby(by=['OBESIDADE','resposta']).size()"
   ]
  },
  {
   "cell_type": "code",
   "execution_count": 42,
   "metadata": {},
   "outputs": [
    {
     "data": {
      "text/plain": [
       "DIABETES  resposta\n",
       "1.0       0           175487\n",
       "          1            90667\n",
       "2.0       0           217934\n",
       "          1            81698\n",
       "9.0       0             6135\n",
       "          1             3166\n",
       "dtype: int64"
      ]
     },
     "execution_count": 42,
     "metadata": {},
     "output_type": "execute_result"
    }
   ],
   "source": [
    "df.groupby(by=['DIABETES','resposta']).size()"
   ]
  },
  {
   "cell_type": "code",
   "execution_count": 43,
   "metadata": {},
   "outputs": [
    {
     "data": {
      "text/plain": [
       "HEMATOLOGI  resposta\n",
       "1.0         0             7273\n",
       "            1             3458\n",
       "2.0         0           322997\n",
       "            1           134351\n",
       "9.0         0             9187\n",
       "            1             5080\n",
       "dtype: int64"
      ]
     },
     "execution_count": 43,
     "metadata": {},
     "output_type": "execute_result"
    }
   ],
   "source": [
    "df.groupby(by=['HEMATOLOGI','resposta']).size()"
   ]
  },
  {
   "cell_type": "code",
   "execution_count": 44,
   "metadata": {},
   "outputs": [
    {
     "data": {
      "text/plain": [
       "SIND_DOWN  resposta\n",
       "1.0        0             2654\n",
       "           1             1005\n",
       "2.0        0           327150\n",
       "           1           136630\n",
       "9.0        0             8346\n",
       "           1             4481\n",
       "dtype: int64"
      ]
     },
     "execution_count": 44,
     "metadata": {},
     "output_type": "execute_result"
    }
   ],
   "source": [
    "df.groupby(by=['SIND_DOWN','resposta']).size()"
   ]
  },
  {
   "cell_type": "code",
   "execution_count": 45,
   "metadata": {},
   "outputs": [
    {
     "data": {
      "text/plain": [
       "HEPATICA  resposta\n",
       "1.0       0             7116\n",
       "          1             4811\n",
       "2.0       0           322100\n",
       "          1           133017\n",
       "9.0       0             9114\n",
       "          1             5010\n",
       "dtype: int64"
      ]
     },
     "execution_count": 45,
     "metadata": {},
     "output_type": "execute_result"
    }
   ],
   "source": [
    "df.groupby(by=['HEPATICA','resposta']).size()"
   ]
  },
  {
   "cell_type": "code",
   "execution_count": 46,
   "metadata": {},
   "outputs": [
    {
     "data": {
      "text/plain": [
       "OUT_MORBI  resposta\n",
       "1.0        0           214184\n",
       "           1           102269\n",
       "2.0        0           173271\n",
       "           1            66651\n",
       "9.0        0             6649\n",
       "           1             3185\n",
       "dtype: int64"
      ]
     },
     "execution_count": 46,
     "metadata": {},
     "output_type": "execute_result"
    }
   ],
   "source": [
    "df.groupby(by=['OUT_MORBI','resposta']).size()"
   ]
  },
  {
   "cell_type": "code",
   "execution_count": 47,
   "metadata": {},
   "outputs": [
    {
     "data": {
      "text/plain": [
       "IMUNODEPRE  resposta\n",
       "1.0         0            24772\n",
       "            1            13114\n",
       "2.0         0           309163\n",
       "            1           126809\n",
       "9.0         0             8890\n",
       "            1             4888\n",
       "dtype: int64"
      ]
     },
     "execution_count": 47,
     "metadata": {},
     "output_type": "execute_result"
    }
   ],
   "source": [
    "df.groupby(by=['IMUNODEPRE','resposta']).size()"
   ]
  },
  {
   "cell_type": "code",
   "execution_count": 48,
   "metadata": {},
   "outputs": [
    {
     "data": {
      "text/plain": [
       "PNEUMOPATI  resposta\n",
       "1.0         0            37996\n",
       "            1            20720\n",
       "2.0         0           300968\n",
       "            1           122583\n",
       "9.0         0             8858\n",
       "            1             4814\n",
       "dtype: int64"
      ]
     },
     "execution_count": 48,
     "metadata": {},
     "output_type": "execute_result"
    }
   ],
   "source": [
    "df.groupby(by=['PNEUMOPATI','resposta']).size()"
   ]
  },
  {
   "cell_type": "code",
   "execution_count": 49,
   "metadata": {},
   "outputs": [
    {
     "data": {
      "text/plain": [
       "RENAL  resposta\n",
       "1.0    0            28078\n",
       "       1            20546\n",
       "2.0    0           307139\n",
       "       1           122742\n",
       "9.0    0             8648\n",
       "       1             4590\n",
       "dtype: int64"
      ]
     },
     "execution_count": 49,
     "metadata": {},
     "output_type": "execute_result"
    }
   ],
   "source": [
    "df.groupby(by=['RENAL','resposta']).size()"
   ]
  },
  {
   "cell_type": "code",
   "execution_count": 50,
   "metadata": {},
   "outputs": [
    {
     "data": {
      "text/plain": [
       "NEUROLOGIC  resposta\n",
       "1.0         0            34463\n",
       "            1            22024\n",
       "2.0         0           303926\n",
       "            1           121881\n",
       "9.0         0             8555\n",
       "            1             4677\n",
       "dtype: int64"
      ]
     },
     "execution_count": 50,
     "metadata": {},
     "output_type": "execute_result"
    }
   ],
   "source": [
    "df.groupby(by=['NEUROLOGIC','resposta']).size()"
   ]
  },
  {
   "cell_type": "code",
   "execution_count": 51,
   "metadata": {},
   "outputs": [],
   "source": [
    "medicos = df.groupby(by=['Médicos a cada 100 mil habitantes','resposta']).size()\n",
    "medicos.to_csv(\"medicos.csv\")"
   ]
  },
  {
   "cell_type": "code",
   "execution_count": 56,
   "metadata": {},
   "outputs": [
    {
     "name": "stdout",
     "output_type": "stream",
     "text": [
      "MEDIA = 309.39680980778866\n",
      "MEDIANA = 322.353702317101\n",
      "MODA = 352.60299462382596\n",
      "DESVIO_PADRAO = 139.21200019412893\n",
      "\n",
      "Q1 = 221.327967806841\n",
      "Q2 = 322.353702317101\n",
      "Q3 = 352.60299462382596\n",
      "Q4 = 2770.70540661973\n",
      "\n",
      "Limite Superior = 549.5155348493034\n",
      "Limite Inferior = 24.41542758136356\n",
      "\n",
      "Correlacao = -0.029379596801477354\n",
      "Quantidade de outliers 78861\n",
      "Quantidade valores faltantes 157502\n"
     ]
    }
   ],
   "source": [
    "MEDIANA = df['Médicos a cada 100 mil habitantes'].median()\n",
    "        \n",
    "print('MEDIA =', df['Médicos a cada 100 mil habitantes'].mean())\n",
    "print('MEDIANA =',MEDIANA)\n",
    "print('MODA =',df['Médicos a cada 100 mil habitantes'].mode()[0])\n",
    "print('DESVIO_PADRAO =',df['Médicos a cada 100 mil habitantes'].std())\n",
    "print('')\n",
    "        \n",
    "Q1 = df['Médicos a cada 100 mil habitantes'].quantile(0.25)\n",
    "Q2 = df['Médicos a cada 100 mil habitantes'].quantile(0.50)\n",
    "Q3 = df['Médicos a cada 100 mil habitantes'].quantile(0.75)\n",
    "Q4 = df['Médicos a cada 100 mil habitantes'].max()\n",
    "        \n",
    "print('Q1 =', Q1)\n",
    "print('Q2 =', Q2)\n",
    "print('Q3 =', Q3)\n",
    "print('Q4 =', Q4)\n",
    "print('')\n",
    "        \n",
    "LS = Q3+(1.5*(Q3-Q1))\n",
    "LI = Q1-(1.5*(Q3-Q1))\n",
    "#\n",
    "print('Limite Superior =',LS)\n",
    "print('Limite Inferior =',LI)\n",
    "print('')\n",
    "print('Correlacao =',df['Médicos a cada 100 mil habitantes'].corr(df['resposta']))\n",
    "        \n",
    "print('Quantidade de outliers', df[df['Médicos a cada 100 mil habitantes'] > LS]['Médicos a cada 100 mil habitantes'].count())\n",
    "        \n",
    "df.loc[df['Médicos a cada 100 mil habitantes'] > LS, 'Médicos a cada 100 mil habitantes'] = -1\n",
    "df['Médicos a cada 100 mil habitantes'].replace(-1,LS,inplace=True)\n",
    "        \n",
    "print(\"Quantidade valores faltantes\",df.isnull().sum()['Médicos a cada 100 mil habitantes'])"
   ]
  },
  {
   "cell_type": "code",
   "execution_count": 57,
   "metadata": {},
   "outputs": [],
   "source": [
    "medicos = df['Médicos a cada 100 mil habitantes']\n",
    "medicos_descri = medicos.describe()\n",
    "\n",
    "with open('medicos_descri.txt', 'w') as f:\n",
    "    medicos_descri.to_string(f)\n",
    "\n",
    "q1 = medicos_descri['25%']\n",
    "mediana = medicos_descri['50%']\n",
    "q2 = medicos_descri['75%']\n",
    "\n",
    "s_q1 = \"{0:.2f}\".format(q1)\n",
    "s_mediana = \"{0:.2f}\".format(mediana)\n",
    "s_q2 = \"{0:.2f}\".format(q2)\n",
    "\n",
    "font_1 = {'family': 'serif', 'color': 'darkred', 'size':'14'}\n",
    "\n",
    "plt.figure(figsize=(6, 7))\n",
    "plt.boxplot(idade)\n",
    "plt.title('Boxplot Medicos a cada 100 K habitantes')\n",
    "plt.ylabel('Medicos')\n",
    "plt.text(1, q1, s_q1, fontdict=font_1)\n",
    "plt.text(1, mediana, s_mediana, fontdict=font_1)\n",
    "plt.text(1, q2, s_q2, fontdict=font_1)\n",
    "plt.savefig('medicos-boxplot.png')\n",
    "plt.close()"
   ]
  },
  {
   "cell_type": "code",
   "execution_count": 58,
   "metadata": {},
   "outputs": [],
   "source": [
    "enfermeiros = df.groupby(by=['Enfermeiros a cada 100 mil habitantes','resposta']).size()\n",
    "enfermeiros.to_csv(\"enfermeiros.csv\")"
   ]
  },
  {
   "cell_type": "code",
   "execution_count": 59,
   "metadata": {},
   "outputs": [
    {
     "name": "stdout",
     "output_type": "stream",
     "text": [
      "MEDIA = 173.74235123844124\n",
      "MEDIANA = 182.978181133162\n",
      "MODA = 192.22131724695498\n",
      "DESVIO_PADRAO = 58.64529446815092\n",
      "\n",
      "Q1 = 125.794670634383\n",
      "Q2 = 182.978181133162\n",
      "Q3 = 198.19133821603901\n",
      "Q4 = 503.868078175895\n",
      "\n",
      "Limite Superior = 306.78633958852305\n",
      "Limite Inferior = 17.19966926189896\n",
      "\n",
      "Correlacao = -0.021361545926277026\n",
      "Quantidade de outliers 10178\n",
      "Quantidade valores faltantes 157502\n"
     ]
    }
   ],
   "source": [
    "MEDIANA = df['Enfermeiros a cada 100 mil habitantes'].median()\n",
    "        \n",
    "print('MEDIA =', df['Enfermeiros a cada 100 mil habitantes'].mean())\n",
    "print('MEDIANA =',MEDIANA)\n",
    "print('MODA =',df['Enfermeiros a cada 100 mil habitantes'].mode()[0])\n",
    "print('DESVIO_PADRAO =',df['Enfermeiros a cada 100 mil habitantes'].std())\n",
    "print('')\n",
    "        \n",
    "Q1 = df['Enfermeiros a cada 100 mil habitantes'].quantile(0.25)\n",
    "Q2 = df['Enfermeiros a cada 100 mil habitantes'].quantile(0.50)\n",
    "Q3 = df['Enfermeiros a cada 100 mil habitantes'].quantile(0.75)\n",
    "Q4 = df['Enfermeiros a cada 100 mil habitantes'].max()\n",
    "        \n",
    "print('Q1 =', Q1)\n",
    "print('Q2 =', Q2)\n",
    "print('Q3 =', Q3)\n",
    "print('Q4 =', Q4)\n",
    "print('')\n",
    "        \n",
    "LS = Q3+(1.5*(Q3-Q1))\n",
    "LI = Q1-(1.5*(Q3-Q1))\n",
    "#\n",
    "print('Limite Superior =',LS)\n",
    "print('Limite Inferior =',LI)\n",
    "print('')\n",
    "print('Correlacao =',df['Enfermeiros a cada 100 mil habitantes'].corr(df['resposta']))\n",
    "        \n",
    "print('Quantidade de outliers', df[df['Enfermeiros a cada 100 mil habitantes'] > LS]['Enfermeiros a cada 100 mil habitantes'].count())\n",
    "        \n",
    "df.loc[df['Enfermeiros a cada 100 mil habitantes'] > LS, 'Enfermeiros a cada 100 mil habitantes'] = -1\n",
    "df['Enfermeiros a cada 100 mil habitantes'].replace(-1,LS,inplace=True)\n",
    "        \n",
    "print(\"Quantidade valores faltantes\",df.isnull().sum()['Enfermeiros a cada 100 mil habitantes'])"
   ]
  },
  {
   "cell_type": "code",
   "execution_count": 61,
   "metadata": {},
   "outputs": [],
   "source": [
    "enf = df['Enfermeiros a cada 100 mil habitantes']\n",
    "enf_descri = enf.describe()\n",
    "\n",
    "with open('enf_descri.txt', 'w') as f:\n",
    "    enf_descri.to_string(f)\n",
    "\n",
    "q1 = enf_descri['25%']\n",
    "mediana = enf_descri['50%']\n",
    "q2 = enf_descri['75%']\n",
    "\n",
    "s_q1 = \"{0:.2f}\".format(q1)\n",
    "s_mediana = \"{0:.2f}\".format(mediana)\n",
    "s_q2 = \"{0:.2f}\".format(q2)\n",
    "\n",
    "font_1 = {'family': 'serif', 'color': 'darkred', 'size':'14'}\n",
    "\n",
    "plt.figure(figsize=(6, 7))\n",
    "plt.boxplot(idade)\n",
    "plt.title('Boxplot Enfermeiros a cada 100 K habitantes')\n",
    "plt.ylabel('ENfermeiros')\n",
    "plt.text(1, q1, s_q1, fontdict=font_1)\n",
    "plt.text(1, mediana, s_mediana, fontdict=font_1)\n",
    "plt.text(1, q2, s_q2, fontdict=font_1)\n",
    "plt.savefig('enfermeiros-boxplot.png')\n",
    "plt.close()"
   ]
  },
  {
   "cell_type": "code",
   "execution_count": 62,
   "metadata": {},
   "outputs": [],
   "source": [
    "respiradores = df.groupby(by=['Respiradores a cada 100 mil habitantes','resposta']).size()\n",
    "respiradores.to_csv(\"respiradores.csv\")"
   ]
  },
  {
   "cell_type": "code",
   "execution_count": 63,
   "metadata": {},
   "outputs": [
    {
     "name": "stdout",
     "output_type": "stream",
     "text": [
      "MEDIA = 51.34953771755825\n",
      "MEDIANA = 54.679193698873796\n",
      "MODA = 58.5454336806256\n",
      "DESVIO_PADRAO = 24.84082172663392\n",
      "\n",
      "Q1 = 36.0094064266253\n",
      "Q2 = 54.679193698873796\n",
      "Q3 = 62.7473246159213\n",
      "Q4 = 175.754912804351\n",
      "\n",
      "Limite Superior = 102.8542018998653\n",
      "Limite Inferior = -4.097470857318704\n",
      "\n",
      "Correlacao = -0.015339420960492118\n",
      "Quantidade de outliers 18052\n",
      "Quantidade valores faltantes 157502\n"
     ]
    }
   ],
   "source": [
    "MEDIANA = df['Respiradores a cada 100 mil habitantes'].median()\n",
    "        \n",
    "print('MEDIA =', df['Respiradores a cada 100 mil habitantes'].mean())\n",
    "print('MEDIANA =',MEDIANA)\n",
    "print('MODA =',df['Respiradores a cada 100 mil habitantes'].mode()[0])\n",
    "print('DESVIO_PADRAO =',df['Respiradores a cada 100 mil habitantes'].std())\n",
    "print('')\n",
    "        \n",
    "Q1 = df['Respiradores a cada 100 mil habitantes'].quantile(0.25)\n",
    "Q2 = df['Respiradores a cada 100 mil habitantes'].quantile(0.50)\n",
    "Q3 = df['Respiradores a cada 100 mil habitantes'].quantile(0.75)\n",
    "Q4 = df['Respiradores a cada 100 mil habitantes'].max()\n",
    "        \n",
    "print('Q1 =', Q1)\n",
    "print('Q2 =', Q2)\n",
    "print('Q3 =', Q3)\n",
    "print('Q4 =', Q4)\n",
    "print('')\n",
    "        \n",
    "LS = Q3+(1.5*(Q3-Q1))\n",
    "LI = Q1-(1.5*(Q3-Q1))\n",
    "#\n",
    "print('Limite Superior =',LS)\n",
    "print('Limite Inferior =',LI)\n",
    "print('')\n",
    "print('Correlacao =',df['Respiradores a cada 100 mil habitantes'].corr(df['resposta']))\n",
    "        \n",
    "print('Quantidade de outliers', df[df['Respiradores a cada 100 mil habitantes'] > LS]['Respiradores a cada 100 mil habitantes'].count())\n",
    "        \n",
    "df.loc[df['Respiradores a cada 100 mil habitantes'] > LS, 'Respiradores a cada 100 mil habitantes'] = -1\n",
    "df['Respiradores a cada 100 mil habitantes'].replace(-1,LS,inplace=True)\n",
    "        \n",
    "print(\"Quantidade valores faltantes\",df.isnull().sum()['Respiradores a cada 100 mil habitantes'])"
   ]
  },
  {
   "cell_type": "code",
   "execution_count": 64,
   "metadata": {},
   "outputs": [],
   "source": [
    "resp = df['Respiradores a cada 100 mil habitantes']\n",
    "resp_descri = resp.describe()\n",
    "\n",
    "with open('resp_descri.txt', 'w') as f:\n",
    "    resp_descri.to_string(f)\n",
    "\n",
    "q1 = resp_descri['25%']\n",
    "mediana = resp_descri['50%']\n",
    "q2 = resp_descri['75%']\n",
    "\n",
    "s_q1 = \"{0:.2f}\".format(q1)\n",
    "s_mediana = \"{0:.2f}\".format(mediana)\n",
    "s_q2 = \"{0:.2f}\".format(q2)\n",
    "\n",
    "font_1 = {'family': 'serif', 'color': 'darkred', 'size':'14'}\n",
    "\n",
    "plt.figure(figsize=(6, 7))\n",
    "plt.boxplot(idade)\n",
    "plt.title('Boxplot Respiradores a cada 100 K habitantes')\n",
    "plt.ylabel('Respiradores')\n",
    "plt.text(1, q1, s_q1, fontdict=font_1)\n",
    "plt.text(1, mediana, s_mediana, fontdict=font_1)\n",
    "plt.text(1, q2, s_q2, fontdict=font_1)\n",
    "plt.savefig('respiradores-boxplot.png')\n",
    "plt.close()"
   ]
  },
  {
   "cell_type": "code",
   "execution_count": 65,
   "metadata": {},
   "outputs": [],
   "source": [
    "leitos = df.groupby(by=['Leitos de UTI a cada 100 mil habitantes','resposta']).size()\n",
    "leitos.to_csv(\"leitos.csv\")"
   ]
  },
  {
   "cell_type": "code",
   "execution_count": 66,
   "metadata": {},
   "outputs": [
    {
     "name": "stdout",
     "output_type": "stream",
     "text": [
      "MEDIA = 28.633024816529346\n",
      "MEDIANA = 28.5993586528526\n",
      "MODA = 28.5993586528526\n",
      "DESVIO_PADRAO = 20.929047766253667\n",
      "\n",
      "Q1 = 17.9478944285957\n",
      "Q2 = 28.5993586528526\n",
      "Q3 = 36.6051699810984\n",
      "Q4 = 228.026848078059\n",
      "\n",
      "Limite Superior = 64.59108330985245\n",
      "Limite Inferior = -10.038018900158352\n",
      "\n",
      "Correlacao = -0.006090743389868601\n",
      "Quantidade de outliers 9759\n",
      "Quantidade valores faltantes 157502\n"
     ]
    }
   ],
   "source": [
    "MEDIANA = df['Leitos de UTI a cada 100 mil habitantes'].median()\n",
    "        \n",
    "print('MEDIA =', df['Leitos de UTI a cada 100 mil habitantes'].mean())\n",
    "print('MEDIANA =',MEDIANA)\n",
    "print('MODA =',df['Leitos de UTI a cada 100 mil habitantes'].mode()[0])\n",
    "print('DESVIO_PADRAO =',df['Leitos de UTI a cada 100 mil habitantes'].std())\n",
    "print('')\n",
    "        \n",
    "Q1 = df['Leitos de UTI a cada 100 mil habitantes'].quantile(0.25)\n",
    "Q2 = df['Leitos de UTI a cada 100 mil habitantes'].quantile(0.50)\n",
    "Q3 = df['Leitos de UTI a cada 100 mil habitantes'].quantile(0.75)\n",
    "Q4 = df['Leitos de UTI a cada 100 mil habitantes'].max()\n",
    "        \n",
    "print('Q1 =', Q1)\n",
    "print('Q2 =', Q2)\n",
    "print('Q3 =', Q3)\n",
    "print('Q4 =', Q4)\n",
    "print('')\n",
    "        \n",
    "LS = Q3+(1.5*(Q3-Q1))\n",
    "LI = Q1-(1.5*(Q3-Q1))\n",
    "#\n",
    "print('Limite Superior =',LS)\n",
    "print('Limite Inferior =',LI)\n",
    "print('')\n",
    "print('Correlacao =',df['Leitos de UTI a cada 100 mil habitantes'].corr(df['resposta']))\n",
    "        \n",
    "print('Quantidade de outliers', df[df['Leitos de UTI a cada 100 mil habitantes'] > LS]['Leitos de UTI a cada 100 mil habitantes'].count())\n",
    "        \n",
    "df.loc[df['Leitos de UTI a cada 100 mil habitantes'] > LS, 'Leitos de UTI a cada 100 mil habitantes'] = -1\n",
    "df['Leitos de UTI a cada 100 mil habitantes'].replace(-1,LS,inplace=True)\n",
    "        \n",
    "print(\"Quantidade valores faltantes\",df.isnull().sum()['Leitos de UTI a cada 100 mil habitantes'])"
   ]
  },
  {
   "cell_type": "code",
   "execution_count": 67,
   "metadata": {},
   "outputs": [],
   "source": [
    "leitos = df['Leitos de UTI a cada 100 mil habitantes']\n",
    "leitos_descri = leitos.describe()\n",
    "\n",
    "with open('leitos_descri.txt', 'w') as f:\n",
    "    leitos_descri.to_string(f)\n",
    "\n",
    "q1 = leitos_descri['25%']\n",
    "mediana = leitos_descri['50%']\n",
    "q2 = leitos_descri['75%']\n",
    "\n",
    "s_q1 = \"{0:.2f}\".format(q1)\n",
    "s_mediana = \"{0:.2f}\".format(mediana)\n",
    "s_q2 = \"{0:.2f}\".format(q2)\n",
    "\n",
    "font_1 = {'family': 'serif', 'color': 'darkred', 'size':'14'}\n",
    "\n",
    "plt.figure(figsize=(6, 7))\n",
    "plt.boxplot(idade)\n",
    "plt.title('Boxplot Leitos a cada 100 K habitantes')\n",
    "plt.ylabel('Leitos')\n",
    "plt.text(1, q1, s_q1, fontdict=font_1)\n",
    "plt.text(1, mediana, s_mediana, fontdict=font_1)\n",
    "plt.text(1, q2, s_q2, fontdict=font_1)\n",
    "plt.savefig('leitos-boxplot.png')\n",
    "plt.close()"
   ]
  },
  {
   "cell_type": "code",
   "execution_count": 68,
   "metadata": {},
   "outputs": [],
   "source": [
    "df.to_csv(\"df_final.csv\", index=False)"
   ]
  }
 ],
 "metadata": {
  "accelerator": "TPU",
  "colab": {
   "collapsed_sections": [],
   "machine_shape": "hm",
   "name": "Centralizacao_de_bases_final.ipynb",
   "provenance": []
  },
  "kernelspec": {
   "display_name": "Python 3",
   "language": "python",
   "name": "python3"
  },
  "language_info": {
   "codemirror_mode": {
    "name": "ipython",
    "version": 3
   },
   "file_extension": ".py",
   "mimetype": "text/x-python",
   "name": "python",
   "nbconvert_exporter": "python",
   "pygments_lexer": "ipython3",
   "version": "3.6.4"
  }
 },
 "nbformat": 4,
 "nbformat_minor": 1
}
