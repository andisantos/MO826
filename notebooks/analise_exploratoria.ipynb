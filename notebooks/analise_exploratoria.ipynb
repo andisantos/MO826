{
 "cells": [
  {
   "cell_type": "code",
   "execution_count": 1,
   "metadata": {},
   "outputs": [],
   "source": [
    "import pandas as pd\n",
    "import seaborn"
   ]
  },
  {
   "cell_type": "markdown",
   "metadata": {},
   "source": [
    "## Carrega arquivos csv "
   ]
  },
  {
   "cell_type": "code",
   "execution_count": null,
   "metadata": {},
   "outputs": [],
   "source": [
    "df = pd.read_csv('dataset/dataset_centralizado.csv', sep = ';')"
   ]
  },
  {
   "cell_type": "markdown",
   "metadata": {},
   "source": [
    "## Imprime algumas estatísticas do dataset\n"
   ]
  },
  {
   "cell_type": "code",
   "execution_count": null,
   "metadata": {},
   "outputs": [],
   "source": [
    "df.describe()"
   ]
  },
  {
   "cell_type": "markdown",
   "metadata": {},
   "source": [
    "## Estatísticas por variável"
   ]
  },
  {
   "cell_type": "code",
   "execution_count": null,
   "metadata": {},
   "outputs": [],
   "source": [
    "COLUNAS_IGNORAR = ['ID_MUNICIP']"
   ]
  },
  {
   "cell_type": "code",
   "execution_count": null,
   "metadata": {},
   "outputs": [],
   "source": [
    "for i in df.drop(columns = COLUNAS_IGNORAR ).columns:\n",
    "    ## mostra qual é a coluna que esta sendo trabalhada\n",
    "    print(f\"\\n=============== Variável {i} ==================\")\n",
    "    try:\n",
    "        MEDIANA = df[i].median()\n",
    "        \n",
    "        print('MEDIA =', df[i].mean())\n",
    "        print('MEDIANA =',MEDIANA)\n",
    "        print('MODA =',df[i].mode()[0])\n",
    "        print('DESVIO_PADRAO =',df[i].std())\n",
    "        print('')\n",
    "        \n",
    "        Q1 = df[i].quantile(0.25)\n",
    "        Q2 = df[i].quantile(0.50)\n",
    "        Q3 = df[i].quantile(0.75)\n",
    "        Q4 = df[i].max()\n",
    "        \n",
    "        print('Q1 =', Q1)\n",
    "        print('Q2 =', Q2)\n",
    "        print('Q3 =', Q3)\n",
    "        print('Q4 =', Q4)\n",
    "        print('')\n",
    "        \n",
    "        LS = Q3+(1.5*(Q3-Q1))\n",
    "        LI = Q1-(1.5*(Q3-Q1))\n",
    "        #\n",
    "        print('Limite Superior =',LS)\n",
    "        print('Limite Inferior =',LI)\n",
    "        print('')\n",
    "        print('Correlacao =',df[i].corr(df['target']))\n",
    "        \n",
    "        print('Quantidade de outliers', df[df[i] > LS][i].count())\n",
    "        \n",
    "        df.loc[df[i] > LS, i] = -1\n",
    "        df[i].replace(-1,LS,inplace=True)\n",
    "        \n",
    "        print(\"Quantidade valores faltantes\",df.isnull().sum()[i])\n",
    "        \n",
    "        if df[i].isnull().sum() * 100 / len(df[i]) < 23:\n",
    "            df[i].fillna(MEDIANA, inplace = True) \n",
    "            \n",
    "        print(\"Quantidade valores faltantes\",df.isnull().sum()[i])\n",
    "        print('Verifica se quantidade de outliers continua', df[df[i] > LS][i].count())\n",
    "        \n",
    "    except:\n",
    "        print('erro')"
   ]
  }
 ],
 "metadata": {
  "kernelspec": {
   "display_name": "Python 3",
   "language": "python",
   "name": "python3"
  },
  "language_info": {
   "codemirror_mode": {
    "name": "ipython",
    "version": 3
   },
   "file_extension": ".py",
   "mimetype": "text/x-python",
   "name": "python",
   "nbconvert_exporter": "python",
   "pygments_lexer": "ipython3",
   "version": "3.8.5"
  }
 },
 "nbformat": 4,
 "nbformat_minor": 4
}
